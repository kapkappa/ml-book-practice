{
 "cells": [
  {
   "cell_type": "markdown",
   "metadata": {
    "colab_type": "text",
    "id": "4NfhxhADJJkr"
   },
   "source": [
    "### Подключение библиотек"
   ]
  },
  {
   "cell_type": "code",
   "execution_count": 1,
   "metadata": {
    "colab": {},
    "colab_type": "code",
    "collapsed": true,
    "id": "yzKiZUpAJJkv"
   },
   "outputs": [],
   "source": [
    "import numpy as np\n",
    "import pandas as pd\n",
    "%matplotlib inline\n",
    "import matplotlib as mpl\n",
    "import matplotlib.pyplot as plt"
   ]
  },
  {
   "cell_type": "markdown",
   "metadata": {
    "colab_type": "text",
    "id": "T7oX4M-_JJk4"
   },
   "source": [
    "### Функции подключения и загрузки"
   ]
  },
  {
   "cell_type": "code",
   "execution_count": 2,
   "metadata": {
    "colab": {},
    "colab_type": "code",
    "collapsed": true,
    "id": "TXXXbswIJJk6"
   },
   "outputs": [],
   "source": [
    "import os\n",
    "import tarfile\n",
    "from six.moves import urllib\n",
    "\n",
    "DOWNLOAD_ROOT = 'https://raw.githubusercontent.com/ageron/handson-ml/master/'\n",
    "HOUSING_PATH = os.path.join('datasets','housing')\n",
    "HOUSING_URL = DOWNLOAD_ROOT + 'datasets/housing/housing.tgz'\n",
    "\n",
    "def fetch_housing_data(housing_url=HOUSING_URL, housing_path=HOUSING_PATH):\n",
    "    if not os.path.isdir(housing_path):\n",
    "        os.makedirs(housing_path)\n",
    "    tgz_path = os.path.join(housing_path,'housin.tgz')\n",
    "    urllib.request.urlretrieve(housing_url, tgz_path)\n",
    "    housing_tgz = tarfile.open(tgz_path)\n",
    "    housing_tgz.extractall(path=housing_path)\n",
    "    housing_tgz.close()\n",
    "    \n",
    "def load_housing_data(housing_path=HOUSING_PATH):\n",
    "    csv_path = os.path.join(housing_path, 'housing.csv')\n",
    "    return pd.read_csv(csv_path)"
   ]
  },
  {
   "cell_type": "markdown",
   "metadata": {
    "colab_type": "text",
    "id": "A_RTrINeJJlC"
   },
   "source": [
    "### Подключение и загрузка данных"
   ]
  },
  {
   "cell_type": "code",
   "execution_count": 3,
   "metadata": {
    "colab": {},
    "colab_type": "code",
    "collapsed": true,
    "id": "hM-cG8NdJJlD"
   },
   "outputs": [],
   "source": [
    "fetch_housing_data()\n",
    "housing = load_housing_data()"
   ]
  },
  {
   "cell_type": "markdown",
   "metadata": {
    "colab_type": "text",
    "id": "rMLl0KdlJJlL"
   },
   "source": [
    "### Ознакомление с данными"
   ]
  },
  {
   "cell_type": "code",
   "execution_count": 4,
   "metadata": {
    "colab": {
     "base_uri": "https://localhost:8080/",
     "height": 202
    },
    "colab_type": "code",
    "collapsed": true,
    "id": "-hVIgWSSJJlN",
    "outputId": "56294078-e9f3-40cb-ad6e-1cdb277f4670"
   },
   "outputs": [
    {
     "data": {
      "text/html": [
       "<div>\n",
       "<style scoped>\n",
       "    .dataframe tbody tr th:only-of-type {\n",
       "        vertical-align: middle;\n",
       "    }\n",
       "\n",
       "    .dataframe tbody tr th {\n",
       "        vertical-align: top;\n",
       "    }\n",
       "\n",
       "    .dataframe thead th {\n",
       "        text-align: right;\n",
       "    }\n",
       "</style>\n",
       "<table border=\"1\" class=\"dataframe\">\n",
       "  <thead>\n",
       "    <tr style=\"text-align: right;\">\n",
       "      <th></th>\n",
       "      <th>longitude</th>\n",
       "      <th>latitude</th>\n",
       "      <th>housing_median_age</th>\n",
       "      <th>total_rooms</th>\n",
       "      <th>total_bedrooms</th>\n",
       "      <th>population</th>\n",
       "      <th>households</th>\n",
       "      <th>median_income</th>\n",
       "      <th>median_house_value</th>\n",
       "      <th>ocean_proximity</th>\n",
       "    </tr>\n",
       "  </thead>\n",
       "  <tbody>\n",
       "    <tr>\n",
       "      <th>0</th>\n",
       "      <td>-122.23</td>\n",
       "      <td>37.88</td>\n",
       "      <td>41.0</td>\n",
       "      <td>880.0</td>\n",
       "      <td>129.0</td>\n",
       "      <td>322.0</td>\n",
       "      <td>126.0</td>\n",
       "      <td>8.3252</td>\n",
       "      <td>452600.0</td>\n",
       "      <td>NEAR BAY</td>\n",
       "    </tr>\n",
       "    <tr>\n",
       "      <th>1</th>\n",
       "      <td>-122.22</td>\n",
       "      <td>37.86</td>\n",
       "      <td>21.0</td>\n",
       "      <td>7099.0</td>\n",
       "      <td>1106.0</td>\n",
       "      <td>2401.0</td>\n",
       "      <td>1138.0</td>\n",
       "      <td>8.3014</td>\n",
       "      <td>358500.0</td>\n",
       "      <td>NEAR BAY</td>\n",
       "    </tr>\n",
       "    <tr>\n",
       "      <th>2</th>\n",
       "      <td>-122.24</td>\n",
       "      <td>37.85</td>\n",
       "      <td>52.0</td>\n",
       "      <td>1467.0</td>\n",
       "      <td>190.0</td>\n",
       "      <td>496.0</td>\n",
       "      <td>177.0</td>\n",
       "      <td>7.2574</td>\n",
       "      <td>352100.0</td>\n",
       "      <td>NEAR BAY</td>\n",
       "    </tr>\n",
       "    <tr>\n",
       "      <th>3</th>\n",
       "      <td>-122.25</td>\n",
       "      <td>37.85</td>\n",
       "      <td>52.0</td>\n",
       "      <td>1274.0</td>\n",
       "      <td>235.0</td>\n",
       "      <td>558.0</td>\n",
       "      <td>219.0</td>\n",
       "      <td>5.6431</td>\n",
       "      <td>341300.0</td>\n",
       "      <td>NEAR BAY</td>\n",
       "    </tr>\n",
       "    <tr>\n",
       "      <th>4</th>\n",
       "      <td>-122.25</td>\n",
       "      <td>37.85</td>\n",
       "      <td>52.0</td>\n",
       "      <td>1627.0</td>\n",
       "      <td>280.0</td>\n",
       "      <td>565.0</td>\n",
       "      <td>259.0</td>\n",
       "      <td>3.8462</td>\n",
       "      <td>342200.0</td>\n",
       "      <td>NEAR BAY</td>\n",
       "    </tr>\n",
       "  </tbody>\n",
       "</table>\n",
       "</div>"
      ],
      "text/plain": [
       "   longitude  latitude  housing_median_age  total_rooms  total_bedrooms  \\\n",
       "0    -122.23     37.88                41.0        880.0           129.0   \n",
       "1    -122.22     37.86                21.0       7099.0          1106.0   \n",
       "2    -122.24     37.85                52.0       1467.0           190.0   \n",
       "3    -122.25     37.85                52.0       1274.0           235.0   \n",
       "4    -122.25     37.85                52.0       1627.0           280.0   \n",
       "\n",
       "   population  households  median_income  median_house_value ocean_proximity  \n",
       "0       322.0       126.0         8.3252            452600.0        NEAR BAY  \n",
       "1      2401.0      1138.0         8.3014            358500.0        NEAR BAY  \n",
       "2       496.0       177.0         7.2574            352100.0        NEAR BAY  \n",
       "3       558.0       219.0         5.6431            341300.0        NEAR BAY  \n",
       "4       565.0       259.0         3.8462            342200.0        NEAR BAY  "
      ]
     },
     "execution_count": 4,
     "metadata": {},
     "output_type": "execute_result"
    }
   ],
   "source": [
    "housing.head()"
   ]
  },
  {
   "cell_type": "code",
   "execution_count": 5,
   "metadata": {
    "colab": {
     "base_uri": "https://localhost:8080/",
     "height": 312
    },
    "colab_type": "code",
    "collapsed": true,
    "id": "AHn3BiZtJJlU",
    "outputId": "60bd47e2-9375-4b29-982e-61881e7e2362"
   },
   "outputs": [
    {
     "name": "stdout",
     "output_type": "stream",
     "text": [
      "<class 'pandas.core.frame.DataFrame'>\n",
      "RangeIndex: 20640 entries, 0 to 20639\n",
      "Data columns (total 10 columns):\n",
      " #   Column              Non-Null Count  Dtype  \n",
      "---  ------              --------------  -----  \n",
      " 0   longitude           20640 non-null  float64\n",
      " 1   latitude            20640 non-null  float64\n",
      " 2   housing_median_age  20640 non-null  float64\n",
      " 3   total_rooms         20640 non-null  float64\n",
      " 4   total_bedrooms      20433 non-null  float64\n",
      " 5   population          20640 non-null  float64\n",
      " 6   households          20640 non-null  float64\n",
      " 7   median_income       20640 non-null  float64\n",
      " 8   median_house_value  20640 non-null  float64\n",
      " 9   ocean_proximity     20640 non-null  object \n",
      "dtypes: float64(9), object(1)\n",
      "memory usage: 1.6+ MB\n"
     ]
    }
   ],
   "source": [
    "housing.info()"
   ]
  },
  {
   "cell_type": "code",
   "execution_count": 6,
   "metadata": {
    "colab": {
     "base_uri": "https://localhost:8080/",
     "height": 121
    },
    "colab_type": "code",
    "collapsed": true,
    "id": "W5bK1OrVJJlc",
    "outputId": "fde6d4f9-40cd-4c94-e4a3-98650d6fa873"
   },
   "outputs": [
    {
     "data": {
      "text/plain": [
       "<1H OCEAN     9136\n",
       "INLAND        6551\n",
       "NEAR OCEAN    2658\n",
       "NEAR BAY      2290\n",
       "ISLAND           5\n",
       "Name: ocean_proximity, dtype: int64"
      ]
     },
     "execution_count": 6,
     "metadata": {},
     "output_type": "execute_result"
    }
   ],
   "source": [
    "housing['ocean_proximity'].value_counts()"
   ]
  },
  {
   "cell_type": "code",
   "execution_count": 7,
   "metadata": {
    "colab": {
     "base_uri": "https://localhost:8080/",
     "height": 294
    },
    "colab_type": "code",
    "collapsed": true,
    "id": "A8tLOvGyJJlk",
    "outputId": "bd2d4d43-37bc-400a-d608-24e2bbf74f7a"
   },
   "outputs": [
    {
     "data": {
      "text/html": [
       "<div>\n",
       "<style scoped>\n",
       "    .dataframe tbody tr th:only-of-type {\n",
       "        vertical-align: middle;\n",
       "    }\n",
       "\n",
       "    .dataframe tbody tr th {\n",
       "        vertical-align: top;\n",
       "    }\n",
       "\n",
       "    .dataframe thead th {\n",
       "        text-align: right;\n",
       "    }\n",
       "</style>\n",
       "<table border=\"1\" class=\"dataframe\">\n",
       "  <thead>\n",
       "    <tr style=\"text-align: right;\">\n",
       "      <th></th>\n",
       "      <th>longitude</th>\n",
       "      <th>latitude</th>\n",
       "      <th>housing_median_age</th>\n",
       "      <th>total_rooms</th>\n",
       "      <th>total_bedrooms</th>\n",
       "      <th>population</th>\n",
       "      <th>households</th>\n",
       "      <th>median_income</th>\n",
       "      <th>median_house_value</th>\n",
       "    </tr>\n",
       "  </thead>\n",
       "  <tbody>\n",
       "    <tr>\n",
       "      <th>count</th>\n",
       "      <td>20640.000000</td>\n",
       "      <td>20640.000000</td>\n",
       "      <td>20640.000000</td>\n",
       "      <td>20640.000000</td>\n",
       "      <td>20433.000000</td>\n",
       "      <td>20640.000000</td>\n",
       "      <td>20640.000000</td>\n",
       "      <td>20640.000000</td>\n",
       "      <td>20640.000000</td>\n",
       "    </tr>\n",
       "    <tr>\n",
       "      <th>mean</th>\n",
       "      <td>-119.569704</td>\n",
       "      <td>35.631861</td>\n",
       "      <td>28.639486</td>\n",
       "      <td>2635.763081</td>\n",
       "      <td>537.870553</td>\n",
       "      <td>1425.476744</td>\n",
       "      <td>499.539680</td>\n",
       "      <td>3.870671</td>\n",
       "      <td>206855.816909</td>\n",
       "    </tr>\n",
       "    <tr>\n",
       "      <th>std</th>\n",
       "      <td>2.003532</td>\n",
       "      <td>2.135952</td>\n",
       "      <td>12.585558</td>\n",
       "      <td>2181.615252</td>\n",
       "      <td>421.385070</td>\n",
       "      <td>1132.462122</td>\n",
       "      <td>382.329753</td>\n",
       "      <td>1.899822</td>\n",
       "      <td>115395.615874</td>\n",
       "    </tr>\n",
       "    <tr>\n",
       "      <th>min</th>\n",
       "      <td>-124.350000</td>\n",
       "      <td>32.540000</td>\n",
       "      <td>1.000000</td>\n",
       "      <td>2.000000</td>\n",
       "      <td>1.000000</td>\n",
       "      <td>3.000000</td>\n",
       "      <td>1.000000</td>\n",
       "      <td>0.499900</td>\n",
       "      <td>14999.000000</td>\n",
       "    </tr>\n",
       "    <tr>\n",
       "      <th>25%</th>\n",
       "      <td>-121.800000</td>\n",
       "      <td>33.930000</td>\n",
       "      <td>18.000000</td>\n",
       "      <td>1447.750000</td>\n",
       "      <td>296.000000</td>\n",
       "      <td>787.000000</td>\n",
       "      <td>280.000000</td>\n",
       "      <td>2.563400</td>\n",
       "      <td>119600.000000</td>\n",
       "    </tr>\n",
       "    <tr>\n",
       "      <th>50%</th>\n",
       "      <td>-118.490000</td>\n",
       "      <td>34.260000</td>\n",
       "      <td>29.000000</td>\n",
       "      <td>2127.000000</td>\n",
       "      <td>435.000000</td>\n",
       "      <td>1166.000000</td>\n",
       "      <td>409.000000</td>\n",
       "      <td>3.534800</td>\n",
       "      <td>179700.000000</td>\n",
       "    </tr>\n",
       "    <tr>\n",
       "      <th>75%</th>\n",
       "      <td>-118.010000</td>\n",
       "      <td>37.710000</td>\n",
       "      <td>37.000000</td>\n",
       "      <td>3148.000000</td>\n",
       "      <td>647.000000</td>\n",
       "      <td>1725.000000</td>\n",
       "      <td>605.000000</td>\n",
       "      <td>4.743250</td>\n",
       "      <td>264725.000000</td>\n",
       "    </tr>\n",
       "    <tr>\n",
       "      <th>max</th>\n",
       "      <td>-114.310000</td>\n",
       "      <td>41.950000</td>\n",
       "      <td>52.000000</td>\n",
       "      <td>39320.000000</td>\n",
       "      <td>6445.000000</td>\n",
       "      <td>35682.000000</td>\n",
       "      <td>6082.000000</td>\n",
       "      <td>15.000100</td>\n",
       "      <td>500001.000000</td>\n",
       "    </tr>\n",
       "  </tbody>\n",
       "</table>\n",
       "</div>"
      ],
      "text/plain": [
       "          longitude      latitude  housing_median_age   total_rooms  \\\n",
       "count  20640.000000  20640.000000        20640.000000  20640.000000   \n",
       "mean    -119.569704     35.631861           28.639486   2635.763081   \n",
       "std        2.003532      2.135952           12.585558   2181.615252   \n",
       "min     -124.350000     32.540000            1.000000      2.000000   \n",
       "25%     -121.800000     33.930000           18.000000   1447.750000   \n",
       "50%     -118.490000     34.260000           29.000000   2127.000000   \n",
       "75%     -118.010000     37.710000           37.000000   3148.000000   \n",
       "max     -114.310000     41.950000           52.000000  39320.000000   \n",
       "\n",
       "       total_bedrooms    population    households  median_income  \\\n",
       "count    20433.000000  20640.000000  20640.000000   20640.000000   \n",
       "mean       537.870553   1425.476744    499.539680       3.870671   \n",
       "std        421.385070   1132.462122    382.329753       1.899822   \n",
       "min          1.000000      3.000000      1.000000       0.499900   \n",
       "25%        296.000000    787.000000    280.000000       2.563400   \n",
       "50%        435.000000   1166.000000    409.000000       3.534800   \n",
       "75%        647.000000   1725.000000    605.000000       4.743250   \n",
       "max       6445.000000  35682.000000   6082.000000      15.000100   \n",
       "\n",
       "       median_house_value  \n",
       "count        20640.000000  \n",
       "mean        206855.816909  \n",
       "std         115395.615874  \n",
       "min          14999.000000  \n",
       "25%         119600.000000  \n",
       "50%         179700.000000  \n",
       "75%         264725.000000  \n",
       "max         500001.000000  "
      ]
     },
     "execution_count": 7,
     "metadata": {},
     "output_type": "execute_result"
    }
   ],
   "source": [
    "housing.describe()"
   ]
  },
  {
   "cell_type": "code",
   "execution_count": 8,
   "metadata": {
    "colab": {
     "base_uri": "https://localhost:8080/",
     "height": 1000
    },
    "colab_type": "code",
    "collapsed": true,
    "id": "XDO0QvT3JJlr",
    "outputId": "7bb593a7-5dfd-4888-84bf-5e20ba0bcc13"
   },
   "outputs": [
    {
     "data": {
      "text/plain": [
       "array([[<matplotlib.axes._subplots.AxesSubplot object at 0x000001E53D985C48>,\n",
       "        <matplotlib.axes._subplots.AxesSubplot object at 0x000001E53E0AF288>,\n",
       "        <matplotlib.axes._subplots.AxesSubplot object at 0x000001E53E0EA148>],\n",
       "       [<matplotlib.axes._subplots.AxesSubplot object at 0x000001E53E122208>,\n",
       "        <matplotlib.axes._subplots.AxesSubplot object at 0x000001E53E15B308>,\n",
       "        <matplotlib.axes._subplots.AxesSubplot object at 0x000001E53E193448>],\n",
       "       [<matplotlib.axes._subplots.AxesSubplot object at 0x000001E53E1CFF88>,\n",
       "        <matplotlib.axes._subplots.AxesSubplot object at 0x000001E53E209E48>,\n",
       "        <matplotlib.axes._subplots.AxesSubplot object at 0x000001E53E210248>]],\n",
       "      dtype=object)"
      ]
     },
     "execution_count": 8,
     "metadata": {},
     "output_type": "execute_result"
    },
    {
     "data": {
      "image/png": "[encoded data removed]",
      "text/plain": [
       "<Figure size 1440x1080 with 9 Axes>"
      ]
     },
     "metadata": {
      "needs_background": "light"
     },
     "output_type": "display_data"
    }
   ],
   "source": [
    "housing.hist(bins=50,figsize=(20,15))"
   ]
  },
  {
   "cell_type": "markdown",
   "metadata": {
    "colab_type": "text",
    "id": "lNd8LQZ6JJlz"
   },
   "source": [
    "### Создание испытательного набора"
   ]
  },
  {
   "cell_type": "code",
   "execution_count": 9,
   "metadata": {
    "colab": {},
    "colab_type": "code",
    "collapsed": true,
    "id": "HlJh-z9oJJl0"
   },
   "outputs": [],
   "source": [
    "#Одноразовый набор\n",
    "\n",
    "def split_train_test(data, test_ratio):\n",
    "    shuffled_indices = np.random.permutation(len(data))\n",
    "    test_set_size = int(len(data) * test_ratio)\n",
    "    test_indices = shuffles_indices[:test_set_size]\n",
    "    train_indices = shuffles_indices[test_set_size:]\n",
    "    return data.iloc[train_indices], data.iloc[test_indices]"
   ]
  },
  {
   "cell_type": "code",
   "execution_count": 10,
   "metadata": {
    "colab": {},
    "colab_type": "code",
    "collapsed": true,
    "id": "I7M6qtaUJJl6"
   },
   "outputs": [],
   "source": [
    "#Многоразовый набор, но исключительно для необновляющихся данных\n",
    "\n",
    "from sklearn.model_selection import train_test_split\n",
    "train_set, test_set = train_test_split(housing, test_size=0.2, random_state=42)"
   ]
  },
  {
   "cell_type": "code",
   "execution_count": 11,
   "metadata": {
    "colab": {},
    "colab_type": "code",
    "collapsed": true,
    "id": "ibzQ2RtaJJmB"
   },
   "outputs": [],
   "source": [
    "#Создание репрезентативного атрибута для страт\n",
    "\n",
    "housing['income_cat'] = np.ceil(housing['median_income'] / 1.5)\n",
    "housing['income_cat'].where(housing['income_cat'] < 5, 5.0, inplace=True)\n",
    "#housing['income_cat'].hist()\n",
    "#housing['income_cat'].value_counts() / len(housing)"
   ]
  },
  {
   "cell_type": "code",
   "execution_count": 12,
   "metadata": {
    "colab": {},
    "colab_type": "code",
    "collapsed": true,
    "id": "vHXJDGZ6JJmI"
   },
   "outputs": [],
   "source": [
    "#Стратифицированная выборка (для отсутствия смещения)\n",
    "\n",
    "from sklearn.model_selection import StratifiedShuffleSplit\n",
    "split = StratifiedShuffleSplit(n_splits=1,test_size=0.2, random_state=42)\n",
    "\n",
    "for train_index, test_index in split.split(housing, housing['income_cat']):\n",
    "    strat_train_set = housing.loc[train_index]\n",
    "    strat_test_set = housing.loc[test_index]"
   ]
  },
  {
   "cell_type": "code",
   "execution_count": 13,
   "metadata": {
    "colab": {},
    "colab_type": "code",
    "collapsed": true,
    "id": "Dksjc3v8JJmQ"
   },
   "outputs": [],
   "source": [
    "#Возвращение данных в изначальный вид\n",
    "\n",
    "for set_ in (strat_train_set, strat_test_set):\n",
    "    set_.drop('income_cat', axis=1, inplace=True)"
   ]
  },
  {
   "cell_type": "markdown",
   "metadata": {
    "colab_type": "text",
    "id": "ROToqoljJJmV"
   },
   "source": [
    "### Обнаружение и визуализация данных"
   ]
  },
  {
   "cell_type": "code",
   "execution_count": 14,
   "metadata": {
    "colab": {},
    "colab_type": "code",
    "collapsed": true,
    "id": "7pwGdAFiJJmW"
   },
   "outputs": [],
   "source": [
    "#Копия\n",
    "\n",
    "housing = strat_train_set.copy()"
   ]
  },
  {
   "cell_type": "code",
   "execution_count": 15,
   "metadata": {
    "colab": {
     "base_uri": "https://localhost:8080/",
     "height": 297
    },
    "colab_type": "code",
    "collapsed": true,
    "id": "-KNNHrKdJJmc",
    "outputId": "efc2650f-bf26-4bc7-9afd-e6908cfe83eb"
   },
   "outputs": [
    {
     "data": {
      "text/plain": [
       "<matplotlib.axes._subplots.AxesSubplot at 0x1e540f3fa08>"
      ]
     },
     "execution_count": 15,
     "metadata": {},
     "output_type": "execute_result"
    },
    {
     "data": {
      "image/png": "[encoded data removed]",
      "text/plain": [
       "<Figure size 432x288 with 1 Axes>"
      ]
     },
     "metadata": {
      "needs_background": "light"
     },
     "output_type": "display_data"
    }
   ],
   "source": [
    "housing.plot(kind='scatter', y='latitude', x='longitude', alpha=0.15)"
   ]
  },
  {
   "cell_type": "code",
   "execution_count": 16,
   "metadata": {
    "colab": {
     "base_uri": "https://localhost:8080/",
     "height": 463
    },
    "colab_type": "code",
    "collapsed": true,
    "id": "5kND93r5JJmn",
    "outputId": "df02d4f7-453c-496a-f4b3-621d686a51bd"
   },
   "outputs": [
    {
     "data": {
      "text/plain": [
       "<matplotlib.legend.Legend at 0x1e5410adec8>"
      ]
     },
     "execution_count": 16,
     "metadata": {},
     "output_type": "execute_result"
    },
    {
     "data": {
      "image/png": "[encoded data removed]",
      "text/plain": [
       "<Figure size 720x504 with 2 Axes>"
      ]
     },
     "metadata": {
      "needs_background": "light"
     },
     "output_type": "display_data"
    }
   ],
   "source": [
    "#визуализация\n",
    "\n",
    "import matplotlib.pyplot as plt\n",
    "housing.plot(kind='scatter', x='longitude', y='latitude', alpha=0.4,\n",
    "            s=housing['population']/100, label='population', figsize=(10,7),\n",
    "            c='median_house_value', cmap=plt.get_cmap('jet'), colorbar=True,\n",
    "            sharex=False)\n",
    "plt.legend()"
   ]
  },
  {
   "cell_type": "code",
   "execution_count": 17,
   "metadata": {
    "colab": {
     "base_uri": "https://localhost:8080/",
     "height": 191
    },
    "colab_type": "code",
    "collapsed": true,
    "id": "kqGxq2wKJJm3",
    "outputId": "850e04ce-ad9e-4d01-c0b3-23a2c9a6efcc"
   },
   "outputs": [
    {
     "data": {
      "text/plain": [
       "median_house_value    1.000000\n",
       "median_income         0.687160\n",
       "total_rooms           0.135097\n",
       "housing_median_age    0.114110\n",
       "households            0.064506\n",
       "total_bedrooms        0.047689\n",
       "population           -0.026920\n",
       "longitude            -0.047432\n",
       "latitude             -0.142724\n",
       "Name: median_house_value, dtype: float64"
      ]
     },
     "execution_count": 17,
     "metadata": {},
     "output_type": "execute_result"
    }
   ],
   "source": [
    "#Поиск зависимостей (корреляций)\n",
    "\n",
    "corr_matrix=housing.corr()\n",
    "corr_matrix['median_house_value'].sort_values(ascending=False)"
   ]
  },
  {
   "cell_type": "code",
   "execution_count": 18,
   "metadata": {
    "colab": {
     "base_uri": "https://localhost:8080/",
     "height": 813
    },
    "colab_type": "code",
    "collapsed": true,
    "id": "wPw7Ef_LJJnA",
    "outputId": "b9606890-0770-47ff-ad8e-d9d2c0b74687"
   },
   "outputs": [
    {
     "data": {
      "text/plain": [
       "array([[<matplotlib.axes._subplots.AxesSubplot object at 0x000001E539A60108>,\n",
       "        <matplotlib.axes._subplots.AxesSubplot object at 0x000001E5415A5948>,\n",
       "        <matplotlib.axes._subplots.AxesSubplot object at 0x000001E541212188>,\n",
       "        <matplotlib.axes._subplots.AxesSubplot object at 0x000001E541248B48>],\n",
       "       [<matplotlib.axes._subplots.AxesSubplot object at 0x000001E5413E0948>,\n",
       "        <matplotlib.axes._subplots.AxesSubplot object at 0x000001E541417A88>,\n",
       "        <matplotlib.axes._subplots.AxesSubplot object at 0x000001E541450B08>,\n",
       "        <matplotlib.axes._subplots.AxesSubplot object at 0x000001E54148AC08>],\n",
       "       [<matplotlib.axes._subplots.AxesSubplot object at 0x000001E541495808>,\n",
       "        <matplotlib.axes._subplots.AxesSubplot object at 0x000001E5414CD9C8>,\n",
       "        <matplotlib.axes._subplots.AxesSubplot object at 0x000001E541536F48>,\n",
       "        <matplotlib.axes._subplots.AxesSubplot object at 0x000001E541712048>],\n",
       "       [<matplotlib.axes._subplots.AxesSubplot object at 0x000001E54174A188>,\n",
       "        <matplotlib.axes._subplots.AxesSubplot object at 0x000001E5418B2248>,\n",
       "        <matplotlib.axes._subplots.AxesSubplot object at 0x000001E5418EB348>,\n",
       "        <matplotlib.axes._subplots.AxesSubplot object at 0x000001E541923488>]],\n",
       "      dtype=object)"
      ]
     },
     "execution_count": 18,
     "metadata": {},
     "output_type": "execute_result"
    },
    {
     "data": {
      "image/png": "[encoded data removed]",
      "text/plain": [
       "<Figure size 864x576 with 16 Axes>"
      ]
     },
     "metadata": {
      "needs_background": "light"
     },
     "output_type": "display_data"
    }
   ],
   "source": [
    "#Рассматриваем наиболее заметные корреляции\n",
    "\n",
    "from pandas.plotting import scatter_matrix\n",
    "attributes=['median_house_value', 'median_income', 'total_rooms',\n",
    "           'housing_median_age']\n",
    "scatter_matrix(housing[attributes], figsize=(12,8))"
   ]
  },
  {
   "cell_type": "code",
   "execution_count": 19,
   "metadata": {
    "colab": {
     "base_uri": "https://localhost:8080/",
     "height": 297
    },
    "colab_type": "code",
    "collapsed": true,
    "id": "2mZwxq_MJJnG",
    "outputId": "82206b16-f7b9-44dc-c996-21b05cf772d0"
   },
   "outputs": [
    {
     "data": {
      "text/plain": [
       "<matplotlib.axes._subplots.AxesSubplot at 0x1e541090948>"
      ]
     },
     "execution_count": 19,
     "metadata": {},
     "output_type": "execute_result"
    },
    {
     "data": {
      "image/png": "[encoded data removed]",
      "text/plain": [
       "<Figure size 432x288 with 1 Axes>"
      ]
     },
     "metadata": {
      "needs_background": "light"
     },
     "output_type": "display_data"
    }
   ],
   "source": [
    "#Самая значимая корреляция\n",
    "\n",
    "housing.plot(kind='scatter', x='median_income', y='median_house_value', alpha=0.1)"
   ]
  },
  {
   "cell_type": "markdown",
   "metadata": {
    "colab_type": "text",
    "id": "ZSfCpHpdJJnN"
   },
   "source": [
    "### Новые атрибуты"
   ]
  },
  {
   "cell_type": "code",
   "execution_count": 20,
   "metadata": {
    "colab": {
     "base_uri": "https://localhost:8080/",
     "height": 277
    },
    "colab_type": "code",
    "collapsed": true,
    "id": "S4tZlBM4JJnQ",
    "outputId": "770f4d2b-a068-42dc-f9f0-47c2327bc3e7"
   },
   "outputs": [
    {
     "data": {
      "text/plain": [
       "median_house_value              1.000000\n",
       "median_income                   0.687160\n",
       "rooms_per_household             0.146285\n",
       "total_rooms                     0.135097\n",
       "median_income_per_population    0.115985\n",
       "housing_median_age              0.114110\n",
       "households                      0.064506\n",
       "total_bedrooms                  0.047689\n",
       "population_per_hholds          -0.021985\n",
       "population                     -0.026920\n",
       "longitude                      -0.047432\n",
       "age                            -0.111953\n",
       "latitude                       -0.142724\n",
       "bedrooms_per_room              -0.259984\n",
       "Name: median_house_value, dtype: float64"
      ]
     },
     "execution_count": 20,
     "metadata": {},
     "output_type": "execute_result"
    }
   ],
   "source": [
    "housing['rooms_per_household'] = housing['total_rooms'] / housing['households']\n",
    "housing['bedrooms_per_room'] = housing['total_bedrooms'] / housing['total_rooms']\n",
    "housing['median_income_per_population'] = housing['median_income'] / housing['population']\n",
    "housing['age'] = housing['housing_median_age'] / housing['longitude']\n",
    "housing['population_per_hholds'] = housing['population'] / housing['households']\n",
    "\n",
    "corr_matrix = housing.corr()\n",
    "corr_matrix['median_house_value'].sort_values(ascending=False)"
   ]
  },
  {
   "cell_type": "markdown",
   "metadata": {
    "colab_type": "text",
    "id": "Dv-_alCHJJnY"
   },
   "source": [
    "### Подготовка данных"
   ]
  },
  {
   "cell_type": "code",
   "execution_count": 21,
   "metadata": {
    "colab": {},
    "colab_type": "code",
    "collapsed": true,
    "id": "FuRqvfmEJJnZ"
   },
   "outputs": [],
   "source": [
    "#Создание меток\n",
    "\n",
    "housing = strat_train_set.drop('median_house_value', axis=1)\n",
    "housing_labels = strat_train_set['median_house_value'].copy()"
   ]
  },
  {
   "cell_type": "code",
   "execution_count": 22,
   "metadata": {
    "colab": {
     "base_uri": "https://localhost:8080/",
     "height": 52
    },
    "colab_type": "code",
    "collapsed": true,
    "id": "p79R-BrBJJne",
    "outputId": "4eedafd8-3b2c-44a8-9da9-860e955989dd"
   },
   "outputs": [
    {
     "data": {
      "text/plain": [
       "SimpleImputer(add_indicator=False, copy=True, fill_value=None,\n",
       "              missing_values=nan, strategy='median', verbose=0)"
      ]
     },
     "execution_count": 22,
     "metadata": {},
     "output_type": "execute_result"
    }
   ],
   "source": [
    "#Заполнение данных\n",
    "\n",
    "from sklearn.impute import SimpleImputer\n",
    "imputer = SimpleImputer(strategy='median')\n",
    "\n",
    "housing_num = housing.drop('ocean_proximity', axis=1)\n",
    "imputer.fit(housing_num)"
   ]
  },
  {
   "cell_type": "code",
   "execution_count": 23,
   "metadata": {
    "colab": {
     "base_uri": "https://localhost:8080/",
     "height": 52
    },
    "colab_type": "code",
    "collapsed": true,
    "id": "D-XxNF-qJJnj",
    "outputId": "33bd79f6-27fb-49e8-bb1c-de9e0de489c7"
   },
   "outputs": [
    {
     "data": {
      "text/plain": [
       "array([-118.51  ,   34.26  ,   29.    , 2119.5   ,  433.    , 1164.    ,\n",
       "        408.    ,    3.5409])"
      ]
     },
     "execution_count": 23,
     "metadata": {},
     "output_type": "execute_result"
    }
   ],
   "source": [
    "imputer.statistics_"
   ]
  },
  {
   "cell_type": "code",
   "execution_count": 24,
   "metadata": {
    "colab": {
     "base_uri": "https://localhost:8080/",
     "height": 52
    },
    "colab_type": "code",
    "collapsed": true,
    "id": "4m_qL4xXJJno",
    "outputId": "a7a0f088-67d6-4f52-bed2-6c881a0301a6"
   },
   "outputs": [
    {
     "data": {
      "text/plain": [
       "array([-118.51  ,   34.26  ,   29.    , 2119.5   ,  433.    , 1164.    ,\n",
       "        408.    ,    3.5409])"
      ]
     },
     "execution_count": 24,
     "metadata": {},
     "output_type": "execute_result"
    }
   ],
   "source": [
    "housing_num.median().values"
   ]
  },
  {
   "cell_type": "code",
   "execution_count": 25,
   "metadata": {
    "colab": {},
    "colab_type": "code",
    "collapsed": true,
    "id": "HMZfTnJBJJnu"
   },
   "outputs": [],
   "source": [
    "X = imputer.transform(housing_num)\n",
    "housing_tr = pd.DataFrame(X, columns=housing_num.columns)"
   ]
  },
  {
   "cell_type": "markdown",
   "metadata": {
    "colab_type": "text",
    "id": "GyB25WT8JJn0"
   },
   "source": [
    "### Специальные трансформаторы"
   ]
  },
  {
   "cell_type": "code",
   "execution_count": 26,
   "metadata": {
    "colab": {},
    "colab_type": "code",
    "collapsed": true,
    "id": "VFoi5JEHJJn1"
   },
   "outputs": [],
   "source": [
    "#Добавление атрибутов\n",
    "\n",
    "from sklearn.base import BaseEstimator, TransformerMixin\n",
    "\n",
    "longitude_ix, housing_median_age_ix, rooms_ix, bedrooms_ix, population_ix, household_ix, median_income_ix = [\n",
    "    list(housing.columns).index(col)\n",
    "    for col in (\"total_rooms\", \"total_bedrooms\", \"population\", \"households\", \n",
    "                'longitude', 'housing_median_age', 'median_income')]\n",
    "\n",
    "class CombinedAttributesAdder(BaseEstimator, TransformerMixin):\n",
    "    def __init__(self, add_bedrooms_per_room = True):\n",
    "        self.add_bedrooms_per_room = add_bedrooms_per_room\n",
    "    def fit(self, X, y=None):\n",
    "        return self\n",
    "    def transform(self, X, y=None):\n",
    "        rooms_per_household = X[:, rooms_ix] / X[:, household_ix]\n",
    "        population_per_household = X[:, population_ix] / X[:, household_ix]\n",
    "        median_income_per_population = X[:, median_income_ix] / X[:, population_ix]\n",
    "        age = X[:, housing_median_age_ix] / X[:, longitude_ix]\n",
    "        if self.add_bedrooms_per_room:\n",
    "            bedrooms_per_room = X[:, bedrooms_ix] / X[:, rooms_ix]\n",
    "            return np.c_[X, rooms_per_household, population_per_household, \n",
    "                        bedrooms_per_room, median_income_per_population, age]\n",
    "        else:\n",
    "            return np.c_[X, rooms_per_household, population_per_household, median_income_per_population, age]\n",
    "\n",
    "attr_adder = CombinedAttributesAdder(add_bedrooms_per_room = False)\n",
    "housing_extra_attribs = attr_adder.transform(housing.values)"
   ]
  },
  {
   "cell_type": "code",
   "execution_count": 27,
   "metadata": {
    "collapsed": true
   },
   "outputs": [],
   "source": [
    "from sklearn.preprocessing import FunctionTransformer\n",
    "\n",
    "def AttributesAdder(X, add_bedrooms_per_room=True):\n",
    "    rooms_per_household = X[:, rooms_ix] / X[:, household_ix]\n",
    "    population_per_household = X[:, population_ix] / X[:, household_ix]\n",
    "    median_income_per_population = X[:, median_income_ix] / X[:, population_ix]\n",
    "    age = X[:, housing_median_age_ix] / X[:, longitude_ix]\n",
    "    if add_bedrooms_per_room:\n",
    "        bedrooms_per_room = X[:, bedrooms_ix] / X[:, rooms_ix]\n",
    "        return np.c_[X, rooms_per_household, population_per_household,\n",
    "                    bedrooms_per_room, median_income_per_population, age]\n",
    "    else:\n",
    "        return np.c_[X, rooms_per_household, population_per_household, median_income_per_population, age]\n",
    "\n",
    "attr_adder = FunctionTransformer(AttributesAdder)\n",
    "housing_extra_attribs = attr_adder.fit_transform(housing.values)"
   ]
  },
  {
   "cell_type": "code",
   "execution_count": 28,
   "metadata": {
    "collapsed": true
   },
   "outputs": [
    {
     "data": {
      "text/html": [
       "<div>\n",
       "<style scoped>\n",
       "    .dataframe tbody tr th:only-of-type {\n",
       "        vertical-align: middle;\n",
       "    }\n",
       "\n",
       "    .dataframe tbody tr th {\n",
       "        vertical-align: top;\n",
       "    }\n",
       "\n",
       "    .dataframe thead th {\n",
       "        text-align: right;\n",
       "    }\n",
       "</style>\n",
       "<table border=\"1\" class=\"dataframe\">\n",
       "  <thead>\n",
       "    <tr style=\"text-align: right;\">\n",
       "      <th></th>\n",
       "      <th>longitude</th>\n",
       "      <th>latitude</th>\n",
       "      <th>housing_median_age</th>\n",
       "      <th>total_rooms</th>\n",
       "      <th>total_bedrooms</th>\n",
       "      <th>population</th>\n",
       "      <th>households</th>\n",
       "      <th>median_income</th>\n",
       "      <th>ocean_proximity</th>\n",
       "      <th>rooms_per_household</th>\n",
       "      <th>population_per_household</th>\n",
       "      <th>bedrooms_per_room</th>\n",
       "      <th>median_income_per_population</th>\n",
       "      <th>age</th>\n",
       "    </tr>\n",
       "  </thead>\n",
       "  <tbody>\n",
       "    <tr>\n",
       "      <th>17606</th>\n",
       "      <td>-121.89</td>\n",
       "      <td>37.29</td>\n",
       "      <td>38</td>\n",
       "      <td>1568</td>\n",
       "      <td>351</td>\n",
       "      <td>710</td>\n",
       "      <td>339</td>\n",
       "      <td>2.7042</td>\n",
       "      <td>&lt;1H OCEAN</td>\n",
       "      <td>18.6842</td>\n",
       "      <td>-3.20763</td>\n",
       "      <td>0.477465</td>\n",
       "      <td>-0.0221856</td>\n",
       "      <td>0.223852</td>\n",
       "    </tr>\n",
       "    <tr>\n",
       "      <th>18632</th>\n",
       "      <td>-121.93</td>\n",
       "      <td>37.05</td>\n",
       "      <td>14</td>\n",
       "      <td>679</td>\n",
       "      <td>108</td>\n",
       "      <td>306</td>\n",
       "      <td>113</td>\n",
       "      <td>6.4214</td>\n",
       "      <td>&lt;1H OCEAN</td>\n",
       "      <td>21.8571</td>\n",
       "      <td>-8.70929</td>\n",
       "      <td>0.369281</td>\n",
       "      <td>-0.0526646</td>\n",
       "      <td>0.159057</td>\n",
       "    </tr>\n",
       "    <tr>\n",
       "      <th>14650</th>\n",
       "      <td>-117.2</td>\n",
       "      <td>32.77</td>\n",
       "      <td>31</td>\n",
       "      <td>1952</td>\n",
       "      <td>471</td>\n",
       "      <td>936</td>\n",
       "      <td>462</td>\n",
       "      <td>2.8621</td>\n",
       "      <td>NEAR OCEAN</td>\n",
       "      <td>30.1935</td>\n",
       "      <td>-3.78065</td>\n",
       "      <td>0.49359</td>\n",
       "      <td>-0.0244206</td>\n",
       "      <td>0.241291</td>\n",
       "    </tr>\n",
       "    <tr>\n",
       "      <th>3230</th>\n",
       "      <td>-119.61</td>\n",
       "      <td>36.31</td>\n",
       "      <td>25</td>\n",
       "      <td>1847</td>\n",
       "      <td>371</td>\n",
       "      <td>1460</td>\n",
       "      <td>353</td>\n",
       "      <td>1.8839</td>\n",
       "      <td>INLAND</td>\n",
       "      <td>58.4</td>\n",
       "      <td>-4.7844</td>\n",
       "      <td>0.241781</td>\n",
       "      <td>-0.0157504</td>\n",
       "      <td>0.200866</td>\n",
       "    </tr>\n",
       "    <tr>\n",
       "      <th>3555</th>\n",
       "      <td>-118.59</td>\n",
       "      <td>34.23</td>\n",
       "      <td>17</td>\n",
       "      <td>6592</td>\n",
       "      <td>1525</td>\n",
       "      <td>4459</td>\n",
       "      <td>1463</td>\n",
       "      <td>3.0347</td>\n",
       "      <td>&lt;1H OCEAN</td>\n",
       "      <td>262.294</td>\n",
       "      <td>-6.97588</td>\n",
       "      <td>0.3281</td>\n",
       "      <td>-0.0255898</td>\n",
       "      <td>0.231341</td>\n",
       "    </tr>\n",
       "  </tbody>\n",
       "</table>\n",
       "</div>"
      ],
      "text/plain": [
       "      longitude latitude housing_median_age total_rooms total_bedrooms  \\\n",
       "17606   -121.89    37.29                 38        1568            351   \n",
       "18632   -121.93    37.05                 14         679            108   \n",
       "14650    -117.2    32.77                 31        1952            471   \n",
       "3230    -119.61    36.31                 25        1847            371   \n",
       "3555    -118.59    34.23                 17        6592           1525   \n",
       "\n",
       "      population households median_income ocean_proximity rooms_per_household  \\\n",
       "17606        710        339        2.7042       <1H OCEAN             18.6842   \n",
       "18632        306        113        6.4214       <1H OCEAN             21.8571   \n",
       "14650        936        462        2.8621      NEAR OCEAN             30.1935   \n",
       "3230        1460        353        1.8839          INLAND                58.4   \n",
       "3555        4459       1463        3.0347       <1H OCEAN             262.294   \n",
       "\n",
       "      population_per_household bedrooms_per_room median_income_per_population  \\\n",
       "17606                 -3.20763          0.477465                   -0.0221856   \n",
       "18632                 -8.70929          0.369281                   -0.0526646   \n",
       "14650                 -3.78065           0.49359                   -0.0244206   \n",
       "3230                   -4.7844          0.241781                   -0.0157504   \n",
       "3555                  -6.97588            0.3281                   -0.0255898   \n",
       "\n",
       "            age  \n",
       "17606  0.223852  \n",
       "18632  0.159057  \n",
       "14650  0.241291  \n",
       "3230   0.200866  \n",
       "3555   0.231341  "
      ]
     },
     "execution_count": 28,
     "metadata": {},
     "output_type": "execute_result"
    }
   ],
   "source": [
    "housing_extra_attribs = pd.DataFrame(\n",
    "    housing_extra_attribs,\n",
    "    columns = list(housing.columns) + ['rooms_per_household', 'population_per_household', 'bedrooms_per_room',\n",
    "                                       'median_income_per_population', 'age'],\n",
    "    index=housing.index)\n",
    "housing_extra_attribs.head()"
   ]
  },
  {
   "cell_type": "markdown",
   "metadata": {
    "colab_type": "text",
    "id": "fy1vWKayJJn5"
   },
   "source": [
    "### Конвейеры Трансформации"
   ]
  },
  {
   "cell_type": "code",
   "execution_count": 29,
   "metadata": {
    "colab": {},
    "colab_type": "code",
    "collapsed": true,
    "id": "SV6g16sYJJn7"
   },
   "outputs": [],
   "source": [
    "from sklearn.pipeline import Pipeline\n",
    "from sklearn.preprocessing import StandardScaler\n",
    "from sklearn.preprocessing import OneHotEncoder"
   ]
  },
  {
   "cell_type": "code",
   "execution_count": 30,
   "metadata": {
    "colab": {},
    "colab_type": "code",
    "collapsed": true,
    "id": "wTTQagwaJJoA"
   },
   "outputs": [],
   "source": [
    "num_attribs = list(housing_num)\n",
    "cat_attribs = ['ocean_proximity']"
   ]
  },
  {
   "cell_type": "code",
   "execution_count": 31,
   "metadata": {
    "colab": {},
    "colab_type": "code",
    "collapsed": true,
    "id": "fqyjp-eXJJoF"
   },
   "outputs": [],
   "source": [
    "# Числовой конвейер\n",
    "\n",
    "num_pipeline = Pipeline([\n",
    "    ('imputer', SimpleImputer(strategy = 'median')),\n",
    "    ('attribs_adder', FunctionTransformer(AttributesAdder)),\n",
    "    ('std_scaler', StandardScaler()),\n",
    "])"
   ]
  },
  {
   "cell_type": "code",
   "execution_count": 32,
   "metadata": {
    "colab": {},
    "colab_type": "code",
    "collapsed": true,
    "id": "xBOI4i8vJJoL"
   },
   "outputs": [],
   "source": [
    "#Полный Конвейер\n",
    "\n",
    "from sklearn.compose import ColumnTransformer\n",
    "\n",
    "full_pipeline = ColumnTransformer([\n",
    "    ('num', num_pipeline, num_attribs),\n",
    "    ('cat', OneHotEncoder(), cat_attribs),\n",
    "])"
   ]
  },
  {
   "cell_type": "code",
   "execution_count": 33,
   "metadata": {
    "colab": {
     "base_uri": "https://localhost:8080/",
     "height": 243
    },
    "colab_type": "code",
    "collapsed": true,
    "id": "mX_h-lJ_JJoT",
    "outputId": "c9e44fc9-4529-42f2-b2a5-30a2a194fd76"
   },
   "outputs": [
    {
     "data": {
      "text/plain": [
       "array([[-1.15604281,  0.77194962,  0.74333089, ...,  0.        ,\n",
       "         0.        ,  0.        ],\n",
       "       [-1.17602483,  0.6596948 , -1.1653172 , ...,  0.        ,\n",
       "         0.        ,  0.        ],\n",
       "       [ 1.18684903, -1.34218285,  0.18664186, ...,  0.        ,\n",
       "         0.        ,  1.        ],\n",
       "       ...,\n",
       "       [ 1.58648943, -0.72478134, -1.56295222, ...,  0.        ,\n",
       "         0.        ,  0.        ],\n",
       "       [ 0.78221312, -0.85106801,  0.18664186, ...,  0.        ,\n",
       "         0.        ,  0.        ],\n",
       "       [-1.43579109,  0.99645926,  1.85670895, ...,  0.        ,\n",
       "         1.        ,  0.        ]])"
      ]
     },
     "execution_count": 33,
     "metadata": {},
     "output_type": "execute_result"
    }
   ],
   "source": [
    "housing_prepared = full_pipeline.fit_transform(housing)\n",
    "housing_prepared"
   ]
  },
  {
   "cell_type": "code",
   "execution_count": 34,
   "metadata": {
    "colab": {
     "base_uri": "https://localhost:8080/",
     "height": 35
    },
    "colab_type": "code",
    "collapsed": true,
    "id": "iMqRV2A4JJoY",
    "outputId": "ed3ccb70-d74d-40ca-e97f-29bd36a8097c"
   },
   "outputs": [
    {
     "data": {
      "text/plain": [
       "(16512, 18)"
      ]
     },
     "execution_count": 34,
     "metadata": {},
     "output_type": "execute_result"
    }
   ],
   "source": [
    "housing_prepared.shape"
   ]
  },
  {
   "cell_type": "markdown",
   "metadata": {
    "colab_type": "text",
    "id": "iVyMP8ulJJod"
   },
   "source": [
    "### Обучение и оценка\n"
   ]
  },
  {
   "cell_type": "code",
   "execution_count": 35,
   "metadata": {
    "colab": {},
    "colab_type": "code",
    "collapsed": true,
    "id": "1Szhf94OJJoe"
   },
   "outputs": [],
   "source": [
    "from sklearn.model_selection import cross_val_score\n",
    "from sklearn.metrics import mean_squared_error\n",
    "\n",
    "def display_scores(scores):\n",
    "    print('Суммы оценок:', scores)\n",
    "    print('Среднее:', scores.mean())\n",
    "    print('Стандартное отклонение:', scores.std())"
   ]
  },
  {
   "cell_type": "code",
   "execution_count": 36,
   "metadata": {
    "colab": {
     "base_uri": "https://localhost:8080/",
     "height": 35
    },
    "colab_type": "code",
    "collapsed": true,
    "id": "BGInqhQpJJoh",
    "outputId": "fc6bd569-9f8e-42d6-bd3d-0bbf939dae08"
   },
   "outputs": [
    {
     "data": {
      "text/plain": [
       "65949.42919709979"
      ]
     },
     "execution_count": 36,
     "metadata": {},
     "output_type": "execute_result"
    }
   ],
   "source": [
    "#Линейная Регрессия\n",
    "\n",
    "from sklearn.linear_model import LinearRegression\n",
    "\n",
    "lin_reg = LinearRegression()\n",
    "lin_reg.fit(housing_prepared, housing_labels)\n",
    "housing_predictions = lin_reg.predict(housing_prepared)\n",
    "lin_mse = mean_squared_error(housing_labels, housing_predictions)\n",
    "lin_rmse = np.sqrt(lin_mse)\n",
    "lin_rmse"
   ]
  },
  {
   "cell_type": "code",
   "execution_count": 37,
   "metadata": {
    "colab": {
     "base_uri": "https://localhost:8080/",
     "height": 503
    },
    "colab_type": "code",
    "collapsed": true,
    "id": "4UZ8bWK8JJon",
    "outputId": "70962560-8cb3-4749-ffef-07af987f6ee0"
   },
   "outputs": [
    {
     "name": "stdout",
     "output_type": "stream",
     "text": [
      "[CV]  ................................................................\n",
      "[CV] ................................................. , total=   0.0s\n",
      "[CV]  ................................................................\n",
      "[CV] ................................................. , total=   0.0s\n",
      "[CV]  ................................................................\n",
      "[CV] ................................................. , total=   0.0s\n",
      "[CV]  ................................................................\n",
      "[CV] ................................................. , total=   0.0s\n",
      "[CV]  ................................................................\n",
      "[CV] ................................................. , total=   0.0s\n",
      "[CV]  ................................................................\n",
      "[CV] ................................................. , total=   0.0s\n",
      "[CV]  ................................................................\n",
      "[CV] ................................................. , total=   0.0s\n",
      "[CV]  ................................................................\n",
      "[CV] ................................................. , total=   0.0s\n",
      "[CV]  ................................................................\n",
      "[CV] ................................................. , total=   0.0s\n",
      "[CV]  ................................................................\n",
      "[CV] ................................................. , total=   0.0s\n",
      "Суммы оценок: [64463.56521306 64018.14385055 67750.96467647 68413.78472369\n",
      " 65516.81218661 68835.54098914 64468.73132871 64102.875379\n",
      " 69254.81635247 64259.71083144]\n",
      "Среднее: 66108.49455311502\n",
      "Стандартное отклонение: 2071.3032992675767\n"
     ]
    },
    {
     "name": "stderr",
     "output_type": "stream",
     "text": [
      "[Parallel(n_jobs=1)]: Using backend SequentialBackend with 1 concurrent workers.\n",
      "[Parallel(n_jobs=1)]: Done   1 out of   1 | elapsed:    0.0s remaining:    0.0s\n",
      "[Parallel(n_jobs=1)]: Done  10 out of  10 | elapsed:    0.0s finished\n"
     ]
    }
   ],
   "source": [
    "lin_scores = cross_val_score(lin_reg, housing_prepared,\n",
    "                             housing_labels, scoring='neg_mean_squared_error', cv = 10, verbose = 2)\n",
    "lin_rmse_scores = np.sqrt(-lin_scores)\n",
    "display_scores(lin_rmse_scores)"
   ]
  },
  {
   "cell_type": "code",
   "execution_count": 38,
   "metadata": {
    "colab": {
     "base_uri": "https://localhost:8080/",
     "height": 35
    },
    "colab_type": "code",
    "collapsed": true,
    "id": "KaVYGoJtJJor",
    "outputId": "723e5359-f4db-44a2-8645-17cb4984c9da"
   },
   "outputs": [
    {
     "data": {
      "text/plain": [
       "0.0"
      ]
     },
     "execution_count": 38,
     "metadata": {},
     "output_type": "execute_result"
    }
   ],
   "source": [
    "#Деревья принятия решений\n",
    "\n",
    "from sklearn.tree import DecisionTreeRegressor\n",
    "\n",
    "tree_reg = DecisionTreeRegressor()\n",
    "tree_reg.fit(housing_prepared, housing_labels)\n",
    "housing_predictions = tree_reg.predict(housing_prepared)\n",
    "tree_mse = mean_squared_error(housing_labels, housing_predictions)\n",
    "tree_rmse = np.sqrt(tree_mse)\n",
    "tree_rmse"
   ]
  },
  {
   "cell_type": "code",
   "execution_count": 39,
   "metadata": {
    "colab": {
     "base_uri": "https://localhost:8080/",
     "height": 503
    },
    "colab_type": "code",
    "collapsed": true,
    "id": "jWNtGamJJJow",
    "outputId": "678d4f3a-bfbd-4458-be10-3f9a1679f215"
   },
   "outputs": [
    {
     "name": "stderr",
     "output_type": "stream",
     "text": [
      "[Parallel(n_jobs=1)]: Using backend SequentialBackend with 1 concurrent workers.\n"
     ]
    },
    {
     "name": "stdout",
     "output_type": "stream",
     "text": [
      "[CV]  ................................................................\n",
      "[CV] .......................... , score=-5492530214.803, total=   0.2s\n",
      "[CV]  ................................................................\n"
     ]
    },
    {
     "name": "stderr",
     "output_type": "stream",
     "text": [
      "[Parallel(n_jobs=1)]: Done   1 out of   1 | elapsed:    0.2s remaining:    0.0s\n"
     ]
    },
    {
     "name": "stdout",
     "output_type": "stream",
     "text": [
      "[CV] .......................... , score=-4762795444.597, total=   0.2s\n",
      "[CV]  ................................................................\n"
     ]
    },
    {
     "name": "stderr",
     "output_type": "stream",
     "text": [
      "[Parallel(n_jobs=1)]: Done   2 out of   2 | elapsed:    0.4s remaining:    0.0s\n"
     ]
    },
    {
     "name": "stdout",
     "output_type": "stream",
     "text": [
      "[CV] .......................... , score=-5060341484.718, total=   0.2s\n",
      "[CV]  ................................................................\n"
     ]
    },
    {
     "name": "stderr",
     "output_type": "stream",
     "text": [
      "[Parallel(n_jobs=1)]: Done   3 out of   3 | elapsed:    0.6s remaining:    0.0s\n"
     ]
    },
    {
     "name": "stdout",
     "output_type": "stream",
     "text": [
      "[CV] .......................... , score=-5230213017.111, total=   0.2s\n",
      "[CV]  ................................................................\n",
      "[CV] .......................... , score=-4732415148.921, total=   0.2s\n",
      "[CV]  ................................................................\n",
      "[CV] .......................... , score=-5576519753.160, total=   0.2s\n",
      "[CV]  ................................................................\n",
      "[CV] .......................... , score=-5219069185.746, total=   0.2s\n",
      "[CV]  ................................................................\n",
      "[CV] .......................... , score=-5278457786.108, total=   0.2s\n",
      "[CV]  ................................................................\n",
      "[CV] .......................... , score=-5296381515.737, total=   0.2s\n",
      "[CV]  ................................................................\n",
      "[CV] .......................... , score=-5177652436.500, total=   0.2s\n",
      "Суммы оценок: [74111.60647836 69013.00924172 71136.07723735 72320.21167773\n",
      " 68792.55155117 74676.09894176 72243.12552587 72652.99571324\n",
      " 72776.24279761 71955.90619608]\n",
      "Среднее: 71967.78253608907\n",
      "Стандартное отклонение: 1809.93800400126\n"
     ]
    },
    {
     "name": "stderr",
     "output_type": "stream",
     "text": [
      "[Parallel(n_jobs=1)]: Done  10 out of  10 | elapsed:    2.3s finished\n"
     ]
    }
   ],
   "source": [
    "scores = cross_val_score(tree_reg, housing_prepared,\n",
    "                        housing_labels, scoring = 'neg_mean_squared_error', cv=10, verbose = 4)\n",
    "tree_rmse_scores = np.sqrt(-scores)\n",
    "display_scores(tree_rmse_scores)"
   ]
  },
  {
   "cell_type": "code",
   "execution_count": 40,
   "metadata": {
    "colab": {
     "base_uri": "https://localhost:8080/",
     "height": 35
    },
    "colab_type": "code",
    "collapsed": true,
    "id": "BMcs4lAvJJo0",
    "outputId": "0ebf11da-4cfd-4f1e-dfdb-913b8e4ee55e"
   },
   "outputs": [
    {
     "data": {
      "text/plain": [
       "18869.69942309214"
      ]
     },
     "execution_count": 40,
     "metadata": {},
     "output_type": "execute_result"
    }
   ],
   "source": [
    "#Случайные леса\n",
    "\n",
    "from sklearn.ensemble import RandomForestRegressor\n",
    "\n",
    "forest_reg = RandomForestRegressor()\n",
    "forest_reg.fit(housing_prepared, housing_labels)\n",
    "housing_predictions = forest_reg.predict(housing_prepared)\n",
    "forest_mse = mean_squared_error(housing_labels, housing_predictions)\n",
    "forest_rmse = np.sqrt(forest_mse)\n",
    "forest_rmse"
   ]
  },
  {
   "cell_type": "code",
   "execution_count": 41,
   "metadata": {
    "colab": {
     "base_uri": "https://localhost:8080/",
     "height": 503
    },
    "colab_type": "code",
    "collapsed": true,
    "id": "DIq1t4kcJJo3",
    "outputId": "1e1b77fb-3834-4bb8-d5a1-f3adac4c10a4"
   },
   "outputs": [
    {
     "name": "stderr",
     "output_type": "stream",
     "text": [
      "[Parallel(n_jobs=1)]: Using backend SequentialBackend with 1 concurrent workers.\n"
     ]
    },
    {
     "name": "stdout",
     "output_type": "stream",
     "text": [
      "[CV]  ................................................................\n",
      "[CV] .......................... , score=-2523465666.670, total=  15.1s\n",
      "[CV]  ................................................................\n"
     ]
    },
    {
     "name": "stderr",
     "output_type": "stream",
     "text": [
      "[Parallel(n_jobs=1)]: Done   1 out of   1 | elapsed:   15.0s remaining:    0.0s\n"
     ]
    },
    {
     "name": "stdout",
     "output_type": "stream",
     "text": [
      "[CV] .......................... , score=-2298586896.631, total=  13.8s\n",
      "[CV]  ................................................................\n"
     ]
    },
    {
     "name": "stderr",
     "output_type": "stream",
     "text": [
      "[Parallel(n_jobs=1)]: Done   2 out of   2 | elapsed:   28.8s remaining:    0.0s\n"
     ]
    },
    {
     "name": "stdout",
     "output_type": "stream",
     "text": [
      "[CV] .......................... , score=-2629329928.220, total=  14.1s\n",
      "[CV]  ................................................................\n"
     ]
    },
    {
     "name": "stderr",
     "output_type": "stream",
     "text": [
      "[Parallel(n_jobs=1)]: Done   3 out of   3 | elapsed:   42.9s remaining:    0.0s\n"
     ]
    },
    {
     "name": "stdout",
     "output_type": "stream",
     "text": [
      "[CV] .......................... , score=-2764786590.182, total=  14.1s\n",
      "[CV]  ................................................................\n",
      "[CV] .......................... , score=-2512409323.005, total=  14.1s\n",
      "[CV]  ................................................................\n",
      "[CV] .......................... , score=-2965710568.481, total=  14.0s\n",
      "[CV]  ................................................................\n",
      "[CV] .......................... , score=-2409569928.050, total=  14.0s\n",
      "[CV]  ................................................................\n",
      "[CV] .......................... , score=-2337525421.098, total=  13.9s\n",
      "[CV]  ................................................................\n",
      "[CV] .......................... , score=-2853738066.105, total=  14.1s\n",
      "[CV]  ................................................................\n",
      "[CV] .......................... , score=-2642755517.875, total=  13.9s\n",
      "Суммы оценок: [50234.10859835 47943.58034848 51276.99219162 52581.23800541\n",
      " 50123.93961976 54458.33791516 49087.37035175 48347.96191256\n",
      " 53420.38998459 51407.73791828]\n",
      "Среднее: 50888.16568459534\n",
      "Стандартное отклонение: 2045.0877460303927\n"
     ]
    },
    {
     "name": "stderr",
     "output_type": "stream",
     "text": [
      "[Parallel(n_jobs=1)]: Done  10 out of  10 | elapsed:  2.4min finished\n"
     ]
    }
   ],
   "source": [
    "forest_scores = cross_val_score(forest_reg, housing_prepared,\n",
    "                                housing_labels, scoring = 'neg_mean_squared_error', cv = 10, verbose = 4)\n",
    "forest_rmse_scores = np.sqrt(-forest_scores)\n",
    "display_scores(forest_rmse_scores)"
   ]
  },
  {
   "cell_type": "code",
   "execution_count": 42,
   "metadata": {
    "colab": {
     "base_uri": "https://localhost:8080/",
     "height": 35
    },
    "colab_type": "code",
    "collapsed": true,
    "id": "DQ7t2znfJJo-",
    "outputId": "7b58412f-a318-4107-d0fe-f43e472e474a"
   },
   "outputs": [
    {
     "data": {
      "text/plain": [
       "118472.81695154346"
      ]
     },
     "execution_count": 42,
     "metadata": {},
     "output_type": "execute_result"
    }
   ],
   "source": [
    "#Метод опорных векторов\n",
    "\n",
    "from sklearn.svm import SVR\n",
    "\n",
    "vec_reg = SVR()\n",
    "vec_reg.fit(housing_prepared, housing_labels)\n",
    "housing_predictions = vec_reg.predict(housing_prepared)\n",
    "vec_mse = mean_squared_error(housing_labels, housing_predictions)\n",
    "vec_rmse = np.sqrt(vec_mse)\n",
    "vec_rmse"
   ]
  },
  {
   "cell_type": "code",
   "execution_count": 43,
   "metadata": {
    "colab": {
     "base_uri": "https://localhost:8080/",
     "height": 537
    },
    "colab_type": "code",
    "collapsed": true,
    "id": "ZYcxhq3oJJpD",
    "outputId": "ac633f70-663a-49b8-bb10-6c96e25d4f4d"
   },
   "outputs": [
    {
     "name": "stderr",
     "output_type": "stream",
     "text": [
      "[Parallel(n_jobs=1)]: Using backend SequentialBackend with 1 concurrent workers.\n"
     ]
    },
    {
     "name": "stdout",
     "output_type": "stream",
     "text": [
      "[CV]  ................................................................\n",
      "[CV] ......................... , score=-12387251806.636, total=  11.2s\n",
      "[CV]  ................................................................\n"
     ]
    },
    {
     "name": "stderr",
     "output_type": "stream",
     "text": [
      "[Parallel(n_jobs=1)]: Done   1 out of   1 | elapsed:   11.1s remaining:    0.0s\n"
     ]
    },
    {
     "name": "stdout",
     "output_type": "stream",
     "text": [
      "[CV] ......................... , score=-14271142911.721, total=  11.3s\n",
      "[CV]  ................................................................\n"
     ]
    },
    {
     "name": "stderr",
     "output_type": "stream",
     "text": [
      "[Parallel(n_jobs=1)]: Done   2 out of   2 | elapsed:   22.4s remaining:    0.0s\n"
     ]
    },
    {
     "name": "stdout",
     "output_type": "stream",
     "text": [
      "[CV] ......................... , score=-13658851206.753, total=  11.0s\n",
      "[CV]  ................................................................\n"
     ]
    },
    {
     "name": "stderr",
     "output_type": "stream",
     "text": [
      "[Parallel(n_jobs=1)]: Done   3 out of   3 | elapsed:   33.4s remaining:    0.0s\n"
     ]
    },
    {
     "name": "stdout",
     "output_type": "stream",
     "text": [
      "[CV] ......................... , score=-14484852483.242, total=  11.0s\n",
      "[CV]  ................................................................\n",
      "[CV] ......................... , score=-13808539278.661, total=  11.0s\n",
      "[CV]  ................................................................\n",
      "[CV] ......................... , score=-14929025093.953, total=  11.0s\n",
      "[CV]  ................................................................\n",
      "[CV] ......................... , score=-13816389440.586, total=  11.1s\n",
      "[CV]  ................................................................\n",
      "[CV] ......................... , score=-14735188826.731, total=  11.1s\n",
      "[CV]  ................................................................\n",
      "[CV] ......................... , score=-14465076307.753, total=  11.1s\n",
      "[CV]  ................................................................\n",
      "[CV] ......................... , score=-13904463678.700, total=  11.1s\n",
      "Суммы оценок: [111298.03145894 119461.88895092 116871.08798481 120353.03271311\n",
      " 117509.74120753 122184.38973106 117543.13863678 121388.58606447\n",
      " 120270.84562667 117917.1899203 ]\n",
      "Среднее: 118479.79322945962\n",
      "Стандартное отклонение: 2935.4215673861004\n"
     ]
    },
    {
     "name": "stderr",
     "output_type": "stream",
     "text": [
      "[Parallel(n_jobs=1)]: Done  10 out of  10 | elapsed:  1.8min finished\n"
     ]
    }
   ],
   "source": [
    "vec_scores = cross_val_score(vec_reg, housing_prepared,\n",
    "                            housing_labels, scoring = 'neg_mean_squared_error', cv = 10, verbose = 4)\n",
    "vec_rmse_scores = np.sqrt(-vec_scores)\n",
    "display_scores(vec_rmse_scores)"
   ]
  },
  {
   "cell_type": "markdown",
   "metadata": {
    "colab_type": "text",
    "id": "L1BPOv36JJpK"
   },
   "source": [
    "### Точная настройка"
   ]
  },
  {
   "cell_type": "code",
   "execution_count": 44,
   "metadata": {
    "colab": {
     "base_uri": "https://localhost:8080/",
     "height": 1000
    },
    "colab_type": "code",
    "collapsed": true,
    "id": "ASxUBJWLJJpL",
    "outputId": "a2df669c-d831-429f-b70c-51f84d45151d"
   },
   "outputs": [
    {
     "name": "stdout",
     "output_type": "stream",
     "text": [
      "Fitting 5 folds for each of 56 candidates, totalling 280 fits\n",
      "[CV] C=10.0, kernel=linear ...........................................\n"
     ]
    },
    {
     "name": "stderr",
     "output_type": "stream",
     "text": [
      "[Parallel(n_jobs=1)]: Using backend SequentialBackend with 1 concurrent workers.\n"
     ]
    },
    {
     "name": "stdout",
     "output_type": "stream",
     "text": [
      "[CV] ..... C=10.0, kernel=linear, score=-5487178942.890, total=   5.5s\n",
      "[CV] C=10.0, kernel=linear ...........................................\n"
     ]
    },
    {
     "name": "stderr",
     "output_type": "stream",
     "text": [
      "[Parallel(n_jobs=1)]: Done   1 out of   1 | elapsed:    5.4s remaining:    0.0s\n"
     ]
    },
    {
     "name": "stdout",
     "output_type": "stream",
     "text": [
      "[CV] ..... C=10.0, kernel=linear, score=-5757503656.580, total=   5.6s\n",
      "[CV] C=10.0, kernel=linear ...........................................\n"
     ]
    },
    {
     "name": "stderr",
     "output_type": "stream",
     "text": [
      "[Parallel(n_jobs=1)]: Done   2 out of   2 | elapsed:   11.0s remaining:    0.0s\n"
     ]
    },
    {
     "name": "stdout",
     "output_type": "stream",
     "text": [
      "[CV] ..... C=10.0, kernel=linear, score=-5950598189.405, total=   5.5s\n",
      "[CV] C=10.0, kernel=linear ...........................................\n"
     ]
    },
    {
     "name": "stderr",
     "output_type": "stream",
     "text": [
      "[Parallel(n_jobs=1)]: Done   3 out of   3 | elapsed:   16.5s remaining:    0.0s\n"
     ]
    },
    {
     "name": "stdout",
     "output_type": "stream",
     "text": [
      "[CV] ..... C=10.0, kernel=linear, score=-5592205537.191, total=   5.6s\n",
      "[CV] C=10.0, kernel=linear ...........................................\n"
     ]
    },
    {
     "name": "stderr",
     "output_type": "stream",
     "text": [
      "[Parallel(n_jobs=1)]: Done   4 out of   4 | elapsed:   22.0s remaining:    0.0s\n"
     ]
    },
    {
     "name": "stdout",
     "output_type": "stream",
     "text": [
      "[CV] ..... C=10.0, kernel=linear, score=-6086162558.017, total=   5.5s\n",
      "[CV] C=30.0, kernel=linear ...........................................\n"
     ]
    },
    {
     "name": "stderr",
     "output_type": "stream",
     "text": [
      "[Parallel(n_jobs=1)]: Done   5 out of   5 | elapsed:   27.6s remaining:    0.0s\n"
     ]
    },
    {
     "name": "stdout",
     "output_type": "stream",
     "text": [
      "[CV] ..... C=30.0, kernel=linear, score=-4624529031.765, total=   5.4s\n",
      "[CV] C=30.0, kernel=linear ...........................................\n",
      "[CV] ..... C=30.0, kernel=linear, score=-5014240202.894, total=   5.6s\n",
      "[CV] C=30.0, kernel=linear ...........................................\n",
      "[CV] ..... C=30.0, kernel=linear, score=-5079063032.582, total=   5.4s\n",
      "[CV] C=30.0, kernel=linear ...........................................\n",
      "[CV] ..... C=30.0, kernel=linear, score=-4663292976.212, total=   5.4s\n",
      "[CV] C=30.0, kernel=linear ...........................................\n",
      "[CV] ..... C=30.0, kernel=linear, score=-5158372179.473, total=   5.5s\n",
      "[CV] C=100.0, kernel=linear ..........................................\n",
      "[CV] .... C=100.0, kernel=linear, score=-4353333513.496, total=   5.4s\n",
      "[CV] C=100.0, kernel=linear ..........................................\n",
      "[CV] .... C=100.0, kernel=linear, score=-4886241750.720, total=   5.3s\n",
      "[CV] C=100.0, kernel=linear ..........................................\n",
      "[CV] .... C=100.0, kernel=linear, score=-4830620284.281, total=   5.5s\n",
      "[CV] C=100.0, kernel=linear ..........................................\n",
      "[CV] .... C=100.0, kernel=linear, score=-4386744694.572, total=   5.4s\n",
      "[CV] C=100.0, kernel=linear ..........................................\n",
      "[CV] .... C=100.0, kernel=linear, score=-4875941873.971, total=   5.4s\n",
      "[CV] C=300.0, kernel=linear ..........................................\n",
      "[CV] .... C=300.0, kernel=linear, score=-4267626088.880, total=   5.6s\n",
      "[CV] C=300.0, kernel=linear ..........................................\n",
      "[CV] .... C=300.0, kernel=linear, score=-4871058648.296, total=   5.5s\n",
      "[CV] C=300.0, kernel=linear ..........................................\n",
      "[CV] .... C=300.0, kernel=linear, score=-4752959082.658, total=   5.6s\n",
      "[CV] C=300.0, kernel=linear ..........................................\n",
      "[CV] .... C=300.0, kernel=linear, score=-4320904009.323, total=   5.6s\n",
      "[CV] C=300.0, kernel=linear ..........................................\n",
      "[CV] .... C=300.0, kernel=linear, score=-4782072311.120, total=   5.5s\n",
      "[CV] C=1000.0, kernel=linear .........................................\n",
      "[CV] ... C=1000.0, kernel=linear, score=-4234129238.645, total=   5.7s\n",
      "[CV] C=1000.0, kernel=linear .........................................\n",
      "[CV] ... C=1000.0, kernel=linear, score=-4869332926.093, total=   5.8s\n",
      "[CV] C=1000.0, kernel=linear .........................................\n",
      "[CV] ... C=1000.0, kernel=linear, score=-4719232803.422, total=   5.9s\n",
      "[CV] C=1000.0, kernel=linear .........................................\n",
      "[CV] ... C=1000.0, kernel=linear, score=-4282192081.306, total=   5.8s\n",
      "[CV] C=1000.0, kernel=linear .........................................\n",
      "[CV] ... C=1000.0, kernel=linear, score=-4732501529.517, total=   5.7s\n",
      "[CV] C=3000.0, kernel=linear .........................................\n",
      "[CV] ... C=3000.0, kernel=linear, score=-4225722110.330, total=   6.3s\n",
      "[CV] C=3000.0, kernel=linear .........................................\n",
      "[CV] ... C=3000.0, kernel=linear, score=-4872015485.632, total=   6.4s\n",
      "[CV] C=3000.0, kernel=linear .........................................\n",
      "[CV] ... C=3000.0, kernel=linear, score=-4705684346.562, total=   6.5s\n",
      "[CV] C=3000.0, kernel=linear .........................................\n",
      "[CV] ... C=3000.0, kernel=linear, score=-4268230064.406, total=   6.3s\n",
      "[CV] C=3000.0, kernel=linear .........................................\n",
      "[CV] ... C=3000.0, kernel=linear, score=-4719117963.496, total=   6.3s\n",
      "[CV] C=10000.0, kernel=linear ........................................\n",
      "[CV] .. C=10000.0, kernel=linear, score=-4222365961.487, total=   8.3s\n",
      "[CV] C=10000.0, kernel=linear ........................................\n",
      "[CV] .. C=10000.0, kernel=linear, score=-4867035495.080, total=   8.5s\n",
      "[CV] C=10000.0, kernel=linear ........................................\n",
      "[CV] .. C=10000.0, kernel=linear, score=-4698954601.568, total=   8.6s\n",
      "[CV] C=10000.0, kernel=linear ........................................\n",
      "[CV] .. C=10000.0, kernel=linear, score=-4261995277.217, total=   8.1s\n",
      "[CV] C=10000.0, kernel=linear ........................................\n",
      "[CV] .. C=10000.0, kernel=linear, score=-4712223856.151, total=   7.6s\n",
      "[CV] C=30000.0, kernel=linear ........................................\n",
      "[CV] .. C=30000.0, kernel=linear, score=-4221030555.345, total=  12.5s\n",
      "[CV] C=30000.0, kernel=linear ........................................\n",
      "[CV] .. C=30000.0, kernel=linear, score=-4862956325.242, total=  12.6s\n",
      "[CV] C=30000.0, kernel=linear ........................................\n",
      "[CV] .. C=30000.0, kernel=linear, score=-4697146007.589, total=  12.5s\n",
      "[CV] C=30000.0, kernel=linear ........................................\n",
      "[CV] .. C=30000.0, kernel=linear, score=-4263506148.191, total=  13.0s\n",
      "[CV] C=30000.0, kernel=linear ........................................\n",
      "[CV] .. C=30000.0, kernel=linear, score=-4705637931.518, total=  12.3s\n",
      "[CV] C=10.0, gamma=0.01, kernel=rbf ..................................\n",
      "[CV]  C=10.0, gamma=0.01, kernel=rbf, score=-13016681890.338, total=   9.6s\n",
      "[CV] C=10.0, gamma=0.01, kernel=rbf ..................................\n",
      "[CV]  C=10.0, gamma=0.01, kernel=rbf, score=-13731329424.157, total=   9.5s\n",
      "[CV] C=10.0, gamma=0.01, kernel=rbf ..................................\n",
      "[CV]  C=10.0, gamma=0.01, kernel=rbf, score=-14054341484.641, total=   9.5s\n",
      "[CV] C=10.0, gamma=0.01, kernel=rbf ..................................\n",
      "[CV]  C=10.0, gamma=0.01, kernel=rbf, score=-13946158473.221, total=   9.5s\n",
      "[CV] C=10.0, gamma=0.01, kernel=rbf ..................................\n",
      "[CV]  C=10.0, gamma=0.01, kernel=rbf, score=-13882552232.443, total=   9.4s\n",
      "[CV] C=10.0, gamma=0.03, kernel=rbf ..................................\n",
      "[CV]  C=10.0, gamma=0.03, kernel=rbf, score=-12677805826.226, total=   9.4s\n",
      "[CV] C=10.0, gamma=0.03, kernel=rbf ..................................\n",
      "[CV]  C=10.0, gamma=0.03, kernel=rbf, score=-13384857200.427, total=   9.5s\n",
      "[CV] C=10.0, gamma=0.03, kernel=rbf ..................................\n",
      "[CV]  C=10.0, gamma=0.03, kernel=rbf, score=-13711727268.240, total=   9.4s\n",
      "[CV] C=10.0, gamma=0.03, kernel=rbf ..................................\n",
      "[CV]  C=10.0, gamma=0.03, kernel=rbf, score=-13600583285.399, total=   9.5s\n",
      "[CV] C=10.0, gamma=0.03, kernel=rbf ..................................\n",
      "[CV]  C=10.0, gamma=0.03, kernel=rbf, score=-13550400122.858, total=   9.4s\n",
      "[CV] C=10.0, gamma=0.1, kernel=rbf ...................................\n",
      "[CV]  C=10.0, gamma=0.1, kernel=rbf, score=-12670606654.034, total=   9.3s\n",
      "[CV] C=10.0, gamma=0.1, kernel=rbf ...................................\n",
      "[CV]  C=10.0, gamma=0.1, kernel=rbf, score=-13382653101.471, total=   9.2s\n",
      "[CV] C=10.0, gamma=0.1, kernel=rbf ...................................\n",
      "[CV]  C=10.0, gamma=0.1, kernel=rbf, score=-13704484467.611, total=   9.6s\n",
      "[CV] C=10.0, gamma=0.1, kernel=rbf ...................................\n",
      "[CV]  C=10.0, gamma=0.1, kernel=rbf, score=-13599184903.280, total=  10.4s\n",
      "[CV] C=10.0, gamma=0.1, kernel=rbf ...................................\n",
      "[CV]  C=10.0, gamma=0.1, kernel=rbf, score=-13536177963.927, total=   9.8s\n",
      "[CV] C=10.0, gamma=0.3, kernel=rbf ...................................\n",
      "[CV]  C=10.0, gamma=0.3, kernel=rbf, score=-13092735514.260, total=   9.2s\n",
      "[CV] C=10.0, gamma=0.3, kernel=rbf ...................................\n",
      "[CV]  C=10.0, gamma=0.3, kernel=rbf, score=-13828090995.241, total=   9.4s\n",
      "[CV] C=10.0, gamma=0.3, kernel=rbf ...................................\n",
      "[CV]  C=10.0, gamma=0.3, kernel=rbf, score=-14143828948.889, total=   9.5s\n",
      "[CV] C=10.0, gamma=0.3, kernel=rbf ...................................\n",
      "[CV]  C=10.0, gamma=0.3, kernel=rbf, score=-14049199713.065, total=   9.2s\n",
      "[CV] C=10.0, gamma=0.3, kernel=rbf ...................................\n",
      "[CV]  C=10.0, gamma=0.3, kernel=rbf, score=-13959284302.009, total=   9.0s\n",
      "[CV] C=10.0, gamma=1.0, kernel=rbf ...................................\n",
      "[CV]  C=10.0, gamma=1.0, kernel=rbf, score=-13354257230.445, total=   8.9s\n",
      "[CV] C=10.0, gamma=1.0, kernel=rbf ...................................\n",
      "[CV]  C=10.0, gamma=1.0, kernel=rbf, score=-14101180634.879, total=   8.9s\n",
      "[CV] C=10.0, gamma=1.0, kernel=rbf ...................................\n",
      "[CV]  C=10.0, gamma=1.0, kernel=rbf, score=-14427944563.499, total=   9.0s\n",
      "[CV] C=10.0, gamma=1.0, kernel=rbf ...................................\n"
     ]
    },
    {
     "name": "stdout",
     "output_type": "stream",
     "text": [
      "[CV]  C=10.0, gamma=1.0, kernel=rbf, score=-14330177388.706, total=   8.8s\n",
      "[CV] C=10.0, gamma=1.0, kernel=rbf ...................................\n",
      "[CV]  C=10.0, gamma=1.0, kernel=rbf, score=-14248264666.593, total=   9.0s\n",
      "[CV] C=10.0, gamma=3.0, kernel=rbf ...................................\n",
      "[CV]  C=10.0, gamma=3.0, kernel=rbf, score=-13394910999.449, total=  10.4s\n",
      "[CV] C=10.0, gamma=3.0, kernel=rbf ...................................\n",
      "[CV]  C=10.0, gamma=3.0, kernel=rbf, score=-14150284792.184, total=  10.6s\n",
      "[CV] C=10.0, gamma=3.0, kernel=rbf ...................................\n",
      "[CV]  C=10.0, gamma=3.0, kernel=rbf, score=-14472657673.950, total=  10.6s\n",
      "[CV] C=10.0, gamma=3.0, kernel=rbf ...................................\n",
      "[CV]  C=10.0, gamma=3.0, kernel=rbf, score=-14375536807.271, total=  11.0s\n",
      "[CV] C=10.0, gamma=3.0, kernel=rbf ...................................\n",
      "[CV]  C=10.0, gamma=3.0, kernel=rbf, score=-14290010845.939, total=  11.0s\n",
      "[CV] C=30.0, gamma=0.01, kernel=rbf ..................................\n",
      "[CV]  C=30.0, gamma=0.01, kernel=rbf, score=-12249711763.175, total=   9.8s\n",
      "[CV] C=30.0, gamma=0.01, kernel=rbf ..................................\n",
      "[CV]  C=30.0, gamma=0.01, kernel=rbf, score=-12920857989.652, total=   9.5s\n",
      "[CV] C=30.0, gamma=0.01, kernel=rbf ..................................\n",
      "[CV]  C=30.0, gamma=0.01, kernel=rbf, score=-13252082668.253, total=   9.5s\n",
      "[CV] C=30.0, gamma=0.01, kernel=rbf ..................................\n",
      "[CV]  C=30.0, gamma=0.01, kernel=rbf, score=-13126142740.628, total=   9.5s\n",
      "[CV] C=30.0, gamma=0.01, kernel=rbf ..................................\n",
      "[CV]  C=30.0, gamma=0.01, kernel=rbf, score=-13113165940.515, total=   9.5s\n",
      "[CV] C=30.0, gamma=0.03, kernel=rbf ..................................\n",
      "[CV]  C=30.0, gamma=0.03, kernel=rbf, score=-11394362768.462, total=   9.4s\n",
      "[CV] C=30.0, gamma=0.03, kernel=rbf ..................................\n",
      "[CV]  C=30.0, gamma=0.03, kernel=rbf, score=-12040868013.377, total=   9.5s\n",
      "[CV] C=30.0, gamma=0.03, kernel=rbf ..................................\n",
      "[CV]  C=30.0, gamma=0.03, kernel=rbf, score=-12350217859.554, total=   9.3s\n",
      "[CV] C=30.0, gamma=0.03, kernel=rbf ..................................\n",
      "[CV]  C=30.0, gamma=0.03, kernel=rbf, score=-12216612165.528, total=   9.5s\n",
      "[CV] C=30.0, gamma=0.03, kernel=rbf ..................................\n",
      "[CV]  C=30.0, gamma=0.03, kernel=rbf, score=-12203332440.680, total=   9.4s\n",
      "[CV] C=30.0, gamma=0.1, kernel=rbf ...................................\n",
      "[CV]  C=30.0, gamma=0.1, kernel=rbf, score=-11395858357.710, total=   9.2s\n",
      "[CV] C=30.0, gamma=0.1, kernel=rbf ...................................\n",
      "[CV]  C=30.0, gamma=0.1, kernel=rbf, score=-12064018556.734, total=   9.2s\n",
      "[CV] C=30.0, gamma=0.1, kernel=rbf ...................................\n",
      "[CV]  C=30.0, gamma=0.1, kernel=rbf, score=-12359578697.444, total=   9.2s\n",
      "[CV] C=30.0, gamma=0.1, kernel=rbf ...................................\n",
      "[CV]  C=30.0, gamma=0.1, kernel=rbf, score=-12243568701.601, total=   9.2s\n",
      "[CV] C=30.0, gamma=0.1, kernel=rbf ...................................\n",
      "[CV]  C=30.0, gamma=0.1, kernel=rbf, score=-12190500797.785, total=   9.2s\n",
      "[CV] C=30.0, gamma=0.3, kernel=rbf ...................................\n",
      "[CV]  C=30.0, gamma=0.3, kernel=rbf, score=-12519589837.929, total=   9.0s\n",
      "[CV] C=30.0, gamma=0.3, kernel=rbf ...................................\n",
      "[CV]  C=30.0, gamma=0.3, kernel=rbf, score=-13226739348.863, total=   8.9s\n",
      "[CV] C=30.0, gamma=0.3, kernel=rbf ...................................\n",
      "[CV]  C=30.0, gamma=0.3, kernel=rbf, score=-13565237643.431, total=   9.0s\n",
      "[CV] C=30.0, gamma=0.3, kernel=rbf ...................................\n",
      "[CV]  C=30.0, gamma=0.3, kernel=rbf, score=-13453346410.550, total=   9.1s\n",
      "[CV] C=30.0, gamma=0.3, kernel=rbf ...................................\n",
      "[CV]  C=30.0, gamma=0.3, kernel=rbf, score=-13383644463.678, total=   9.0s\n",
      "[CV] C=30.0, gamma=1.0, kernel=rbf ...................................\n",
      "[CV]  C=30.0, gamma=1.0, kernel=rbf, score=-13256284738.846, total=   8.9s\n",
      "[CV] C=30.0, gamma=1.0, kernel=rbf ...................................\n",
      "[CV]  C=30.0, gamma=1.0, kernel=rbf, score=-13997612868.807, total=   8.9s\n",
      "[CV] C=30.0, gamma=1.0, kernel=rbf ...................................\n",
      "[CV]  C=30.0, gamma=1.0, kernel=rbf, score=-14322722872.665, total=   8.8s\n",
      "[CV] C=30.0, gamma=1.0, kernel=rbf ...................................\n",
      "[CV]  C=30.0, gamma=1.0, kernel=rbf, score=-14223131527.520, total=   8.9s\n",
      "[CV] C=30.0, gamma=1.0, kernel=rbf ...................................\n",
      "[CV]  C=30.0, gamma=1.0, kernel=rbf, score=-14139251607.267, total=   9.1s\n",
      "[CV] C=30.0, gamma=3.0, kernel=rbf ...................................\n",
      "[CV]  C=30.0, gamma=3.0, kernel=rbf, score=-13384282008.314, total=  10.4s\n",
      "[CV] C=30.0, gamma=3.0, kernel=rbf ...................................\n",
      "[CV]  C=30.0, gamma=3.0, kernel=rbf, score=-14135880676.254, total=  10.4s\n",
      "[CV] C=30.0, gamma=3.0, kernel=rbf ...................................\n",
      "[CV]  C=30.0, gamma=3.0, kernel=rbf, score=-14461926145.334, total=  10.4s\n",
      "[CV] C=30.0, gamma=3.0, kernel=rbf ...................................\n",
      "[CV]  C=30.0, gamma=3.0, kernel=rbf, score=-14365854753.335, total=  10.4s\n",
      "[CV] C=30.0, gamma=3.0, kernel=rbf ...................................\n",
      "[CV]  C=30.0, gamma=3.0, kernel=rbf, score=-14278694506.812, total=  10.4s\n",
      "[CV] C=100.0, gamma=0.01, kernel=rbf .................................\n",
      "[CV]  C=100.0, gamma=0.01, kernel=rbf, score=-10119999432.978, total=   9.4s\n",
      "[CV] C=100.0, gamma=0.01, kernel=rbf .................................\n",
      "[CV]  C=100.0, gamma=0.01, kernel=rbf, score=-10660039141.404, total=   9.3s\n",
      "[CV] C=100.0, gamma=0.01, kernel=rbf .................................\n",
      "[CV]  C=100.0, gamma=0.01, kernel=rbf, score=-10976738198.956, total=   9.3s\n",
      "[CV] C=100.0, gamma=0.01, kernel=rbf .................................\n",
      "[CV]  C=100.0, gamma=0.01, kernel=rbf, score=-10807201748.337, total=   9.3s\n",
      "[CV] C=100.0, gamma=0.01, kernel=rbf .................................\n",
      "[CV]  C=100.0, gamma=0.01, kernel=rbf, score=-10906388516.948, total=   9.4s\n",
      "[CV] C=100.0, gamma=0.03, kernel=rbf .................................\n",
      "[CV]  C=100.0, gamma=0.03, kernel=rbf, score=-8429098475.466, total=   9.2s\n",
      "[CV] C=100.0, gamma=0.03, kernel=rbf .................................\n",
      "[CV]  C=100.0, gamma=0.03, kernel=rbf, score=-8924802382.142, total=  10.0s\n",
      "[CV] C=100.0, gamma=0.03, kernel=rbf .................................\n",
      "[CV]  C=100.0, gamma=0.03, kernel=rbf, score=-9183787263.723, total=   9.7s\n",
      "[CV] C=100.0, gamma=0.03, kernel=rbf .................................\n",
      "[CV]  C=100.0, gamma=0.03, kernel=rbf, score=-8961521352.335, total=   9.2s\n",
      "[CV] C=100.0, gamma=0.03, kernel=rbf .................................\n",
      "[CV]  C=100.0, gamma=0.03, kernel=rbf, score=-9089591792.222, total=   9.3s\n",
      "[CV] C=100.0, gamma=0.1, kernel=rbf ..................................\n",
      "[CV]  C=100.0, gamma=0.1, kernel=rbf, score=-8707415504.433, total=   9.0s\n",
      "[CV] C=100.0, gamma=0.1, kernel=rbf ..................................\n",
      "[CV]  C=100.0, gamma=0.1, kernel=rbf, score=-9303362166.642, total=   9.1s\n",
      "[CV] C=100.0, gamma=0.1, kernel=rbf ..................................\n",
      "[CV]  C=100.0, gamma=0.1, kernel=rbf, score=-9522716317.822, total=   9.1s\n",
      "[CV] C=100.0, gamma=0.1, kernel=rbf ..................................\n",
      "[CV]  C=100.0, gamma=0.1, kernel=rbf, score=-9356098372.642, total=   9.0s\n",
      "[CV] C=100.0, gamma=0.1, kernel=rbf ..................................\n",
      "[CV]  C=100.0, gamma=0.1, kernel=rbf, score=-9352580790.841, total=   9.1s\n",
      "[CV] C=100.0, gamma=0.3, kernel=rbf ..................................\n",
      "[CV]  C=100.0, gamma=0.3, kernel=rbf, score=-10933059635.819, total=   8.9s\n",
      "[CV] C=100.0, gamma=0.3, kernel=rbf ..................................\n",
      "[CV]  C=100.0, gamma=0.3, kernel=rbf, score=-11628946429.127, total=   9.0s\n",
      "[CV] C=100.0, gamma=0.3, kernel=rbf ..................................\n",
      "[CV]  C=100.0, gamma=0.3, kernel=rbf, score=-11899465006.547, total=   8.8s\n",
      "[CV] C=100.0, gamma=0.3, kernel=rbf ..................................\n",
      "[CV]  C=100.0, gamma=0.3, kernel=rbf, score=-11778130979.478, total=   8.9s\n",
      "[CV] C=100.0, gamma=0.3, kernel=rbf ..................................\n"
     ]
    },
    {
     "name": "stdout",
     "output_type": "stream",
     "text": [
      "[CV]  C=100.0, gamma=0.3, kernel=rbf, score=-11727797266.745, total=   9.0s\n",
      "[CV] C=100.0, gamma=1.0, kernel=rbf ..................................\n",
      "[CV]  C=100.0, gamma=1.0, kernel=rbf, score=-12941481975.525, total=   8.9s\n",
      "[CV] C=100.0, gamma=1.0, kernel=rbf ..................................\n",
      "[CV]  C=100.0, gamma=1.0, kernel=rbf, score=-13665375459.189, total=   8.9s\n",
      "[CV] C=100.0, gamma=1.0, kernel=rbf ..................................\n",
      "[CV]  C=100.0, gamma=1.0, kernel=rbf, score=-13992264712.572, total=   8.8s\n",
      "[CV] C=100.0, gamma=1.0, kernel=rbf ..................................\n",
      "[CV]  C=100.0, gamma=1.0, kernel=rbf, score=-13905927784.506, total=   8.9s\n",
      "[CV] C=100.0, gamma=1.0, kernel=rbf ..................................\n",
      "[CV]  C=100.0, gamma=1.0, kernel=rbf, score=-13831922809.785, total=   8.8s\n",
      "[CV] C=100.0, gamma=3.0, kernel=rbf ..................................\n",
      "[CV]  C=100.0, gamma=3.0, kernel=rbf, score=-13344626590.346, total=  10.3s\n",
      "[CV] C=100.0, gamma=3.0, kernel=rbf ..................................\n",
      "[CV]  C=100.0, gamma=3.0, kernel=rbf, score=-14087091693.342, total=  10.4s\n",
      "[CV] C=100.0, gamma=3.0, kernel=rbf ..................................\n",
      "[CV]  C=100.0, gamma=3.0, kernel=rbf, score=-14408256543.670, total=  10.3s\n",
      "[CV] C=100.0, gamma=3.0, kernel=rbf ..................................\n",
      "[CV]  C=100.0, gamma=3.0, kernel=rbf, score=-14313817388.046, total=  10.5s\n",
      "[CV] C=100.0, gamma=3.0, kernel=rbf ..................................\n",
      "[CV]  C=100.0, gamma=3.0, kernel=rbf, score=-14232728931.867, total=  10.3s\n",
      "[CV] C=300.0, gamma=0.01, kernel=rbf .................................\n",
      "[CV]  C=300.0, gamma=0.01, kernel=rbf, score=-6950496966.083, total=   9.2s\n",
      "[CV] C=300.0, gamma=0.01, kernel=rbf .................................\n",
      "[CV]  C=300.0, gamma=0.01, kernel=rbf, score=-7276906820.889, total=   9.3s\n",
      "[CV] C=300.0, gamma=0.01, kernel=rbf .................................\n",
      "[CV]  C=300.0, gamma=0.01, kernel=rbf, score=-7545217104.319, total=   9.2s\n",
      "[CV] C=300.0, gamma=0.01, kernel=rbf .................................\n",
      "[CV]  C=300.0, gamma=0.01, kernel=rbf, score=-7260899271.530, total=   9.2s\n",
      "[CV] C=300.0, gamma=0.01, kernel=rbf .................................\n",
      "[CV]  C=300.0, gamma=0.01, kernel=rbf, score=-7573049481.770, total=   9.2s\n",
      "[CV] C=300.0, gamma=0.03, kernel=rbf .................................\n",
      "[CV]  C=300.0, gamma=0.03, kernel=rbf, score=-5679779081.763, total=   9.2s\n",
      "[CV] C=300.0, gamma=0.03, kernel=rbf .................................\n",
      "[CV]  C=300.0, gamma=0.03, kernel=rbf, score=-6094887984.358, total=   8.9s\n",
      "[CV] C=300.0, gamma=0.03, kernel=rbf .................................\n",
      "[CV]  C=300.0, gamma=0.03, kernel=rbf, score=-6246292153.271, total=   9.0s\n",
      "[CV] C=300.0, gamma=0.03, kernel=rbf .................................\n",
      "[CV]  C=300.0, gamma=0.03, kernel=rbf, score=-5904350177.164, total=   9.0s\n",
      "[CV] C=300.0, gamma=0.03, kernel=rbf .................................\n",
      "[CV]  C=300.0, gamma=0.03, kernel=rbf, score=-6180672749.963, total=   9.0s\n",
      "[CV] C=300.0, gamma=0.1, kernel=rbf ..................................\n",
      "[CV]  C=300.0, gamma=0.1, kernel=rbf, score=-6337970269.317, total=   9.0s\n",
      "[CV] C=300.0, gamma=0.1, kernel=rbf ..................................\n",
      "[CV]  C=300.0, gamma=0.1, kernel=rbf, score=-6908792580.987, total=   8.8s\n",
      "[CV] C=300.0, gamma=0.1, kernel=rbf ..................................\n",
      "[CV]  C=300.0, gamma=0.1, kernel=rbf, score=-7002130956.596, total=   8.9s\n",
      "[CV] C=300.0, gamma=0.1, kernel=rbf ..................................\n",
      "[CV]  C=300.0, gamma=0.1, kernel=rbf, score=-6730649199.313, total=   8.9s\n",
      "[CV] C=300.0, gamma=0.1, kernel=rbf ..................................\n",
      "[CV]  C=300.0, gamma=0.1, kernel=rbf, score=-6836894406.727, total=   8.9s\n",
      "[CV] C=300.0, gamma=0.3, kernel=rbf ..................................\n",
      "[CV]  C=300.0, gamma=0.3, kernel=rbf, score=-8804534132.699, total=   9.1s\n",
      "[CV] C=300.0, gamma=0.3, kernel=rbf ..................................\n",
      "[CV]  C=300.0, gamma=0.3, kernel=rbf, score=-9457373312.369, total=   8.8s\n",
      "[CV] C=300.0, gamma=0.3, kernel=rbf ..................................\n",
      "[CV]  C=300.0, gamma=0.3, kernel=rbf, score=-9659570965.154, total=   8.8s\n",
      "[CV] C=300.0, gamma=0.3, kernel=rbf ..................................\n",
      "[CV]  C=300.0, gamma=0.3, kernel=rbf, score=-9476884232.148, total=   8.7s\n",
      "[CV] C=300.0, gamma=0.3, kernel=rbf ..................................\n",
      "[CV]  C=300.0, gamma=0.3, kernel=rbf, score=-9469151446.319, total=   8.8s\n",
      "[CV] C=300.0, gamma=1.0, kernel=rbf ..................................\n",
      "[CV]  C=300.0, gamma=1.0, kernel=rbf, score=-12160382641.218, total=   8.9s\n",
      "[CV] C=300.0, gamma=1.0, kernel=rbf ..................................\n",
      "[CV]  C=300.0, gamma=1.0, kernel=rbf, score=-12883146712.889, total=   9.1s\n",
      "[CV] C=300.0, gamma=1.0, kernel=rbf ..................................\n",
      "[CV]  C=300.0, gamma=1.0, kernel=rbf, score=-13189602832.163, total=   8.9s\n",
      "[CV] C=300.0, gamma=1.0, kernel=rbf ..................................\n",
      "[CV]  C=300.0, gamma=1.0, kernel=rbf, score=-13087175054.834, total=   8.9s\n",
      "[CV] C=300.0, gamma=1.0, kernel=rbf ..................................\n",
      "[CV]  C=300.0, gamma=1.0, kernel=rbf, score=-13006116722.893, total=   8.9s\n",
      "[CV] C=300.0, gamma=3.0, kernel=rbf ..................................\n",
      "[CV]  C=300.0, gamma=3.0, kernel=rbf, score=-13232429901.516, total=  10.5s\n",
      "[CV] C=300.0, gamma=3.0, kernel=rbf ..................................\n",
      "[CV]  C=300.0, gamma=3.0, kernel=rbf, score=-13966882890.230, total=  10.5s\n",
      "[CV] C=300.0, gamma=3.0, kernel=rbf ..................................\n",
      "[CV]  C=300.0, gamma=3.0, kernel=rbf, score=-14288436650.154, total=  10.4s\n",
      "[CV] C=300.0, gamma=3.0, kernel=rbf ..................................\n",
      "[CV]  C=300.0, gamma=3.0, kernel=rbf, score=-14195636963.629, total=  10.3s\n",
      "[CV] C=300.0, gamma=3.0, kernel=rbf ..................................\n",
      "[CV]  C=300.0, gamma=3.0, kernel=rbf, score=-14119387213.779, total=  10.8s\n",
      "[CV] C=1000.0, gamma=0.01, kernel=rbf ................................\n",
      "[CV]  C=1000.0, gamma=0.01, kernel=rbf, score=-4790231432.943, total=   9.7s\n",
      "[CV] C=1000.0, gamma=0.01, kernel=rbf ................................\n",
      "[CV]  C=1000.0, gamma=0.01, kernel=rbf, score=-5047054593.229, total=   9.7s\n",
      "[CV] C=1000.0, gamma=0.01, kernel=rbf ................................\n",
      "[CV]  C=1000.0, gamma=0.01, kernel=rbf, score=-5231805126.190, total=   9.6s\n",
      "[CV] C=1000.0, gamma=0.01, kernel=rbf ................................\n",
      "[CV]  C=1000.0, gamma=0.01, kernel=rbf, score=-4812940425.495, total=   9.6s\n",
      "[CV] C=1000.0, gamma=0.01, kernel=rbf ................................\n",
      "[CV]  C=1000.0, gamma=0.01, kernel=rbf, score=-5316260219.524, total=   9.8s\n",
      "[CV] C=1000.0, gamma=0.03, kernel=rbf ................................\n",
      "[CV]  C=1000.0, gamma=0.03, kernel=rbf, score=-4280269287.246, total=   9.2s\n",
      "[CV] C=1000.0, gamma=0.03, kernel=rbf ................................\n",
      "[CV]  C=1000.0, gamma=0.03, kernel=rbf, score=-4589535165.825, total=   9.3s\n",
      "[CV] C=1000.0, gamma=0.03, kernel=rbf ................................\n",
      "[CV]  C=1000.0, gamma=0.03, kernel=rbf, score=-4713179688.200, total=   9.0s\n",
      "[CV] C=1000.0, gamma=0.03, kernel=rbf ................................\n",
      "[CV]  C=1000.0, gamma=0.03, kernel=rbf, score=-4223080787.980, total=   8.9s\n",
      "[CV] C=1000.0, gamma=0.03, kernel=rbf ................................\n",
      "[CV]  C=1000.0, gamma=0.03, kernel=rbf, score=-4711655942.376, total=   8.9s\n",
      "[CV] C=1000.0, gamma=0.1, kernel=rbf .................................\n",
      "[CV]  C=1000.0, gamma=0.1, kernel=rbf, score=-4599380295.536, total=   8.8s\n",
      "[CV] C=1000.0, gamma=0.1, kernel=rbf .................................\n",
      "[CV]  C=1000.0, gamma=0.1, kernel=rbf, score=-5044762141.040, total=   8.8s\n",
      "[CV] C=1000.0, gamma=0.1, kernel=rbf .................................\n",
      "[CV]  C=1000.0, gamma=0.1, kernel=rbf, score=-5117994079.394, total=   8.9s\n",
      "[CV] C=1000.0, gamma=0.1, kernel=rbf .................................\n",
      "[CV]  C=1000.0, gamma=0.1, kernel=rbf, score=-4687845448.554, total=   8.9s\n",
      "[CV] C=1000.0, gamma=0.1, kernel=rbf .................................\n",
      "[CV]  C=1000.0, gamma=0.1, kernel=rbf, score=-4965406251.014, total=   8.9s\n",
      "[CV] C=1000.0, gamma=0.3, kernel=rbf .................................\n"
     ]
    },
    {
     "name": "stdout",
     "output_type": "stream",
     "text": [
      "[CV]  C=1000.0, gamma=0.3, kernel=rbf, score=-6455135681.676, total=   8.8s\n",
      "[CV] C=1000.0, gamma=0.3, kernel=rbf .................................\n",
      "[CV]  C=1000.0, gamma=0.3, kernel=rbf, score=-7088142022.167, total=   8.7s\n",
      "[CV] C=1000.0, gamma=0.3, kernel=rbf .................................\n",
      "[CV]  C=1000.0, gamma=0.3, kernel=rbf, score=-7182848075.070, total=   8.7s\n",
      "[CV] C=1000.0, gamma=0.3, kernel=rbf .................................\n",
      "[CV]  C=1000.0, gamma=0.3, kernel=rbf, score=-6904429272.512, total=   8.9s\n",
      "[CV] C=1000.0, gamma=0.3, kernel=rbf .................................\n",
      "[CV]  C=1000.0, gamma=0.3, kernel=rbf, score=-6972285019.530, total=   8.9s\n",
      "[CV] C=1000.0, gamma=1.0, kernel=rbf .................................\n",
      "[CV]  C=1000.0, gamma=1.0, kernel=rbf, score=-10520964158.517, total=   8.9s\n",
      "[CV] C=1000.0, gamma=1.0, kernel=rbf .................................\n",
      "[CV]  C=1000.0, gamma=1.0, kernel=rbf, score=-11243086280.627, total=   9.0s\n",
      "[CV] C=1000.0, gamma=1.0, kernel=rbf .................................\n",
      "[CV]  C=1000.0, gamma=1.0, kernel=rbf, score=-11511073196.650, total=   9.0s\n",
      "[CV] C=1000.0, gamma=1.0, kernel=rbf .................................\n",
      "[CV]  C=1000.0, gamma=1.0, kernel=rbf, score=-11392401912.971, total=   8.8s\n",
      "[CV] C=1000.0, gamma=1.0, kernel=rbf .................................\n",
      "[CV]  C=1000.0, gamma=1.0, kernel=rbf, score=-11374167466.094, total=   8.9s\n",
      "[CV] C=1000.0, gamma=3.0, kernel=rbf .................................\n",
      "[CV]  C=1000.0, gamma=3.0, kernel=rbf, score=-12864094623.235, total=  10.6s\n",
      "[CV] C=1000.0, gamma=3.0, kernel=rbf .................................\n",
      "[CV]  C=1000.0, gamma=3.0, kernel=rbf, score=-13591280602.592, total=  10.4s\n",
      "[CV] C=1000.0, gamma=3.0, kernel=rbf .................................\n",
      "[CV]  C=1000.0, gamma=3.0, kernel=rbf, score=-13913260106.176, total=  10.3s\n",
      "[CV] C=1000.0, gamma=3.0, kernel=rbf .................................\n",
      "[CV]  C=1000.0, gamma=3.0, kernel=rbf, score=-13832776894.553, total=  10.3s\n",
      "[CV] C=1000.0, gamma=3.0, kernel=rbf .................................\n",
      "[CV]  C=1000.0, gamma=3.0, kernel=rbf, score=-13761502856.786, total=  10.4s\n",
      "[CV] C=3000.0, gamma=0.01, kernel=rbf ................................\n",
      "[CV]  C=3000.0, gamma=0.01, kernel=rbf, score=-4201908678.505, total=   8.9s\n",
      "[CV] C=3000.0, gamma=0.01, kernel=rbf ................................\n",
      "[CV]  C=3000.0, gamma=0.01, kernel=rbf, score=-4481101762.199, total=   8.8s\n",
      "[CV] C=3000.0, gamma=0.01, kernel=rbf ................................\n",
      "[CV]  C=3000.0, gamma=0.01, kernel=rbf, score=-4627756655.316, total=   8.9s\n",
      "[CV] C=3000.0, gamma=0.01, kernel=rbf ................................\n",
      "[CV]  C=3000.0, gamma=0.01, kernel=rbf, score=-4136515416.021, total=   8.8s\n",
      "[CV] C=3000.0, gamma=0.01, kernel=rbf ................................\n",
      "[CV]  C=3000.0, gamma=0.01, kernel=rbf, score=-4696428785.274, total=   9.0s\n",
      "[CV] C=3000.0, gamma=0.03, kernel=rbf ................................\n",
      "[CV]  C=3000.0, gamma=0.03, kernel=rbf, score=-3809678412.012, total=   8.8s\n",
      "[CV] C=3000.0, gamma=0.03, kernel=rbf ................................\n",
      "[CV]  C=3000.0, gamma=0.03, kernel=rbf, score=-4075083109.032, total=   8.8s\n",
      "[CV] C=3000.0, gamma=0.03, kernel=rbf ................................\n",
      "[CV]  C=3000.0, gamma=0.03, kernel=rbf, score=-4205242240.089, total=   8.9s\n",
      "[CV] C=3000.0, gamma=0.03, kernel=rbf ................................\n",
      "[CV]  C=3000.0, gamma=0.03, kernel=rbf, score=-3669441199.162, total=   8.9s\n",
      "[CV] C=3000.0, gamma=0.03, kernel=rbf ................................\n",
      "[CV]  C=3000.0, gamma=0.03, kernel=rbf, score=-4235264621.507, total=   8.8s\n",
      "[CV] C=3000.0, gamma=0.1, kernel=rbf .................................\n",
      "[CV]  C=3000.0, gamma=0.1, kernel=rbf, score=-3719322474.023, total=   8.9s\n",
      "[CV] C=3000.0, gamma=0.1, kernel=rbf .................................\n",
      "[CV]  C=3000.0, gamma=0.1, kernel=rbf, score=-4062151841.948, total=   9.1s\n",
      "[CV] C=3000.0, gamma=0.1, kernel=rbf .................................\n",
      "[CV]  C=3000.0, gamma=0.1, kernel=rbf, score=-4178811370.292, total=   8.8s\n",
      "[CV] C=3000.0, gamma=0.1, kernel=rbf .................................\n",
      "[CV]  C=3000.0, gamma=0.1, kernel=rbf, score=-3594923896.645, total=   8.9s\n",
      "[CV] C=3000.0, gamma=0.1, kernel=rbf .................................\n",
      "[CV]  C=3000.0, gamma=0.1, kernel=rbf, score=-4037267702.212, total=   8.8s\n",
      "[CV] C=3000.0, gamma=0.3, kernel=rbf .................................\n",
      "[CV]  C=3000.0, gamma=0.3, kernel=rbf, score=-4792314762.824, total=   8.8s\n",
      "[CV] C=3000.0, gamma=0.3, kernel=rbf .................................\n",
      "[CV]  C=3000.0, gamma=0.3, kernel=rbf, score=-5287364424.508, total=   8.9s\n",
      "[CV] C=3000.0, gamma=0.3, kernel=rbf .................................\n",
      "[CV]  C=3000.0, gamma=0.3, kernel=rbf, score=-5307873193.741, total=   8.8s\n",
      "[CV] C=3000.0, gamma=0.3, kernel=rbf .................................\n",
      "[CV]  C=3000.0, gamma=0.3, kernel=rbf, score=-4981048143.807, total=   8.8s\n",
      "[CV] C=3000.0, gamma=0.3, kernel=rbf .................................\n",
      "[CV]  C=3000.0, gamma=0.3, kernel=rbf, score=-5070675656.814, total=   8.7s\n",
      "[CV] C=3000.0, gamma=1.0, kernel=rbf .................................\n",
      "[CV]  C=3000.0, gamma=1.0, kernel=rbf, score=-8478187539.594, total=   8.9s\n",
      "[CV] C=3000.0, gamma=1.0, kernel=rbf .................................\n",
      "[CV]  C=3000.0, gamma=1.0, kernel=rbf, score=-9162853502.597, total=   9.0s\n",
      "[CV] C=3000.0, gamma=1.0, kernel=rbf .................................\n",
      "[CV]  C=3000.0, gamma=1.0, kernel=rbf, score=-9326687889.062, total=   8.9s\n",
      "[CV] C=3000.0, gamma=1.0, kernel=rbf .................................\n",
      "[CV]  C=3000.0, gamma=1.0, kernel=rbf, score=-9180053881.644, total=   8.9s\n",
      "[CV] C=3000.0, gamma=1.0, kernel=rbf .................................\n",
      "[CV]  C=3000.0, gamma=1.0, kernel=rbf, score=-9186952880.484, total=   8.9s\n",
      "[CV] C=3000.0, gamma=3.0, kernel=rbf .................................\n",
      "[CV]  C=3000.0, gamma=3.0, kernel=rbf, score=-12094586948.430, total=  10.8s\n",
      "[CV] C=3000.0, gamma=3.0, kernel=rbf .................................\n",
      "[CV]  C=3000.0, gamma=3.0, kernel=rbf, score=-12806424127.620, total=  10.4s\n",
      "[CV] C=3000.0, gamma=3.0, kernel=rbf .................................\n",
      "[CV]  C=3000.0, gamma=3.0, kernel=rbf, score=-13100326668.233, total=  10.5s\n",
      "[CV] C=3000.0, gamma=3.0, kernel=rbf .................................\n",
      "[CV]  C=3000.0, gamma=3.0, kernel=rbf, score=-13012530335.455, total=  10.5s\n",
      "[CV] C=3000.0, gamma=3.0, kernel=rbf .................................\n",
      "[CV]  C=3000.0, gamma=3.0, kernel=rbf, score=-12943594322.673, total=  10.4s\n",
      "[CV] C=10000.0, gamma=0.01, kernel=rbf ...............................\n",
      "[CV]  C=10000.0, gamma=0.01, kernel=rbf, score=-3840065098.541, total=   9.0s\n",
      "[CV] C=10000.0, gamma=0.01, kernel=rbf ...............................\n",
      "[CV]  C=10000.0, gamma=0.01, kernel=rbf, score=-4162811614.865, total=   8.9s\n",
      "[CV] C=10000.0, gamma=0.01, kernel=rbf ...............................\n",
      "[CV]  C=10000.0, gamma=0.01, kernel=rbf, score=-4287900415.857, total=   9.1s\n",
      "[CV] C=10000.0, gamma=0.01, kernel=rbf ...............................\n",
      "[CV]  C=10000.0, gamma=0.01, kernel=rbf, score=-3775575095.973, total=   9.0s\n",
      "[CV] C=10000.0, gamma=0.01, kernel=rbf ...............................\n",
      "[CV]  C=10000.0, gamma=0.01, kernel=rbf, score=-4333732330.669, total=   8.9s\n",
      "[CV] C=10000.0, gamma=0.03, kernel=rbf ...............................\n",
      "[CV]  C=10000.0, gamma=0.03, kernel=rbf, score=-3468224147.638, total=   8.9s\n",
      "[CV] C=10000.0, gamma=0.03, kernel=rbf ...............................\n",
      "[CV]  C=10000.0, gamma=0.03, kernel=rbf, score=-3763458860.301, total=   8.9s\n",
      "[CV] C=10000.0, gamma=0.03, kernel=rbf ...............................\n",
      "[CV]  C=10000.0, gamma=0.03, kernel=rbf, score=-3883166041.679, total=   9.0s\n",
      "[CV] C=10000.0, gamma=0.03, kernel=rbf ...............................\n",
      "[CV]  C=10000.0, gamma=0.03, kernel=rbf, score=-3329733788.340, total=   9.0s\n",
      "[CV] C=10000.0, gamma=0.03, kernel=rbf ...............................\n",
      "[CV]  C=10000.0, gamma=0.03, kernel=rbf, score=-3895953135.733, total=   8.9s\n",
      "[CV] C=10000.0, gamma=0.1, kernel=rbf ................................\n",
      "[CV]  C=10000.0, gamma=0.1, kernel=rbf, score=-3301734554.955, total=   9.0s\n",
      "[CV] C=10000.0, gamma=0.1, kernel=rbf ................................\n"
     ]
    },
    {
     "name": "stdout",
     "output_type": "stream",
     "text": [
      "[CV]  C=10000.0, gamma=0.1, kernel=rbf, score=-3558034960.924, total=   8.9s\n",
      "[CV] C=10000.0, gamma=0.1, kernel=rbf ................................\n",
      "[CV]  C=10000.0, gamma=0.1, kernel=rbf, score=-3717569264.796, total=   8.9s\n",
      "[CV] C=10000.0, gamma=0.1, kernel=rbf ................................\n",
      "[CV]  C=10000.0, gamma=0.1, kernel=rbf, score=-3055976610.037, total=   9.0s\n",
      "[CV] C=10000.0, gamma=0.1, kernel=rbf ................................\n",
      "[CV]  C=10000.0, gamma=0.1, kernel=rbf, score=-3597979286.391, total=   8.9s\n",
      "[CV] C=10000.0, gamma=0.3, kernel=rbf ................................\n",
      "[CV]  C=10000.0, gamma=0.3, kernel=rbf, score=-3624869958.036, total=   9.3s\n",
      "[CV] C=10000.0, gamma=0.3, kernel=rbf ................................\n",
      "[CV]  C=10000.0, gamma=0.3, kernel=rbf, score=-4006224158.389, total=   9.0s\n",
      "[CV] C=10000.0, gamma=0.3, kernel=rbf ................................\n",
      "[CV]  C=10000.0, gamma=0.3, kernel=rbf, score=-4099642252.654, total=   9.0s\n",
      "[CV] C=10000.0, gamma=0.3, kernel=rbf ................................\n",
      "[CV]  C=10000.0, gamma=0.3, kernel=rbf, score=-3611066055.520, total=   9.0s\n",
      "[CV] C=10000.0, gamma=0.3, kernel=rbf ................................\n",
      "[CV]  C=10000.0, gamma=0.3, kernel=rbf, score=-3867461244.536, total=   9.0s\n",
      "[CV] C=10000.0, gamma=1.0, kernel=rbf ................................\n",
      "[CV]  C=10000.0, gamma=1.0, kernel=rbf, score=-6335303514.985, total=   9.5s\n",
      "[CV] C=10000.0, gamma=1.0, kernel=rbf ................................\n",
      "[CV]  C=10000.0, gamma=1.0, kernel=rbf, score=-6898878356.684, total=   9.5s\n",
      "[CV] C=10000.0, gamma=1.0, kernel=rbf ................................\n",
      "[CV]  C=10000.0, gamma=1.0, kernel=rbf, score=-6888486550.538, total=   9.5s\n",
      "[CV] C=10000.0, gamma=1.0, kernel=rbf ................................\n",
      "[CV]  C=10000.0, gamma=1.0, kernel=rbf, score=-6731185836.925, total=   9.5s\n",
      "[CV] C=10000.0, gamma=1.0, kernel=rbf ................................\n",
      "[CV]  C=10000.0, gamma=1.0, kernel=rbf, score=-6720792941.309, total=   9.4s\n",
      "[CV] C=10000.0, gamma=3.0, kernel=rbf ................................\n",
      "[CV]  C=10000.0, gamma=3.0, kernel=rbf, score=-10520579868.512, total=  11.0s\n",
      "[CV] C=10000.0, gamma=3.0, kernel=rbf ................................\n",
      "[CV]  C=10000.0, gamma=3.0, kernel=rbf, score=-11206581389.010, total=  11.1s\n",
      "[CV] C=10000.0, gamma=3.0, kernel=rbf ................................\n",
      "[CV]  C=10000.0, gamma=3.0, kernel=rbf, score=-11401600856.123, total=  11.2s\n",
      "[CV] C=10000.0, gamma=3.0, kernel=rbf ................................\n",
      "[CV]  C=10000.0, gamma=3.0, kernel=rbf, score=-11353514608.886, total=  11.0s\n",
      "[CV] C=10000.0, gamma=3.0, kernel=rbf ................................\n",
      "[CV]  C=10000.0, gamma=3.0, kernel=rbf, score=-11322253096.430, total=  11.1s\n",
      "[CV] C=30000.0, gamma=0.01, kernel=rbf ...............................\n",
      "[CV]  C=30000.0, gamma=0.01, kernel=rbf, score=-3606566156.379, total=   9.0s\n",
      "[CV] C=30000.0, gamma=0.01, kernel=rbf ...............................\n",
      "[CV]  C=30000.0, gamma=0.01, kernel=rbf, score=-3934362157.856, total=   9.0s\n",
      "[CV] C=30000.0, gamma=0.01, kernel=rbf ...............................\n",
      "[CV]  C=30000.0, gamma=0.01, kernel=rbf, score=-4038817075.162, total=   9.1s\n",
      "[CV] C=30000.0, gamma=0.01, kernel=rbf ...............................\n",
      "[CV]  C=30000.0, gamma=0.01, kernel=rbf, score=-3533876655.707, total=   8.9s\n",
      "[CV] C=30000.0, gamma=0.01, kernel=rbf ...............................\n",
      "[CV]  C=30000.0, gamma=0.01, kernel=rbf, score=-4087763837.564, total=   8.9s\n",
      "[CV] C=30000.0, gamma=0.03, kernel=rbf ...............................\n",
      "[CV]  C=30000.0, gamma=0.03, kernel=rbf, score=-3277943806.367, total=   9.0s\n",
      "[CV] C=30000.0, gamma=0.03, kernel=rbf ...............................\n",
      "[CV]  C=30000.0, gamma=0.03, kernel=rbf, score=-3574015839.545, total=   9.0s\n",
      "[CV] C=30000.0, gamma=0.03, kernel=rbf ...............................\n",
      "[CV]  C=30000.0, gamma=0.03, kernel=rbf, score=-3682605753.884, total=   9.0s\n",
      "[CV] C=30000.0, gamma=0.03, kernel=rbf ...............................\n",
      "[CV]  C=30000.0, gamma=0.03, kernel=rbf, score=-3134004643.101, total=   9.0s\n",
      "[CV] C=30000.0, gamma=0.03, kernel=rbf ...............................\n",
      "[CV]  C=30000.0, gamma=0.03, kernel=rbf, score=-3685068432.132, total=   9.2s\n",
      "[CV] C=30000.0, gamma=0.1, kernel=rbf ................................\n",
      "[CV]  C=30000.0, gamma=0.1, kernel=rbf, score=-3108297735.740, total=   9.4s\n",
      "[CV] C=30000.0, gamma=0.1, kernel=rbf ................................\n",
      "[CV]  C=30000.0, gamma=0.1, kernel=rbf, score=-3309529295.157, total=   9.4s\n",
      "[CV] C=30000.0, gamma=0.1, kernel=rbf ................................\n",
      "[CV]  C=30000.0, gamma=0.1, kernel=rbf, score=-3484545664.204, total=   9.7s\n",
      "[CV] C=30000.0, gamma=0.1, kernel=rbf ................................\n",
      "[CV]  C=30000.0, gamma=0.1, kernel=rbf, score=-2821760514.638, total=   9.3s\n",
      "[CV] C=30000.0, gamma=0.1, kernel=rbf ................................\n",
      "[CV]  C=30000.0, gamma=0.1, kernel=rbf, score=-3409445502.649, total=   9.3s\n",
      "[CV] C=30000.0, gamma=0.3, kernel=rbf ................................\n",
      "[CV]  C=30000.0, gamma=0.3, kernel=rbf, score=-3167440104.456, total=  10.4s\n",
      "[CV] C=30000.0, gamma=0.3, kernel=rbf ................................\n",
      "[CV]  C=30000.0, gamma=0.3, kernel=rbf, score=-3456386979.977, total=  10.8s\n",
      "[CV] C=30000.0, gamma=0.3, kernel=rbf ................................\n",
      "[CV]  C=30000.0, gamma=0.3, kernel=rbf, score=-3580821014.243, total=  10.9s\n",
      "[CV] C=30000.0, gamma=0.3, kernel=rbf ................................\n",
      "[CV]  C=30000.0, gamma=0.3, kernel=rbf, score=-3033878174.002, total=  10.8s\n",
      "[CV] C=30000.0, gamma=0.3, kernel=rbf ................................\n",
      "[CV]  C=30000.0, gamma=0.3, kernel=rbf, score=-3376223127.327, total=  10.6s\n",
      "[CV] C=30000.0, gamma=1.0, kernel=rbf ................................\n",
      "[CV]  C=30000.0, gamma=1.0, kernel=rbf, score=-4740690695.612, total=  13.3s\n",
      "[CV] C=30000.0, gamma=1.0, kernel=rbf ................................\n",
      "[CV]  C=30000.0, gamma=1.0, kernel=rbf, score=-5257646895.861, total=  13.2s\n",
      "[CV] C=30000.0, gamma=1.0, kernel=rbf ................................\n",
      "[CV]  C=30000.0, gamma=1.0, kernel=rbf, score=-5155928903.648, total=  13.6s\n",
      "[CV] C=30000.0, gamma=1.0, kernel=rbf ................................\n",
      "[CV]  C=30000.0, gamma=1.0, kernel=rbf, score=-4969824153.944, total=  12.9s\n",
      "[CV] C=30000.0, gamma=1.0, kernel=rbf ................................\n",
      "[CV]  C=30000.0, gamma=1.0, kernel=rbf, score=-5002025703.535, total=  12.9s\n",
      "[CV] C=30000.0, gamma=3.0, kernel=rbf ................................\n",
      "[CV]  C=30000.0, gamma=3.0, kernel=rbf, score=-8622000941.503, total=  15.1s\n",
      "[CV] C=30000.0, gamma=3.0, kernel=rbf ................................\n",
      "[CV]  C=30000.0, gamma=3.0, kernel=rbf, score=-9277444664.739, total=  15.5s\n",
      "[CV] C=30000.0, gamma=3.0, kernel=rbf ................................\n",
      "[CV]  C=30000.0, gamma=3.0, kernel=rbf, score=-9252295469.086, total=  16.2s\n",
      "[CV] C=30000.0, gamma=3.0, kernel=rbf ................................\n",
      "[CV]  C=30000.0, gamma=3.0, kernel=rbf, score=-9252373367.741, total=  15.3s\n",
      "[CV] C=30000.0, gamma=3.0, kernel=rbf ................................\n",
      "[CV]  C=30000.0, gamma=3.0, kernel=rbf, score=-9210523128.299, total=  15.6s\n"
     ]
    },
    {
     "name": "stderr",
     "output_type": "stream",
     "text": [
      "[Parallel(n_jobs=1)]: Done 280 out of 280 | elapsed: 42.9min finished\n"
     ]
    },
    {
     "data": {
      "text/plain": [
       "GridSearchCV(cv=5, error_score=nan,\n",
       "             estimator=SVR(C=1.0, cache_size=200, coef0=0.0, degree=3,\n",
       "                           epsilon=0.1, gamma='scale', kernel='rbf',\n",
       "                           max_iter=-1, shrinking=True, tol=0.001,\n",
       "                           verbose=False),\n",
       "             iid='deprecated', n_jobs=None,\n",
       "             param_grid=[{'C': [10.0, 30.0, 100.0, 300.0, 1000.0, 3000.0,\n",
       "                                10000.0, 30000.0],\n",
       "                          'kernel': ['linear']},\n",
       "                         {'C': [10.0, 30.0, 100.0, 300.0, 1000.0, 3000.0,\n",
       "                                10000.0, 30000.0],\n",
       "                          'gamma': [0.01, 0.03, 0.1, 0.3, 1.0, 3.0],\n",
       "                          'kernel': ['rbf']}],\n",
       "             pre_dispatch='2*n_jobs', refit=True, return_train_score=False,\n",
       "             scoring='neg_mean_squared_error', verbose=6)"
      ]
     },
     "execution_count": 44,
     "metadata": {},
     "output_type": "execute_result"
    }
   ],
   "source": [
    "#Оптимизация Опорных векторов\n",
    "\n",
    "from sklearn.model_selection import GridSearchCV\n",
    "\n",
    "param_grid_svr = [\n",
    "        {'kernel': ['linear'], 'C': [10., 30., 100., 300., 1000., 3000., 10000., 30000.0]},\n",
    "        {'kernel': ['rbf'], 'C': [10., 30., 100., 300., 1000.0, 3000.0, 10000.0, 30000.0],\n",
    "         'gamma': [0.01, 0.03, 0.1, 0.3, 1.0, 3.0]},\n",
    "    ]\n",
    "vec_reg = SVR()\n",
    "grid_search = GridSearchCV(vec_reg, param_grid_svr, cv=5, scoring='neg_mean_squared_error', verbose=6)\n",
    "grid_search.fit(housing_prepared, housing_labels)"
   ]
  },
  {
   "cell_type": "code",
   "execution_count": 45,
   "metadata": {
    "colab": {
     "base_uri": "https://localhost:8080/",
     "height": 35
    },
    "colab_type": "code",
    "collapsed": true,
    "id": "eLf9y2QvJJpY",
    "outputId": "bc4d48c3-0430-4ca0-e0a9-28762ed42d04"
   },
   "outputs": [
    {
     "data": {
      "text/plain": [
       "{'C': 30000.0, 'gamma': 0.1, 'kernel': 'rbf'}"
      ]
     },
     "execution_count": 45,
     "metadata": {},
     "output_type": "execute_result"
    }
   ],
   "source": [
    "grid_search.best_params_"
   ]
  },
  {
   "cell_type": "code",
   "execution_count": 46,
   "metadata": {
    "colab": {
     "base_uri": "https://localhost:8080/",
     "height": 52
    },
    "colab_type": "code",
    "collapsed": true,
    "id": "h0LkzGxKJJpe",
    "outputId": "e2f668b3-d662-4616-bacb-091792c6f1c9"
   },
   "outputs": [
    {
     "data": {
      "text/plain": [
       "SVR(C=30000.0, cache_size=200, coef0=0.0, degree=3, epsilon=0.1, gamma=0.1,\n",
       "    kernel='rbf', max_iter=-1, shrinking=True, tol=0.001, verbose=False)"
      ]
     },
     "execution_count": 46,
     "metadata": {},
     "output_type": "execute_result"
    }
   ],
   "source": [
    "grid_search.best_estimator_"
   ]
  },
  {
   "cell_type": "code",
   "execution_count": 47,
   "metadata": {
    "colab": {
     "base_uri": "https://localhost:8080/",
     "height": 1000
    },
    "colab_type": "code",
    "collapsed": true,
    "id": "E3TtPeUWJJpi",
    "outputId": "4ffe756a-4481-4984-8b87-2f2b96599c1e"
   },
   "outputs": [
    {
     "name": "stdout",
     "output_type": "stream",
     "text": [
      "75991.64280903903 {'C': 10.0, 'kernel': 'linear'}\n",
      "70056.4021670062 {'C': 30.0, 'kernel': 'linear'}\n",
      "68312.3445901846 {'C': 100.0, 'kernel': 'linear'}\n",
      "67815.36719693778 {'C': 300.0, 'kernel': 'linear'}\n",
      "67583.11709144978 {'C': 1000.0, 'kernel': 'linear'}\n",
      "67514.10218676475 {'C': 3000.0, 'kernel': 'linear'}\n",
      "67472.32794487427 {'C': 10000.0, 'kernel': 'linear'}\n",
      "67454.09841942375 {'C': 30000.0, 'kernel': 'linear'}\n",
      "117158.92070585188 {'C': 10.0, 'gamma': 0.01, 'kernel': 'rbf'}\n",
      "115693.88376500353 {'C': 10.0, 'gamma': 0.03, 'kernel': 'rbf'}\n",
      "115665.99075815098 {'C': 10.0, 'gamma': 0.1, 'kernel': 'rbf'}\n",
      "117535.64520898671 {'C': 10.0, 'gamma': 0.3, 'kernel': 'rbf'}\n",
      "118711.26693294238 {'C': 10.0, 'gamma': 1.0, 'kernel': 'rbf'}\n",
      "118897.77215641408 {'C': 10.0, 'gamma': 3.0, 'kernel': 'rbf'}\n",
      "113720.67631017971 {'C': 30.0, 'gamma': 0.01, 'kernel': 'rbf'}\n",
      "109731.84883852159 {'C': 30.0, 'gamma': 0.03, 'kernel': 'rbf'}\n",
      "109775.70324190418 {'C': 30.0, 'gamma': 0.1, 'kernel': 'rbf'}\n",
      "115020.48313622363 {'C': 30.0, 'gamma': 0.3, 'kernel': 'rbf'}\n",
      "118270.03307271333 {'C': 30.0, 'gamma': 1.0, 'kernel': 'rbf'}\n",
      "118850.02153138163 {'C': 30.0, 'gamma': 3.0, 'kernel': 'rbf'}\n",
      "103412.15309490901 {'C': 100.0, 'gamma': 0.01, 'kernel': 'rbf'}\n",
      "94433.89356146251 {'C': 100.0, 'gamma': 0.03, 'kernel': 'rbf'}\n",
      "96168.78199538669 {'C': 100.0, 'gamma': 0.1, 'kernel': 'rbf'}\n",
      "107673.02291448433 {'C': 100.0, 'gamma': 0.3, 'kernel': 'rbf'}\n",
      "116907.63254944193 {'C': 100.0, 'gamma': 1.0, 'kernel': 'rbf'}\n",
      "118647.81594894327 {'C': 100.0, 'gamma': 3.0, 'kernel': 'rbf'}\n",
      "85564.67687614031 {'C': 300.0, 'gamma': 0.01, 'kernel': 'rbf'}\n",
      "77596.36866054934 {'C': 300.0, 'gamma': 0.03, 'kernel': 'rbf'}\n",
      "82239.20891270848 {'C': 300.0, 'gamma': 0.1, 'kernel': 'rbf'}\n",
      "96816.85193052815 {'C': 300.0, 'gamma': 0.3, 'kernel': 'rbf'}\n",
      "113425.23878220133 {'C': 300.0, 'gamma': 1.0, 'kernel': 'rbf'}\n",
      "118154.79137073325 {'C': 300.0, 'gamma': 3.0, 'kernel': 'rbf'}\n",
      "70990.55119856638 {'C': 1000.0, 'gamma': 0.01, 'kernel': 'rbf'}\n",
      "67108.4508413465 {'C': 1000.0, 'gamma': 0.03, 'kernel': 'rbf'}\n",
      "69879.02148075364 {'C': 1000.0, 'gamma': 0.1, 'kernel': 'rbf'}\n",
      "83189.95140154236 {'C': 1000.0, 'gamma': 0.3, 'kernel': 'rbf'}\n",
      "105869.44130849077 {'C': 1000.0, 'gamma': 1.0, 'kernel': 'rbf'}\n",
      "116587.23350636818 {'C': 1000.0, 'gamma': 3.0, 'kernel': 'rbf'}\n",
      "66548.79607823752 {'C': 3000.0, 'gamma': 0.01, 'kernel': 'rbf'}\n",
      "63237.18776448167 {'C': 3000.0, 'gamma': 0.03, 'kernel': 'rbf'}\n",
      "62597.887001271905 {'C': 3000.0, 'gamma': 0.1, 'kernel': 'rbf'}\n",
      "71329.20325041386 {'C': 3000.0, 'gamma': 0.3, 'kernel': 'rbf'}\n",
      "95220.51847514877 {'C': 3000.0, 'gamma': 1.0, 'kernel': 'rbf'}\n",
      "113099.48046070873 {'C': 3000.0, 'gamma': 3.0, 'kernel': 'rbf'}\n",
      "63875.010067953626 {'C': 10000.0, 'gamma': 0.01, 'kernel': 'rbf'}\n",
      "60564.90068297196 {'C': 10000.0, 'gamma': 0.03, 'kernel': 'rbf'}\n",
      "58704.845927920935 {'C': 10000.0, 'gamma': 0.1, 'kernel': 'rbf'}\n",
      "61982.68091835956 {'C': 10000.0, 'gamma': 0.3, 'kernel': 'rbf'}\n",
      "81944.67304278039 {'C': 10000.0, 'gamma': 1.0, 'kernel': 'rbf'}\n",
      "105645.1890234113 {'C': 10000.0, 'gamma': 3.0, 'kernel': 'rbf'}\n",
      "61969.96995749902 {'C': 30000.0, 'gamma': 0.01, 'kernel': 'rbf'}\n",
      "58912.88225002912 {'C': 30000.0, 'gamma': 0.03, 'kernel': 'rbf'}\n",
      "56804.187719547575 {'C': 30000.0, 'gamma': 0.1, 'kernel': 'rbf'}\n",
      "57645.03343741705 {'C': 30000.0, 'gamma': 0.3, 'kernel': 'rbf'}\n",
      "70888.80920512068 {'C': 30000.0, 'gamma': 1.0, 'kernel': 'rbf'}\n",
      "95514.0173706109 {'C': 30000.0, 'gamma': 3.0, 'kernel': 'rbf'}\n"
     ]
    }
   ],
   "source": [
    "cvres = grid_search.cv_results_\n",
    "for mean_score, params in zip(cvres['mean_test_score'],\n",
    "                             cvres['params']):\n",
    "    print(np.sqrt(-mean_score), params)"
   ]
  },
  {
   "cell_type": "code",
   "execution_count": 48,
   "metadata": {
    "colab": {
     "base_uri": "https://localhost:8080/",
     "height": 1000
    },
    "colab_type": "code",
    "collapsed": true,
    "id": "2ZE0fznAJJpo",
    "outputId": "90469765-1822-41df-a745-218b7872ff7b"
   },
   "outputs": [
    {
     "name": "stdout",
     "output_type": "stream",
     "text": [
      "Fitting 5 folds for each of 24 candidates, totalling 120 fits\n",
      "[CV] max_features=6, n_estimators=100 ................................\n"
     ]
    },
    {
     "name": "stderr",
     "output_type": "stream",
     "text": [
      "[Parallel(n_jobs=1)]: Using backend SequentialBackend with 1 concurrent workers.\n"
     ]
    },
    {
     "name": "stdout",
     "output_type": "stream",
     "text": [
      "[CV]  max_features=6, n_estimators=100, score=-2421001963.620, total=   4.7s\n",
      "[CV] max_features=6, n_estimators=100 ................................\n"
     ]
    },
    {
     "name": "stderr",
     "output_type": "stream",
     "text": [
      "[Parallel(n_jobs=1)]: Done   1 out of   1 | elapsed:    4.6s remaining:    0.0s\n"
     ]
    },
    {
     "name": "stdout",
     "output_type": "stream",
     "text": [
      "[CV]  max_features=6, n_estimators=100, score=-2644903712.597, total=   4.6s\n",
      "[CV] max_features=6, n_estimators=100 ................................\n"
     ]
    },
    {
     "name": "stderr",
     "output_type": "stream",
     "text": [
      "[Parallel(n_jobs=1)]: Done   2 out of   2 | elapsed:    9.2s remaining:    0.0s\n"
     ]
    },
    {
     "name": "stdout",
     "output_type": "stream",
     "text": [
      "[CV]  max_features=6, n_estimators=100, score=-2762997321.845, total=   4.7s\n",
      "[CV] max_features=6, n_estimators=100 ................................\n"
     ]
    },
    {
     "name": "stderr",
     "output_type": "stream",
     "text": [
      "[Parallel(n_jobs=1)]: Done   3 out of   3 | elapsed:   14.0s remaining:    0.0s\n"
     ]
    },
    {
     "name": "stdout",
     "output_type": "stream",
     "text": [
      "[CV]  max_features=6, n_estimators=100, score=-2417453844.070, total=   4.7s\n",
      "[CV] max_features=6, n_estimators=100 ................................\n"
     ]
    },
    {
     "name": "stderr",
     "output_type": "stream",
     "text": [
      "[Parallel(n_jobs=1)]: Done   4 out of   4 | elapsed:   18.6s remaining:    0.0s\n"
     ]
    },
    {
     "name": "stdout",
     "output_type": "stream",
     "text": [
      "[CV]  max_features=6, n_estimators=100, score=-2729969581.977, total=   4.6s\n",
      "[CV] max_features=6, n_estimators=150 ................................\n"
     ]
    },
    {
     "name": "stderr",
     "output_type": "stream",
     "text": [
      "[Parallel(n_jobs=1)]: Done   5 out of   5 | elapsed:   23.3s remaining:    0.0s\n"
     ]
    },
    {
     "name": "stdout",
     "output_type": "stream",
     "text": [
      "[CV]  max_features=6, n_estimators=150, score=-2408716034.274, total=   7.0s\n",
      "[CV] max_features=6, n_estimators=150 ................................\n",
      "[CV]  max_features=6, n_estimators=150, score=-2649442445.678, total=   7.5s\n",
      "[CV] max_features=6, n_estimators=150 ................................\n",
      "[CV]  max_features=6, n_estimators=150, score=-2733189673.845, total=   7.1s\n",
      "[CV] max_features=6, n_estimators=150 ................................\n",
      "[CV]  max_features=6, n_estimators=150, score=-2405339232.745, total=   7.1s\n",
      "[CV] max_features=6, n_estimators=150 ................................\n",
      "[CV]  max_features=6, n_estimators=150, score=-2680879719.183, total=   7.0s\n",
      "[CV] max_features=6, n_estimators=200 ................................\n",
      "[CV]  max_features=6, n_estimators=200, score=-2379514438.715, total=   9.4s\n",
      "[CV] max_features=6, n_estimators=200 ................................\n",
      "[CV]  max_features=6, n_estimators=200, score=-2636015179.385, total=  10.0s\n",
      "[CV] max_features=6, n_estimators=200 ................................\n",
      "[CV]  max_features=6, n_estimators=200, score=-2728374026.800, total=   9.7s\n",
      "[CV] max_features=6, n_estimators=200 ................................\n",
      "[CV]  max_features=6, n_estimators=200, score=-2355711016.363, total=   9.8s\n",
      "[CV] max_features=6, n_estimators=200 ................................\n",
      "[CV]  max_features=6, n_estimators=200, score=-2693239859.621, total=   9.6s\n",
      "[CV] max_features=8, n_estimators=100 ................................\n",
      "[CV]  max_features=8, n_estimators=100, score=-2412163562.791, total=   6.0s\n",
      "[CV] max_features=8, n_estimators=100 ................................\n",
      "[CV]  max_features=8, n_estimators=100, score=-2645246301.304, total=   5.9s\n",
      "[CV] max_features=8, n_estimators=100 ................................\n",
      "[CV]  max_features=8, n_estimators=100, score=-2730732358.267, total=   6.0s\n",
      "[CV] max_features=8, n_estimators=100 ................................\n",
      "[CV]  max_features=8, n_estimators=100, score=-2376351254.176, total=   5.9s\n",
      "[CV] max_features=8, n_estimators=100 ................................\n",
      "[CV]  max_features=8, n_estimators=100, score=-2666426133.031, total=   5.9s\n",
      "[CV] max_features=8, n_estimators=150 ................................\n",
      "[CV]  max_features=8, n_estimators=150, score=-2422054989.071, total=   9.0s\n",
      "[CV] max_features=8, n_estimators=150 ................................\n",
      "[CV]  max_features=8, n_estimators=150, score=-2650008816.763, total=   8.9s\n",
      "[CV] max_features=8, n_estimators=150 ................................\n",
      "[CV]  max_features=8, n_estimators=150, score=-2710859149.777, total=   8.9s\n",
      "[CV] max_features=8, n_estimators=150 ................................\n",
      "[CV]  max_features=8, n_estimators=150, score=-2372947232.977, total=   8.9s\n",
      "[CV] max_features=8, n_estimators=150 ................................\n",
      "[CV]  max_features=8, n_estimators=150, score=-2689342659.539, total=   9.0s\n",
      "[CV] max_features=8, n_estimators=200 ................................\n",
      "[CV]  max_features=8, n_estimators=200, score=-2393987076.233, total=  11.9s\n",
      "[CV] max_features=8, n_estimators=200 ................................\n",
      "[CV]  max_features=8, n_estimators=200, score=-2621572951.160, total=  11.9s\n",
      "[CV] max_features=8, n_estimators=200 ................................\n",
      "[CV]  max_features=8, n_estimators=200, score=-2691881673.762, total=  12.1s\n",
      "[CV] max_features=8, n_estimators=200 ................................\n",
      "[CV]  max_features=8, n_estimators=200, score=-2366622362.247, total=  12.0s\n",
      "[CV] max_features=8, n_estimators=200 ................................\n",
      "[CV]  max_features=8, n_estimators=200, score=-2710958005.661, total=  12.0s\n",
      "[CV] max_features=10, n_estimators=100 ...............................\n",
      "[CV]  max_features=10, n_estimators=100, score=-2430455416.409, total=   8.1s\n",
      "[CV] max_features=10, n_estimators=100 ...............................\n",
      "[CV]  max_features=10, n_estimators=100, score=-2634332294.453, total=   7.7s\n",
      "[CV] max_features=10, n_estimators=100 ...............................\n",
      "[CV]  max_features=10, n_estimators=100, score=-2724488994.864, total=   7.4s\n",
      "[CV] max_features=10, n_estimators=100 ...............................\n",
      "[CV]  max_features=10, n_estimators=100, score=-2361901341.801, total=   7.3s\n",
      "[CV] max_features=10, n_estimators=100 ...............................\n",
      "[CV]  max_features=10, n_estimators=100, score=-2707554003.564, total=   7.2s\n",
      "[CV] max_features=10, n_estimators=150 ...............................\n",
      "[CV]  max_features=10, n_estimators=150, score=-2402857523.080, total=  10.9s\n",
      "[CV] max_features=10, n_estimators=150 ...............................\n",
      "[CV]  max_features=10, n_estimators=150, score=-2633446638.512, total=  10.8s\n",
      "[CV] max_features=10, n_estimators=150 ...............................\n",
      "[CV]  max_features=10, n_estimators=150, score=-2713486831.785, total=  10.9s\n",
      "[CV] max_features=10, n_estimators=150 ...............................\n",
      "[CV]  max_features=10, n_estimators=150, score=-2358100366.295, total=  11.1s\n",
      "[CV] max_features=10, n_estimators=150 ...............................\n",
      "[CV]  max_features=10, n_estimators=150, score=-2716660084.168, total=  10.9s\n",
      "[CV] max_features=10, n_estimators=200 ...............................\n",
      "[CV]  max_features=10, n_estimators=200, score=-2432278979.508, total=  14.5s\n",
      "[CV] max_features=10, n_estimators=200 ...............................\n",
      "[CV]  max_features=10, n_estimators=200, score=-2632007797.727, total=  14.5s\n",
      "[CV] max_features=10, n_estimators=200 ...............................\n",
      "[CV]  max_features=10, n_estimators=200, score=-2708928082.192, total=  14.5s\n",
      "[CV] max_features=10, n_estimators=200 ...............................\n",
      "[CV]  max_features=10, n_estimators=200, score=-2347057267.651, total=  14.4s\n",
      "[CV] max_features=10, n_estimators=200 ...............................\n",
      "[CV]  max_features=10, n_estimators=200, score=-2682904287.614, total=  14.6s\n",
      "[CV] max_features=12, n_estimators=100 ...............................\n",
      "[CV]  max_features=12, n_estimators=100, score=-2420619997.977, total=   8.5s\n",
      "[CV] max_features=12, n_estimators=100 ...............................\n",
      "[CV]  max_features=12, n_estimators=100, score=-2677848021.836, total=   8.7s\n",
      "[CV] max_features=12, n_estimators=100 ...............................\n",
      "[CV]  max_features=12, n_estimators=100, score=-2762550891.017, total=   8.4s\n",
      "[CV] max_features=12, n_estimators=100 ...............................\n",
      "[CV]  max_features=12, n_estimators=100, score=-2405598049.305, total=   8.4s\n",
      "[CV] max_features=12, n_estimators=100 ...............................\n",
      "[CV]  max_features=12, n_estimators=100, score=-2731844310.304, total=   8.5s\n",
      "[CV] max_features=12, n_estimators=150 ...............................\n",
      "[CV]  max_features=12, n_estimators=150, score=-2404738889.292, total=  12.7s\n",
      "[CV] max_features=12, n_estimators=150 ...............................\n",
      "[CV]  max_features=12, n_estimators=150, score=-2651011431.213, total=  12.6s\n",
      "[CV] max_features=12, n_estimators=150 ...............................\n",
      "[CV]  max_features=12, n_estimators=150, score=-2730803613.429, total=  12.7s\n",
      "[CV] max_features=12, n_estimators=150 ...............................\n",
      "[CV]  max_features=12, n_estimators=150, score=-2361762136.542, total=  12.9s\n",
      "[CV] max_features=12, n_estimators=150 ...............................\n",
      "[CV]  max_features=12, n_estimators=150, score=-2730028497.172, total=  12.5s\n",
      "[CV] max_features=12, n_estimators=200 ...............................\n",
      "[CV]  max_features=12, n_estimators=200, score=-2405802062.796, total=  16.8s\n",
      "[CV] max_features=12, n_estimators=200 ...............................\n",
      "[CV]  max_features=12, n_estimators=200, score=-2669414734.548, total=  16.7s\n",
      "[CV] max_features=12, n_estimators=200 ...............................\n",
      "[CV]  max_features=12, n_estimators=200, score=-2744110154.098, total=  16.7s\n",
      "[CV] max_features=12, n_estimators=200 ...............................\n",
      "[CV]  max_features=12, n_estimators=200, score=-2371055127.485, total=  17.4s\n",
      "[CV] max_features=12, n_estimators=200 ...............................\n",
      "[CV]  max_features=12, n_estimators=200, score=-2719628942.438, total=  18.0s\n",
      "[CV] bootstrap=False, max_features=7, n_estimators=130 ...............\n",
      "[CV]  bootstrap=False, max_features=7, n_estimators=130, score=-2380957838.763, total=  11.3s\n",
      "[CV] bootstrap=False, max_features=7, n_estimators=130 ...............\n"
     ]
    },
    {
     "name": "stdout",
     "output_type": "stream",
     "text": [
      "[CV]  bootstrap=False, max_features=7, n_estimators=130, score=-2577587528.099, total=  11.0s\n",
      "[CV] bootstrap=False, max_features=7, n_estimators=130 ...............\n",
      "[CV]  bootstrap=False, max_features=7, n_estimators=130, score=-2662694070.226, total=  11.2s\n",
      "[CV] bootstrap=False, max_features=7, n_estimators=130 ...............\n",
      "[CV]  bootstrap=False, max_features=7, n_estimators=130, score=-2386913728.216, total=  11.2s\n",
      "[CV] bootstrap=False, max_features=7, n_estimators=130 ...............\n",
      "[CV]  bootstrap=False, max_features=7, n_estimators=130, score=-2638653900.621, total=  11.1s\n",
      "[CV] bootstrap=False, max_features=7, n_estimators=150 ...............\n",
      "[CV]  bootstrap=False, max_features=7, n_estimators=150, score=-2368477716.513, total=  12.8s\n",
      "[CV] bootstrap=False, max_features=7, n_estimators=150 ...............\n",
      "[CV]  bootstrap=False, max_features=7, n_estimators=150, score=-2584786395.636, total=  13.5s\n",
      "[CV] bootstrap=False, max_features=7, n_estimators=150 ...............\n",
      "[CV]  bootstrap=False, max_features=7, n_estimators=150, score=-2648276370.957, total=  13.6s\n",
      "[CV] bootstrap=False, max_features=7, n_estimators=150 ...............\n",
      "[CV]  bootstrap=False, max_features=7, n_estimators=150, score=-2347564440.056, total=  13.8s\n",
      "[CV] bootstrap=False, max_features=7, n_estimators=150 ...............\n",
      "[CV]  bootstrap=False, max_features=7, n_estimators=150, score=-2643895966.138, total=  13.3s\n",
      "[CV] bootstrap=False, max_features=7, n_estimators=180 ...............\n",
      "[CV]  bootstrap=False, max_features=7, n_estimators=180, score=-2354643218.307, total=  15.5s\n",
      "[CV] bootstrap=False, max_features=7, n_estimators=180 ...............\n",
      "[CV]  bootstrap=False, max_features=7, n_estimators=180, score=-2579803798.228, total=  15.4s\n",
      "[CV] bootstrap=False, max_features=7, n_estimators=180 ...............\n",
      "[CV]  bootstrap=False, max_features=7, n_estimators=180, score=-2647579608.445, total=  15.3s\n",
      "[CV] bootstrap=False, max_features=7, n_estimators=180 ...............\n",
      "[CV]  bootstrap=False, max_features=7, n_estimators=180, score=-2360564766.688, total=  15.4s\n",
      "[CV] bootstrap=False, max_features=7, n_estimators=180 ...............\n",
      "[CV]  bootstrap=False, max_features=7, n_estimators=180, score=-2595826606.448, total=  15.4s\n",
      "[CV] bootstrap=False, max_features=7, n_estimators=210 ...............\n",
      "[CV]  bootstrap=False, max_features=7, n_estimators=210, score=-2365894353.997, total=  18.0s\n",
      "[CV] bootstrap=False, max_features=7, n_estimators=210 ...............\n",
      "[CV]  bootstrap=False, max_features=7, n_estimators=210, score=-2566110515.438, total=  17.9s\n",
      "[CV] bootstrap=False, max_features=7, n_estimators=210 ...............\n",
      "[CV]  bootstrap=False, max_features=7, n_estimators=210, score=-2647230974.030, total=  17.8s\n",
      "[CV] bootstrap=False, max_features=7, n_estimators=210 ...............\n",
      "[CV]  bootstrap=False, max_features=7, n_estimators=210, score=-2371595356.875, total=  18.0s\n",
      "[CV] bootstrap=False, max_features=7, n_estimators=210 ...............\n",
      "[CV]  bootstrap=False, max_features=7, n_estimators=210, score=-2623294977.546, total=  17.9s\n",
      "[CV] bootstrap=False, max_features=9, n_estimators=130 ...............\n",
      "[CV]  bootstrap=False, max_features=9, n_estimators=130, score=-2409873371.576, total=  13.8s\n",
      "[CV] bootstrap=False, max_features=9, n_estimators=130 ...............\n",
      "[CV]  bootstrap=False, max_features=9, n_estimators=130, score=-2575201796.189, total=  13.8s\n",
      "[CV] bootstrap=False, max_features=9, n_estimators=130 ...............\n",
      "[CV]  bootstrap=False, max_features=9, n_estimators=130, score=-2692101665.376, total=  13.7s\n",
      "[CV] bootstrap=False, max_features=9, n_estimators=130 ...............\n",
      "[CV]  bootstrap=False, max_features=9, n_estimators=130, score=-2394694138.816, total=  14.0s\n",
      "[CV] bootstrap=False, max_features=9, n_estimators=130 ...............\n",
      "[CV]  bootstrap=False, max_features=9, n_estimators=130, score=-2635885624.698, total=  13.9s\n",
      "[CV] bootstrap=False, max_features=9, n_estimators=150 ...............\n",
      "[CV]  bootstrap=False, max_features=9, n_estimators=150, score=-2440529347.570, total=  16.0s\n",
      "[CV] bootstrap=False, max_features=9, n_estimators=150 ...............\n",
      "[CV]  bootstrap=False, max_features=9, n_estimators=150, score=-2577644101.016, total=  15.9s\n",
      "[CV] bootstrap=False, max_features=9, n_estimators=150 ...............\n",
      "[CV]  bootstrap=False, max_features=9, n_estimators=150, score=-2645268926.799, total=  15.8s\n",
      "[CV] bootstrap=False, max_features=9, n_estimators=150 ...............\n",
      "[CV]  bootstrap=False, max_features=9, n_estimators=150, score=-2411501029.560, total=  16.0s\n",
      "[CV] bootstrap=False, max_features=9, n_estimators=150 ...............\n",
      "[CV]  bootstrap=False, max_features=9, n_estimators=150, score=-2668760197.877, total=  15.9s\n",
      "[CV] bootstrap=False, max_features=9, n_estimators=180 ...............\n",
      "[CV]  bootstrap=False, max_features=9, n_estimators=180, score=-2394387000.819, total=  19.5s\n",
      "[CV] bootstrap=False, max_features=9, n_estimators=180 ...............\n",
      "[CV]  bootstrap=False, max_features=9, n_estimators=180, score=-2595376515.671, total=  19.5s\n",
      "[CV] bootstrap=False, max_features=9, n_estimators=180 ...............\n",
      "[CV]  bootstrap=False, max_features=9, n_estimators=180, score=-2630823156.670, total=  18.9s\n",
      "[CV] bootstrap=False, max_features=9, n_estimators=180 ...............\n",
      "[CV]  bootstrap=False, max_features=9, n_estimators=180, score=-2389799396.007, total=  19.2s\n",
      "[CV] bootstrap=False, max_features=9, n_estimators=180 ...............\n",
      "[CV]  bootstrap=False, max_features=9, n_estimators=180, score=-2664263579.393, total=  19.2s\n",
      "[CV] bootstrap=False, max_features=9, n_estimators=210 ...............\n",
      "[CV]  bootstrap=False, max_features=9, n_estimators=210, score=-2431432971.887, total=  22.2s\n",
      "[CV] bootstrap=False, max_features=9, n_estimators=210 ...............\n",
      "[CV]  bootstrap=False, max_features=9, n_estimators=210, score=-2590816258.939, total=  22.2s\n",
      "[CV] bootstrap=False, max_features=9, n_estimators=210 ...............\n",
      "[CV]  bootstrap=False, max_features=9, n_estimators=210, score=-2651491937.257, total=  22.1s\n",
      "[CV] bootstrap=False, max_features=9, n_estimators=210 ...............\n",
      "[CV]  bootstrap=False, max_features=9, n_estimators=210, score=-2384885613.644, total=  22.3s\n",
      "[CV] bootstrap=False, max_features=9, n_estimators=210 ...............\n",
      "[CV]  bootstrap=False, max_features=9, n_estimators=210, score=-2623491316.599, total=  22.2s\n",
      "[CV] bootstrap=False, max_features=11, n_estimators=130 ..............\n",
      "[CV]  bootstrap=False, max_features=11, n_estimators=130, score=-2464202849.653, total=  16.4s\n",
      "[CV] bootstrap=False, max_features=11, n_estimators=130 ..............\n",
      "[CV]  bootstrap=False, max_features=11, n_estimators=130, score=-2650004831.684, total=  16.4s\n",
      "[CV] bootstrap=False, max_features=11, n_estimators=130 ..............\n",
      "[CV]  bootstrap=False, max_features=11, n_estimators=130, score=-2714253900.850, total=  16.4s\n",
      "[CV] bootstrap=False, max_features=11, n_estimators=130 ..............\n",
      "[CV]  bootstrap=False, max_features=11, n_estimators=130, score=-2428505143.334, total=  16.6s\n",
      "[CV] bootstrap=False, max_features=11, n_estimators=130 ..............\n",
      "[CV]  bootstrap=False, max_features=11, n_estimators=130, score=-2734357499.069, total=  16.5s\n",
      "[CV] bootstrap=False, max_features=11, n_estimators=150 ..............\n",
      "[CV]  bootstrap=False, max_features=11, n_estimators=150, score=-2452834381.171, total=  19.1s\n",
      "[CV] bootstrap=False, max_features=11, n_estimators=150 ..............\n",
      "[CV]  bootstrap=False, max_features=11, n_estimators=150, score=-2645024617.452, total=  19.2s\n",
      "[CV] bootstrap=False, max_features=11, n_estimators=150 ..............\n",
      "[CV]  bootstrap=False, max_features=11, n_estimators=150, score=-2708942063.954, total=  18.9s\n",
      "[CV] bootstrap=False, max_features=11, n_estimators=150 ..............\n",
      "[CV]  bootstrap=False, max_features=11, n_estimators=150, score=-2438887915.337, total=  19.0s\n",
      "[CV] bootstrap=False, max_features=11, n_estimators=150 ..............\n",
      "[CV]  bootstrap=False, max_features=11, n_estimators=150, score=-2729944153.760, total=  19.1s\n",
      "[CV] bootstrap=False, max_features=11, n_estimators=180 ..............\n",
      "[CV]  bootstrap=False, max_features=11, n_estimators=180, score=-2463148192.930, total=  22.9s\n",
      "[CV] bootstrap=False, max_features=11, n_estimators=180 ..............\n"
     ]
    },
    {
     "name": "stdout",
     "output_type": "stream",
     "text": [
      "[CV]  bootstrap=False, max_features=11, n_estimators=180, score=-2670952581.501, total=  23.2s\n",
      "[CV] bootstrap=False, max_features=11, n_estimators=180 ..............\n",
      "[CV]  bootstrap=False, max_features=11, n_estimators=180, score=-2712764560.151, total=  23.2s\n",
      "[CV] bootstrap=False, max_features=11, n_estimators=180 ..............\n",
      "[CV]  bootstrap=False, max_features=11, n_estimators=180, score=-2436613667.933, total=  22.9s\n",
      "[CV] bootstrap=False, max_features=11, n_estimators=180 ..............\n",
      "[CV]  bootstrap=False, max_features=11, n_estimators=180, score=-2712096403.515, total=  22.9s\n",
      "[CV] bootstrap=False, max_features=11, n_estimators=210 ..............\n",
      "[CV]  bootstrap=False, max_features=11, n_estimators=210, score=-2471507905.537, total=  26.7s\n",
      "[CV] bootstrap=False, max_features=11, n_estimators=210 ..............\n",
      "[CV]  bootstrap=False, max_features=11, n_estimators=210, score=-2635402431.612, total=  26.5s\n",
      "[CV] bootstrap=False, max_features=11, n_estimators=210 ..............\n",
      "[CV]  bootstrap=False, max_features=11, n_estimators=210, score=-2708736002.661, total=  26.3s\n",
      "[CV] bootstrap=False, max_features=11, n_estimators=210 ..............\n",
      "[CV]  bootstrap=False, max_features=11, n_estimators=210, score=-2426078396.669, total=  26.7s\n",
      "[CV] bootstrap=False, max_features=11, n_estimators=210 ..............\n",
      "[CV]  bootstrap=False, max_features=11, n_estimators=210, score=-2723288877.368, total=  26.6s\n"
     ]
    },
    {
     "name": "stderr",
     "output_type": "stream",
     "text": [
      "[Parallel(n_jobs=1)]: Done 120 out of 120 | elapsed: 27.9min finished\n"
     ]
    },
    {
     "data": {
      "text/plain": [
       "GridSearchCV(cv=5, error_score=nan,\n",
       "             estimator=RandomForestRegressor(bootstrap=True, ccp_alpha=0.0,\n",
       "                                             criterion='mse', max_depth=None,\n",
       "                                             max_features='auto',\n",
       "                                             max_leaf_nodes=None,\n",
       "                                             max_samples=None,\n",
       "                                             min_impurity_decrease=0.0,\n",
       "                                             min_impurity_split=None,\n",
       "                                             min_samples_leaf=1,\n",
       "                                             min_samples_split=2,\n",
       "                                             min_weight_fraction_leaf=0.0,\n",
       "                                             n_estimators=100, n_jobs=None,\n",
       "                                             oob_score=False, random_state=None,\n",
       "                                             verbose=0, warm_start=False),\n",
       "             iid='deprecated', n_jobs=None,\n",
       "             param_grid=[{'max_features': [6, 8, 10, 12],\n",
       "                          'n_estimators': [100, 150, 200]},\n",
       "                         {'bootstrap': [False], 'max_features': [7, 9, 11],\n",
       "                          'n_estimators': [130, 150, 180, 210]}],\n",
       "             pre_dispatch='2*n_jobs', refit=True, return_train_score=False,\n",
       "             scoring='neg_mean_squared_error', verbose=6)"
      ]
     },
     "execution_count": 48,
     "metadata": {},
     "output_type": "execute_result"
    }
   ],
   "source": [
    "#Случайные Леса\n",
    "\n",
    "param_grid = [\n",
    "    {'n_estimators':[100, 150, 200], 'max_features':[6, 8, 10, 12]},\n",
    "    {'bootstrap': [False], 'n_estimators': [130, 150, 180, 210],\n",
    "     'max_features': [7, 9, 11]},\n",
    "]\n",
    "forest_reg = RandomForestRegressor()\n",
    "grid_search = GridSearchCV(forest_reg, param_grid, cv=5,\n",
    "                          scoring='neg_mean_squared_error', verbose = 6)\n",
    "grid_search.fit(housing_prepared, housing_labels)"
   ]
  },
  {
   "cell_type": "code",
   "execution_count": 49,
   "metadata": {
    "colab": {
     "base_uri": "https://localhost:8080/",
     "height": 35
    },
    "colab_type": "code",
    "id": "slXvIhV0JJpr",
    "outputId": "789d2e3f-ee09-4557-97d6-95bad5194876"
   },
   "outputs": [
    {
     "data": {
      "text/plain": [
       "{'bootstrap': False, 'max_features': 7, 'n_estimators': 180}"
      ]
     },
     "execution_count": 49,
     "metadata": {},
     "output_type": "execute_result"
    }
   ],
   "source": [
    "grid_search.best_params_"
   ]
  },
  {
   "cell_type": "code",
   "execution_count": 50,
   "metadata": {
    "colab": {
     "base_uri": "https://localhost:8080/",
     "height": 139
    },
    "colab_type": "code",
    "collapsed": true,
    "id": "gKUMevsOJJpu",
    "outputId": "eb393838-d1c5-45f7-e17f-bf399a070381"
   },
   "outputs": [
    {
     "data": {
      "text/plain": [
       "RandomForestRegressor(bootstrap=False, ccp_alpha=0.0, criterion='mse',\n",
       "                      max_depth=None, max_features=7, max_leaf_nodes=None,\n",
       "                      max_samples=None, min_impurity_decrease=0.0,\n",
       "                      min_impurity_split=None, min_samples_leaf=1,\n",
       "                      min_samples_split=2, min_weight_fraction_leaf=0.0,\n",
       "                      n_estimators=180, n_jobs=None, oob_score=False,\n",
       "                      random_state=None, verbose=0, warm_start=False)"
      ]
     },
     "execution_count": 50,
     "metadata": {},
     "output_type": "execute_result"
    }
   ],
   "source": [
    "grid_search.best_estimator_"
   ]
  },
  {
   "cell_type": "code",
   "execution_count": 62,
   "metadata": {
    "colab": {
     "base_uri": "https://localhost:8080/",
     "height": 191
    },
    "colab_type": "code",
    "collapsed": true,
    "id": "fiRFEqdeJJp1",
    "outputId": "4e33243c-c47c-44a2-9ebc-506fc4cc11ca"
   },
   "outputs": [
    {
     "name": "stdout",
     "output_type": "stream",
     "text": [
      "50943.74627784686 {'max_features': 6, 'n_estimators': 100}\n",
      "50749.51646217888 {'max_features': 6, 'n_estimators': 150}\n",
      "50582.318098095224 {'max_features': 6, 'n_estimators': 200}\n",
      "50657.515946932486 {'max_features': 8, 'n_estimators': 100}\n",
      "50685.72352867483 {'max_features': 8, 'n_estimators': 150}\n",
      "50566.83116245745 {'max_features': 8, 'n_estimators': 200}\n",
      "50712.38911960393 {'max_features': 10, 'n_estimators': 100}\n",
      "50644.94336819761 {'max_features': 10, 'n_estimators': 150}\n",
      "50602.72011402402 {'max_features': 10, 'n_estimators': 200}\n",
      "50987.177349678605 {'max_features': 12, 'n_estimators': 100}\n",
      "50751.048398329636 {'max_features': 12, 'n_estimators': 150}\n",
      "50813.40575353117 {'max_features': 12, 'n_estimators': 200}\n",
      "50292.7570648611 {'bootstrap': False, 'max_features': 7, 'n_estimators': 130}\n",
      "50185.65709303756 {'bootstrap': False, 'max_features': 7, 'n_estimators': 150}\n",
      "50076.77704907933 {'bootstrap': False, 'max_features': 7, 'n_estimators': 180}\n",
      "50148.03321743595 {'bootstrap': False, 'max_features': 7, 'n_estimators': 210}\n",
      "50413.80088161375 {'bootstrap': False, 'max_features': 9, 'n_estimators': 130}\n",
      "50485.05442766453 {'bootstrap': False, 'max_features': 9, 'n_estimators': 150}\n",
      "50348.08764701908 {'bootstrap': False, 'max_features': 9, 'n_estimators': 180}\n",
      "50362.9190939644 {'bootstrap': False, 'max_features': 9, 'n_estimators': 210}\n",
      "50973.17770080613 {'bootstrap': False, 'max_features': 11, 'n_estimators': 130}\n",
      "50942.38536164807 {'bootstrap': False, 'max_features': 11, 'n_estimators': 150}\n",
      "50981.51705476983 {'bootstrap': False, 'max_features': 11, 'n_estimators': 180}\n",
      "50921.534960854064 {'bootstrap': False, 'max_features': 11, 'n_estimators': 210}\n"
     ]
    }
   ],
   "source": [
    "cvres = grid_search.cv_results_\n",
    "for mean_score, params in zip(cvres['mean_test_score'],\n",
    "                             cvres['params']):\n",
    "    print(np.sqrt(-mean_score), params)"
   ]
  },
  {
   "cell_type": "code",
   "execution_count": 63,
   "metadata": {
    "colab": {
     "base_uri": "https://localhost:8080/",
     "height": 485
    },
    "colab_type": "code",
    "collapsed": true,
    "id": "2iFpHXW2JJp5",
    "outputId": "9c0f1167-361a-4863-f0cd-724b2ef32d40"
   },
   "outputs": [
    {
     "name": "stdout",
     "output_type": "stream",
     "text": [
      "Fitting 5 folds for each of 50 candidates, totalling 250 fits\n",
      "[CV] bootstrap=False, max_features=8, n_estimators=98 ................\n"
     ]
    },
    {
     "name": "stderr",
     "output_type": "stream",
     "text": [
      "[Parallel(n_jobs=1)]: Using backend SequentialBackend with 1 concurrent workers.\n"
     ]
    },
    {
     "name": "stdout",
     "output_type": "stream",
     "text": [
      "[CV]  bootstrap=False, max_features=8, n_estimators=98, score=-2407688953.593, total=  10.2s\n",
      "[CV] bootstrap=False, max_features=8, n_estimators=98 ................\n"
     ]
    },
    {
     "name": "stderr",
     "output_type": "stream",
     "text": [
      "[Parallel(n_jobs=1)]: Done   1 out of   1 | elapsed:   10.1s remaining:    0.0s\n"
     ]
    },
    {
     "name": "stdout",
     "output_type": "stream",
     "text": [
      "[CV]  bootstrap=False, max_features=8, n_estimators=98, score=-2573487532.114, total=  10.3s\n",
      "[CV] bootstrap=False, max_features=8, n_estimators=98 ................\n"
     ]
    },
    {
     "name": "stderr",
     "output_type": "stream",
     "text": [
      "[Parallel(n_jobs=1)]: Done   2 out of   2 | elapsed:   20.4s remaining:    0.0s\n"
     ]
    },
    {
     "name": "stdout",
     "output_type": "stream",
     "text": [
      "[CV]  bootstrap=False, max_features=8, n_estimators=98, score=-2651147410.752, total=  10.1s\n",
      "[CV] bootstrap=False, max_features=8, n_estimators=98 ................\n"
     ]
    },
    {
     "name": "stderr",
     "output_type": "stream",
     "text": [
      "[Parallel(n_jobs=1)]: Done   3 out of   3 | elapsed:   30.5s remaining:    0.0s\n"
     ]
    },
    {
     "name": "stdout",
     "output_type": "stream",
     "text": [
      "[CV]  bootstrap=False, max_features=8, n_estimators=98, score=-2381118003.198, total=  10.2s\n",
      "[CV] bootstrap=False, max_features=8, n_estimators=98 ................\n"
     ]
    },
    {
     "name": "stderr",
     "output_type": "stream",
     "text": [
      "[Parallel(n_jobs=1)]: Done   4 out of   4 | elapsed:   40.7s remaining:    0.0s\n"
     ]
    },
    {
     "name": "stdout",
     "output_type": "stream",
     "text": [
      "[CV]  bootstrap=False, max_features=8, n_estimators=98, score=-2648103165.544, total=  10.1s\n",
      "[CV] bootstrap=False, max_features=12, n_estimators=245 ..............\n"
     ]
    },
    {
     "name": "stderr",
     "output_type": "stream",
     "text": [
      "[Parallel(n_jobs=1)]: Done   5 out of   5 | elapsed:   50.9s remaining:    0.0s\n"
     ]
    },
    {
     "name": "stdout",
     "output_type": "stream",
     "text": [
      "[CV]  bootstrap=False, max_features=12, n_estimators=245, score=-2505140069.593, total=  36.2s\n",
      "[CV] bootstrap=False, max_features=12, n_estimators=245 ..............\n",
      "[CV]  bootstrap=False, max_features=12, n_estimators=245, score=-2656128604.893, total=  39.9s\n",
      "[CV] bootstrap=False, max_features=12, n_estimators=245 ..............\n",
      "[CV]  bootstrap=False, max_features=12, n_estimators=245, score=-2761054838.673, total=  36.2s\n",
      "[CV] bootstrap=False, max_features=12, n_estimators=245 ..............\n",
      "[CV]  bootstrap=False, max_features=12, n_estimators=245, score=-2482086489.050, total=  37.6s\n",
      "[CV] bootstrap=False, max_features=12, n_estimators=245 ..............\n",
      "[CV]  bootstrap=False, max_features=12, n_estimators=245, score=-2767163260.233, total=  36.8s\n",
      "[CV] bootstrap=False, max_features=4, n_estimators=43 ................\n",
      "[CV]  bootstrap=False, max_features=4, n_estimators=43, score=-2438632344.294, total=   2.5s\n",
      "[CV] bootstrap=False, max_features=4, n_estimators=43 ................\n",
      "[CV]  bootstrap=False, max_features=4, n_estimators=43, score=-2598974600.815, total=   2.5s\n",
      "[CV] bootstrap=False, max_features=4, n_estimators=43 ................\n",
      "[CV]  bootstrap=False, max_features=4, n_estimators=43, score=-2743312115.526, total=   2.5s\n",
      "[CV] bootstrap=False, max_features=4, n_estimators=43 ................\n",
      "[CV]  bootstrap=False, max_features=4, n_estimators=43, score=-2446725175.775, total=   2.5s\n",
      "[CV] bootstrap=False, max_features=4, n_estimators=43 ................\n",
      "[CV]  bootstrap=False, max_features=4, n_estimators=43, score=-2676851604.880, total=   2.5s\n",
      "[CV] bootstrap=False, max_features=6, n_estimators=222 ...............\n",
      "[CV]  bootstrap=False, max_features=6, n_estimators=222, score=-2356831508.657, total=  18.1s\n",
      "[CV] bootstrap=False, max_features=6, n_estimators=222 ...............\n",
      "[CV]  bootstrap=False, max_features=6, n_estimators=222, score=-2549774908.964, total=  18.3s\n",
      "[CV] bootstrap=False, max_features=6, n_estimators=222 ...............\n",
      "[CV]  bootstrap=False, max_features=6, n_estimators=222, score=-2642990327.625, total=  18.8s\n",
      "[CV] bootstrap=False, max_features=6, n_estimators=222 ...............\n",
      "[CV]  bootstrap=False, max_features=6, n_estimators=222, score=-2359727417.965, total=  19.3s\n",
      "[CV] bootstrap=False, max_features=6, n_estimators=222 ...............\n",
      "[CV]  bootstrap=False, max_features=6, n_estimators=222, score=-2604732778.674, total=  17.6s\n",
      "[CV] bootstrap=False, max_features=3, n_estimators=228 ...............\n",
      "[CV]  bootstrap=False, max_features=3, n_estimators=228, score=-2400534543.061, total=  10.7s\n",
      "[CV] bootstrap=False, max_features=3, n_estimators=228 ...............\n",
      "[CV]  bootstrap=False, max_features=3, n_estimators=228, score=-2632461795.098, total=  10.7s\n",
      "[CV] bootstrap=False, max_features=3, n_estimators=228 ...............\n",
      "[CV]  bootstrap=False, max_features=3, n_estimators=228, score=-2687646209.547, total=  11.5s\n",
      "[CV] bootstrap=False, max_features=3, n_estimators=228 ...............\n",
      "[CV]  bootstrap=False, max_features=3, n_estimators=228, score=-2388028856.430, total=  11.1s\n",
      "[CV] bootstrap=False, max_features=3, n_estimators=228 ...............\n",
      "[CV]  bootstrap=False, max_features=3, n_estimators=228, score=-2664300247.699, total=  10.8s\n",
      "[CV] bootstrap=False, max_features=14, n_estimators=153 ..............\n",
      "[CV]  bootstrap=False, max_features=14, n_estimators=153, score=-2693493722.399, total=  25.3s\n",
      "[CV] bootstrap=False, max_features=14, n_estimators=153 ..............\n",
      "[CV]  bootstrap=False, max_features=14, n_estimators=153, score=-2860729227.561, total=  25.6s\n",
      "[CV] bootstrap=False, max_features=14, n_estimators=153 ..............\n",
      "[CV]  bootstrap=False, max_features=14, n_estimators=153, score=-2961287308.172, total=  25.3s\n",
      "[CV] bootstrap=False, max_features=14, n_estimators=153 ..............\n",
      "[CV]  bootstrap=False, max_features=14, n_estimators=153, score=-2596812973.603, total=  26.2s\n",
      "[CV] bootstrap=False, max_features=14, n_estimators=153 ..............\n",
      "[CV]  bootstrap=False, max_features=14, n_estimators=153, score=-2923386835.201, total=  24.9s\n",
      "[CV] bootstrap=False, max_features=10, n_estimators=38 ...............\n",
      "[CV]  bootstrap=False, max_features=10, n_estimators=38, score=-2527739508.402, total=   4.6s\n",
      "[CV] bootstrap=False, max_features=10, n_estimators=38 ...............\n",
      "[CV]  bootstrap=False, max_features=10, n_estimators=38, score=-2670849679.759, total=   4.6s\n",
      "[CV] bootstrap=False, max_features=10, n_estimators=38 ...............\n",
      "[CV]  bootstrap=False, max_features=10, n_estimators=38, score=-2685651321.017, total=   4.5s\n",
      "[CV] bootstrap=False, max_features=10, n_estimators=38 ...............\n",
      "[CV]  bootstrap=False, max_features=10, n_estimators=38, score=-2481202151.392, total=   4.6s\n",
      "[CV] bootstrap=False, max_features=10, n_estimators=38 ...............\n",
      "[CV]  bootstrap=False, max_features=10, n_estimators=38, score=-2707846693.589, total=   4.6s\n",
      "[CV] bootstrap=False, max_features=6, n_estimators=128 ...............\n",
      "[CV]  bootstrap=False, max_features=6, n_estimators=128, score=-2361087826.781, total=  10.0s\n",
      "[CV] bootstrap=False, max_features=6, n_estimators=128 ...............\n",
      "[CV]  bootstrap=False, max_features=6, n_estimators=128, score=-2556599946.935, total=  10.0s\n",
      "[CV] bootstrap=False, max_features=6, n_estimators=128 ...............\n",
      "[CV]  bootstrap=False, max_features=6, n_estimators=128, score=-2656264876.870, total=  10.0s\n",
      "[CV] bootstrap=False, max_features=6, n_estimators=128 ...............\n",
      "[CV]  bootstrap=False, max_features=6, n_estimators=128, score=-2380481840.632, total=  10.0s\n",
      "[CV] bootstrap=False, max_features=6, n_estimators=128 ...............\n",
      "[CV]  bootstrap=False, max_features=6, n_estimators=128, score=-2622040942.675, total=  10.0s\n",
      "[CV] bootstrap=False, max_features=10, n_estimators=198 ..............\n",
      "[CV]  bootstrap=False, max_features=10, n_estimators=198, score=-2429686560.425, total=  24.4s\n",
      "[CV] bootstrap=False, max_features=10, n_estimators=198 ..............\n",
      "[CV]  bootstrap=False, max_features=10, n_estimators=198, score=-2606616770.540, total=  24.4s\n",
      "[CV] bootstrap=False, max_features=10, n_estimators=198 ..............\n",
      "[CV]  bootstrap=False, max_features=10, n_estimators=198, score=-2666696990.015, total=  25.3s\n",
      "[CV] bootstrap=False, max_features=10, n_estimators=198 ..............\n",
      "[CV]  bootstrap=False, max_features=10, n_estimators=198, score=-2419688689.236, total=  24.5s\n",
      "[CV] bootstrap=False, max_features=10, n_estimators=198 ..............\n",
      "[CV]  bootstrap=False, max_features=10, n_estimators=198, score=-2659894902.108, total=  24.4s\n",
      "[CV] bootstrap=False, max_features=7, n_estimators=154 ...............\n",
      "[CV]  bootstrap=False, max_features=7, n_estimators=154, score=-2360817247.715, total=  14.1s\n",
      "[CV] bootstrap=False, max_features=7, n_estimators=154 ...............\n",
      "[CV]  bootstrap=False, max_features=7, n_estimators=154, score=-2562255454.297, total=  14.1s\n",
      "[CV] bootstrap=False, max_features=7, n_estimators=154 ...............\n",
      "[CV]  bootstrap=False, max_features=7, n_estimators=154, score=-2632007203.855, total=  13.8s\n",
      "[CV] bootstrap=False, max_features=7, n_estimators=154 ...............\n",
      "[CV]  bootstrap=False, max_features=7, n_estimators=154, score=-2352346523.112, total=  13.9s\n",
      "[CV] bootstrap=False, max_features=7, n_estimators=154 ...............\n",
      "[CV]  bootstrap=False, max_features=7, n_estimators=154, score=-2600140404.119, total=  14.3s\n",
      "[CV] bootstrap=False, max_features=5, n_estimators=83 ................\n",
      "[CV]  bootstrap=False, max_features=5, n_estimators=83, score=-2367183829.308, total=   5.8s\n",
      "[CV] bootstrap=False, max_features=5, n_estimators=83 ................\n",
      "[CV]  bootstrap=False, max_features=5, n_estimators=83, score=-2573341780.742, total=   5.6s\n",
      "[CV] bootstrap=False, max_features=5, n_estimators=83 ................\n",
      "[CV]  bootstrap=False, max_features=5, n_estimators=83, score=-2671616909.682, total=   5.8s\n",
      "[CV] bootstrap=False, max_features=5, n_estimators=83 ................\n",
      "[CV]  bootstrap=False, max_features=5, n_estimators=83, score=-2345568394.042, total=   5.7s\n",
      "[CV] bootstrap=False, max_features=5, n_estimators=83 ................\n",
      "[CV]  bootstrap=False, max_features=5, n_estimators=83, score=-2650273215.984, total=   5.7s\n",
      "[CV] bootstrap=False, max_features=3, n_estimators=219 ...............\n"
     ]
    },
    {
     "name": "stdout",
     "output_type": "stream",
     "text": [
      "[CV]  bootstrap=False, max_features=3, n_estimators=219, score=-2399233391.514, total=  10.3s\n",
      "[CV] bootstrap=False, max_features=3, n_estimators=219 ...............\n",
      "[CV]  bootstrap=False, max_features=3, n_estimators=219, score=-2638181634.032, total=  10.2s\n",
      "[CV] bootstrap=False, max_features=3, n_estimators=219 ...............\n",
      "[CV]  bootstrap=False, max_features=3, n_estimators=219, score=-2691988471.333, total=  10.3s\n",
      "[CV] bootstrap=False, max_features=3, n_estimators=219 ...............\n",
      "[CV]  bootstrap=False, max_features=3, n_estimators=219, score=-2390373587.789, total=  10.2s\n",
      "[CV] bootstrap=False, max_features=3, n_estimators=219 ...............\n",
      "[CV]  bootstrap=False, max_features=3, n_estimators=219, score=-2667216191.243, total=  10.5s\n",
      "[CV] bootstrap=False, max_features=14, n_estimators=150 ..............\n",
      "[CV]  bootstrap=False, max_features=14, n_estimators=150, score=-2697836181.452, total=  25.2s\n",
      "[CV] bootstrap=False, max_features=14, n_estimators=150 ..............\n",
      "[CV]  bootstrap=False, max_features=14, n_estimators=150, score=-2859357599.604, total=  25.1s\n",
      "[CV] bootstrap=False, max_features=14, n_estimators=150 ..............\n",
      "[CV]  bootstrap=False, max_features=14, n_estimators=150, score=-2962795745.681, total=  24.4s\n",
      "[CV] bootstrap=False, max_features=14, n_estimators=150 ..............\n",
      "[CV]  bootstrap=False, max_features=14, n_estimators=150, score=-2596069944.952, total=  25.1s\n",
      "[CV] bootstrap=False, max_features=14, n_estimators=150 ..............\n",
      "[CV]  bootstrap=False, max_features=14, n_estimators=150, score=-2921319714.193, total=  25.0s\n",
      "[CV] bootstrap=False, max_features=10, n_estimators=247 ..............\n",
      "[CV]  bootstrap=False, max_features=10, n_estimators=247, score=-2423751948.401, total=  30.5s\n",
      "[CV] bootstrap=False, max_features=10, n_estimators=247 ..............\n",
      "[CV]  bootstrap=False, max_features=10, n_estimators=247, score=-2609505351.505, total=  30.3s\n",
      "[CV] bootstrap=False, max_features=10, n_estimators=247 ..............\n",
      "[CV]  bootstrap=False, max_features=10, n_estimators=247, score=-2669822772.487, total=  30.7s\n",
      "[CV] bootstrap=False, max_features=10, n_estimators=247 ..............\n",
      "[CV]  bootstrap=False, max_features=10, n_estimators=247, score=-2413538781.034, total=  31.3s\n",
      "[CV] bootstrap=False, max_features=10, n_estimators=247 ..............\n",
      "[CV]  bootstrap=False, max_features=10, n_estimators=247, score=-2661691378.925, total=  31.2s\n",
      "[CV] bootstrap=False, max_features=11, n_estimators=77 ...............\n",
      "[CV]  bootstrap=False, max_features=11, n_estimators=77, score=-2487685618.935, total=  10.4s\n",
      "[CV] bootstrap=False, max_features=11, n_estimators=77 ...............\n",
      "[CV]  bootstrap=False, max_features=11, n_estimators=77, score=-2666071704.865, total=  10.3s\n",
      "[CV] bootstrap=False, max_features=11, n_estimators=77 ...............\n",
      "[CV]  bootstrap=False, max_features=11, n_estimators=77, score=-2749679271.027, total=  10.6s\n",
      "[CV] bootstrap=False, max_features=11, n_estimators=77 ...............\n",
      "[CV]  bootstrap=False, max_features=11, n_estimators=77, score=-2451555813.528, total=  10.1s\n",
      "[CV] bootstrap=False, max_features=11, n_estimators=77 ...............\n",
      "[CV]  bootstrap=False, max_features=11, n_estimators=77, score=-2742021530.166, total=  10.2s\n",
      "[CV] bootstrap=False, max_features=5, n_estimators=90 ................\n",
      "[CV]  bootstrap=False, max_features=5, n_estimators=90, score=-2375285411.623, total=   6.1s\n",
      "[CV] bootstrap=False, max_features=5, n_estimators=90 ................\n",
      "[CV]  bootstrap=False, max_features=5, n_estimators=90, score=-2568338070.390, total=   6.1s\n",
      "[CV] bootstrap=False, max_features=5, n_estimators=90 ................\n",
      "[CV]  bootstrap=False, max_features=5, n_estimators=90, score=-2669311556.250, total=   6.0s\n",
      "[CV] bootstrap=False, max_features=5, n_estimators=90 ................\n",
      "[CV]  bootstrap=False, max_features=5, n_estimators=90, score=-2349039177.478, total=   6.2s\n",
      "[CV] bootstrap=False, max_features=5, n_estimators=90 ................\n",
      "[CV]  bootstrap=False, max_features=5, n_estimators=90, score=-2644711319.108, total=   6.2s\n",
      "[CV] bootstrap=False, max_features=5, n_estimators=153 ...............\n",
      "[CV]  bootstrap=False, max_features=5, n_estimators=153, score=-2365457595.897, total=  10.4s\n",
      "[CV] bootstrap=False, max_features=5, n_estimators=153 ...............\n",
      "[CV]  bootstrap=False, max_features=5, n_estimators=153, score=-2552851200.967, total=  10.4s\n",
      "[CV] bootstrap=False, max_features=5, n_estimators=153 ...............\n",
      "[CV]  bootstrap=False, max_features=5, n_estimators=153, score=-2645717868.456, total=  10.3s\n",
      "[CV] bootstrap=False, max_features=5, n_estimators=153 ...............\n",
      "[CV]  bootstrap=False, max_features=5, n_estimators=153, score=-2337627910.011, total=  10.4s\n",
      "[CV] bootstrap=False, max_features=5, n_estimators=153 ...............\n",
      "[CV]  bootstrap=False, max_features=5, n_estimators=153, score=-2632896637.081, total=  10.4s\n",
      "[CV] bootstrap=False, max_features=3, n_estimators=181 ...............\n",
      "[CV]  bootstrap=False, max_features=3, n_estimators=181, score=-2401468573.348, total=   8.7s\n",
      "[CV] bootstrap=False, max_features=3, n_estimators=181 ...............\n",
      "[CV]  bootstrap=False, max_features=3, n_estimators=181, score=-2645284512.887, total=   8.8s\n",
      "[CV] bootstrap=False, max_features=3, n_estimators=181 ...............\n",
      "[CV]  bootstrap=False, max_features=3, n_estimators=181, score=-2700635663.974, total=   8.6s\n",
      "[CV] bootstrap=False, max_features=3, n_estimators=181 ...............\n",
      "[CV]  bootstrap=False, max_features=3, n_estimators=181, score=-2380718259.819, total=   8.4s\n",
      "[CV] bootstrap=False, max_features=3, n_estimators=181 ...............\n",
      "[CV]  bootstrap=False, max_features=3, n_estimators=181, score=-2672311666.159, total=   8.5s\n",
      "[CV] bootstrap=False, max_features=5, n_estimators=200 ...............\n",
      "[CV]  bootstrap=False, max_features=5, n_estimators=200, score=-2353449024.920, total=  13.9s\n",
      "[CV] bootstrap=False, max_features=5, n_estimators=200 ...............\n",
      "[CV]  bootstrap=False, max_features=5, n_estimators=200, score=-2546358816.449, total=  13.5s\n",
      "[CV] bootstrap=False, max_features=5, n_estimators=200 ...............\n",
      "[CV]  bootstrap=False, max_features=5, n_estimators=200, score=-2644916969.235, total=  13.6s\n",
      "[CV] bootstrap=False, max_features=5, n_estimators=200 ...............\n",
      "[CV]  bootstrap=False, max_features=5, n_estimators=200, score=-2338772426.461, total=  13.5s\n",
      "[CV] bootstrap=False, max_features=5, n_estimators=200 ...............\n",
      "[CV]  bootstrap=False, max_features=5, n_estimators=200, score=-2628549840.512, total=  14.0s\n",
      "[CV] bootstrap=False, max_features=6, n_estimators=212 ...............\n",
      "[CV]  bootstrap=False, max_features=6, n_estimators=212, score=-2358708269.273, total=  16.7s\n",
      "[CV] bootstrap=False, max_features=6, n_estimators=212 ...............\n",
      "[CV]  bootstrap=False, max_features=6, n_estimators=212, score=-2552341790.397, total=  16.9s\n",
      "[CV] bootstrap=False, max_features=6, n_estimators=212 ...............\n",
      "[CV]  bootstrap=False, max_features=6, n_estimators=212, score=-2646253601.972, total=  16.8s\n",
      "[CV] bootstrap=False, max_features=6, n_estimators=212 ...............\n",
      "[CV]  bootstrap=False, max_features=6, n_estimators=212, score=-2363058170.101, total=  16.9s\n",
      "[CV] bootstrap=False, max_features=6, n_estimators=212 ...............\n",
      "[CV]  bootstrap=False, max_features=6, n_estimators=212, score=-2601567570.012, total=  16.6s\n",
      "[CV] bootstrap=False, max_features=10, n_estimators=155 ..............\n",
      "[CV]  bootstrap=False, max_features=10, n_estimators=155, score=-2437149055.670, total=  18.9s\n",
      "[CV] bootstrap=False, max_features=10, n_estimators=155 ..............\n",
      "[CV]  bootstrap=False, max_features=10, n_estimators=155, score=-2615122931.274, total=  19.2s\n",
      "[CV] bootstrap=False, max_features=10, n_estimators=155 ..............\n",
      "[CV]  bootstrap=False, max_features=10, n_estimators=155, score=-2666728934.434, total=  18.7s\n",
      "[CV] bootstrap=False, max_features=10, n_estimators=155 ..............\n",
      "[CV]  bootstrap=False, max_features=10, n_estimators=155, score=-2419210687.502, total=  18.9s\n",
      "[CV] bootstrap=False, max_features=10, n_estimators=155 ..............\n",
      "[CV]  bootstrap=False, max_features=10, n_estimators=155, score=-2676019222.549, total=  19.1s\n",
      "[CV] bootstrap=False, max_features=10, n_estimators=123 ..............\n"
     ]
    },
    {
     "name": "stdout",
     "output_type": "stream",
     "text": [
      "[CV]  bootstrap=False, max_features=10, n_estimators=123, score=-2448428492.236, total=  15.0s\n",
      "[CV] bootstrap=False, max_features=10, n_estimators=123 ..............\n",
      "[CV]  bootstrap=False, max_features=10, n_estimators=123, score=-2633708660.601, total=  14.9s\n",
      "[CV] bootstrap=False, max_features=10, n_estimators=123 ..............\n",
      "[CV]  bootstrap=False, max_features=10, n_estimators=123, score=-2670040835.377, total=  14.9s\n",
      "[CV] bootstrap=False, max_features=10, n_estimators=123 ..............\n",
      "[CV]  bootstrap=False, max_features=10, n_estimators=123, score=-2431137569.496, total=  15.2s\n",
      "[CV] bootstrap=False, max_features=10, n_estimators=123 ..............\n",
      "[CV]  bootstrap=False, max_features=10, n_estimators=123, score=-2682734076.401, total=  14.8s\n",
      "[CV] bootstrap=False, max_features=11, n_estimators=209 ..............\n",
      "[CV]  bootstrap=False, max_features=11, n_estimators=209, score=-2459719626.686, total=  28.5s\n",
      "[CV] bootstrap=False, max_features=11, n_estimators=209 ..............\n",
      "[CV]  bootstrap=False, max_features=11, n_estimators=209, score=-2657510194.796, total=  27.8s\n",
      "[CV] bootstrap=False, max_features=11, n_estimators=209 ..............\n",
      "[CV]  bootstrap=False, max_features=11, n_estimators=209, score=-2724474972.954, total=  27.6s\n",
      "[CV] bootstrap=False, max_features=11, n_estimators=209 ..............\n",
      "[CV]  bootstrap=False, max_features=11, n_estimators=209, score=-2429570509.005, total=  30.3s\n",
      "[CV] bootstrap=False, max_features=11, n_estimators=209 ..............\n",
      "[CV]  bootstrap=False, max_features=11, n_estimators=209, score=-2727237873.700, total=  30.1s\n",
      "[CV] bootstrap=False, max_features=14, n_estimators=152 ..............\n",
      "[CV]  bootstrap=False, max_features=14, n_estimators=152, score=-2694312809.837, total=  28.0s\n",
      "[CV] bootstrap=False, max_features=14, n_estimators=152 ..............\n",
      "[CV]  bootstrap=False, max_features=14, n_estimators=152, score=-2858249946.179, total=  28.3s\n",
      "[CV] bootstrap=False, max_features=14, n_estimators=152 ..............\n",
      "[CV]  bootstrap=False, max_features=14, n_estimators=152, score=-2962755620.683, total=  27.3s\n",
      "[CV] bootstrap=False, max_features=14, n_estimators=152 ..............\n",
      "[CV]  bootstrap=False, max_features=14, n_estimators=152, score=-2596912287.039, total=  25.9s\n",
      "[CV] bootstrap=False, max_features=14, n_estimators=152 ..............\n",
      "[CV]  bootstrap=False, max_features=14, n_estimators=152, score=-2922802276.703, total=  27.8s\n",
      "[CV] bootstrap=False, max_features=12, n_estimators=229 ..............\n",
      "[CV]  bootstrap=False, max_features=12, n_estimators=229, score=-2506526054.818, total=  36.1s\n",
      "[CV] bootstrap=False, max_features=12, n_estimators=229 ..............\n",
      "[CV]  bootstrap=False, max_features=12, n_estimators=229, score=-2655484974.684, total=  36.0s\n",
      "[CV] bootstrap=False, max_features=12, n_estimators=229 ..............\n",
      "[CV]  bootstrap=False, max_features=12, n_estimators=229, score=-2756025379.531, total=  32.3s\n",
      "[CV] bootstrap=False, max_features=12, n_estimators=229 ..............\n",
      "[CV]  bootstrap=False, max_features=12, n_estimators=229, score=-2485267839.810, total=  32.6s\n",
      "[CV] bootstrap=False, max_features=12, n_estimators=229 ..............\n",
      "[CV]  bootstrap=False, max_features=12, n_estimators=229, score=-2764481445.119, total=  32.7s\n",
      "[CV] bootstrap=False, max_features=14, n_estimators=95 ...............\n",
      "[CV]  bootstrap=False, max_features=14, n_estimators=95, score=-2727406765.400, total=  15.5s\n",
      "[CV] bootstrap=False, max_features=14, n_estimators=95 ...............\n",
      "[CV]  bootstrap=False, max_features=14, n_estimators=95, score=-2882781581.971, total=  15.5s\n",
      "[CV] bootstrap=False, max_features=14, n_estimators=95 ...............\n",
      "[CV]  bootstrap=False, max_features=14, n_estimators=95, score=-2994277019.681, total=  15.3s\n",
      "[CV] bootstrap=False, max_features=14, n_estimators=95 ...............\n",
      "[CV]  bootstrap=False, max_features=14, n_estimators=95, score=-2612943284.060, total=  15.4s\n",
      "[CV] bootstrap=False, max_features=14, n_estimators=95 ...............\n",
      "[CV]  bootstrap=False, max_features=14, n_estimators=95, score=-2939668317.548, total=  15.4s\n",
      "[CV] bootstrap=False, max_features=3, n_estimators=63 ................\n",
      "[CV]  bootstrap=False, max_features=3, n_estimators=63, score=-2422500689.609, total=   2.9s\n",
      "[CV] bootstrap=False, max_features=3, n_estimators=63 ................\n",
      "[CV]  bootstrap=False, max_features=3, n_estimators=63, score=-2685959150.341, total=   2.9s\n",
      "[CV] bootstrap=False, max_features=3, n_estimators=63 ................\n",
      "[CV]  bootstrap=False, max_features=3, n_estimators=63, score=-2749769871.348, total=   2.9s\n",
      "[CV] bootstrap=False, max_features=3, n_estimators=63 ................\n",
      "[CV]  bootstrap=False, max_features=3, n_estimators=63, score=-2440812800.074, total=   2.9s\n",
      "[CV] bootstrap=False, max_features=3, n_estimators=63 ................\n",
      "[CV]  bootstrap=False, max_features=3, n_estimators=63, score=-2719608952.816, total=   2.9s\n",
      "[CV] bootstrap=False, max_features=3, n_estimators=92 ................\n",
      "[CV]  bootstrap=False, max_features=3, n_estimators=92, score=-2415700311.278, total=   4.2s\n",
      "[CV] bootstrap=False, max_features=3, n_estimators=92 ................\n",
      "[CV]  bootstrap=False, max_features=3, n_estimators=92, score=-2673744392.345, total=   4.2s\n",
      "[CV] bootstrap=False, max_features=3, n_estimators=92 ................\n",
      "[CV]  bootstrap=False, max_features=3, n_estimators=92, score=-2709712220.463, total=   4.2s\n",
      "[CV] bootstrap=False, max_features=3, n_estimators=92 ................\n",
      "[CV]  bootstrap=False, max_features=3, n_estimators=92, score=-2426123616.136, total=   4.2s\n",
      "[CV] bootstrap=False, max_features=3, n_estimators=92 ................\n",
      "[CV]  bootstrap=False, max_features=3, n_estimators=92, score=-2700962490.143, total=   4.2s\n",
      "[CV] bootstrap=False, max_features=9, n_estimators=130 ...............\n",
      "[CV]  bootstrap=False, max_features=9, n_estimators=130, score=-2401485630.327, total=  14.9s\n",
      "[CV] bootstrap=False, max_features=9, n_estimators=130 ...............\n",
      "[CV]  bootstrap=False, max_features=9, n_estimators=130, score=-2586577761.353, total=  14.0s\n",
      "[CV] bootstrap=False, max_features=9, n_estimators=130 ...............\n",
      "[CV]  bootstrap=False, max_features=9, n_estimators=130, score=-2666346131.323, total=  13.9s\n",
      "[CV] bootstrap=False, max_features=9, n_estimators=130 ...............\n",
      "[CV]  bootstrap=False, max_features=9, n_estimators=130, score=-2389210556.801, total=  13.9s\n",
      "[CV] bootstrap=False, max_features=9, n_estimators=130 ...............\n",
      "[CV]  bootstrap=False, max_features=9, n_estimators=130, score=-2654369518.535, total=  14.6s\n",
      "[CV] bootstrap=False, max_features=11, n_estimators=119 ..............\n",
      "[CV]  bootstrap=False, max_features=11, n_estimators=119, score=-2468278248.439, total=  15.9s\n",
      "[CV] bootstrap=False, max_features=11, n_estimators=119 ..............\n",
      "[CV]  bootstrap=False, max_features=11, n_estimators=119, score=-2676139948.622, total=  15.7s\n",
      "[CV] bootstrap=False, max_features=11, n_estimators=119 ..............\n",
      "[CV]  bootstrap=False, max_features=11, n_estimators=119, score=-2731647799.667, total=  15.4s\n",
      "[CV] bootstrap=False, max_features=11, n_estimators=119 ..............\n",
      "[CV]  bootstrap=False, max_features=11, n_estimators=119, score=-2440255230.930, total=  15.9s\n",
      "[CV] bootstrap=False, max_features=11, n_estimators=119 ..............\n",
      "[CV]  bootstrap=False, max_features=11, n_estimators=119, score=-2741215682.165, total=  15.6s\n",
      "[CV] bootstrap=False, max_features=11, n_estimators=95 ...............\n",
      "[CV]  bootstrap=False, max_features=11, n_estimators=95, score=-2475238398.651, total=  12.4s\n",
      "[CV] bootstrap=False, max_features=11, n_estimators=95 ...............\n",
      "[CV]  bootstrap=False, max_features=11, n_estimators=95, score=-2672167243.380, total=  13.0s\n",
      "[CV] bootstrap=False, max_features=11, n_estimators=95 ...............\n",
      "[CV]  bootstrap=False, max_features=11, n_estimators=95, score=-2740838270.664, total=  12.7s\n",
      "[CV] bootstrap=False, max_features=11, n_estimators=95 ...............\n",
      "[CV]  bootstrap=False, max_features=11, n_estimators=95, score=-2448449260.439, total=  12.9s\n",
      "[CV] bootstrap=False, max_features=11, n_estimators=95 ...............\n",
      "[CV]  bootstrap=False, max_features=11, n_estimators=95, score=-2737113401.737, total=  12.5s\n",
      "[CV] bootstrap=False, max_features=14, n_estimators=160 ..............\n"
     ]
    },
    {
     "name": "stdout",
     "output_type": "stream",
     "text": [
      "[CV]  bootstrap=False, max_features=14, n_estimators=160, score=-2689636023.612, total=  26.4s\n",
      "[CV] bootstrap=False, max_features=14, n_estimators=160 ..............\n",
      "[CV]  bootstrap=False, max_features=14, n_estimators=160, score=-2861467790.955, total=  27.8s\n",
      "[CV] bootstrap=False, max_features=14, n_estimators=160 ..............\n",
      "[CV]  bootstrap=False, max_features=14, n_estimators=160, score=-2966282138.153, total=  27.5s\n",
      "[CV] bootstrap=False, max_features=14, n_estimators=160 ..............\n",
      "[CV]  bootstrap=False, max_features=14, n_estimators=160, score=-2600743074.393, total=  26.6s\n",
      "[CV] bootstrap=False, max_features=14, n_estimators=160 ..............\n",
      "[CV]  bootstrap=False, max_features=14, n_estimators=160, score=-2922525090.678, total=  27.4s\n",
      "[CV] bootstrap=False, max_features=9, n_estimators=147 ...............\n",
      "[CV]  bootstrap=False, max_features=9, n_estimators=147, score=-2405755807.285, total=  18.5s\n",
      "[CV] bootstrap=False, max_features=9, n_estimators=147 ...............\n",
      "[CV]  bootstrap=False, max_features=9, n_estimators=147, score=-2583724488.367, total=  17.5s\n",
      "[CV] bootstrap=False, max_features=9, n_estimators=147 ...............\n",
      "[CV]  bootstrap=False, max_features=9, n_estimators=147, score=-2669688914.358, total=  16.2s\n",
      "[CV] bootstrap=False, max_features=9, n_estimators=147 ...............\n",
      "[CV]  bootstrap=False, max_features=9, n_estimators=147, score=-2390101649.061, total=  16.2s\n",
      "[CV] bootstrap=False, max_features=9, n_estimators=147 ...............\n",
      "[CV]  bootstrap=False, max_features=9, n_estimators=147, score=-2652662800.647, total=  16.3s\n",
      "[CV] bootstrap=False, max_features=10, n_estimators=170 ..............\n",
      "[CV]  bootstrap=False, max_features=10, n_estimators=170, score=-2438014111.732, total=  20.8s\n",
      "[CV] bootstrap=False, max_features=10, n_estimators=170 ..............\n",
      "[CV]  bootstrap=False, max_features=10, n_estimators=170, score=-2617176860.853, total=  20.8s\n",
      "[CV] bootstrap=False, max_features=10, n_estimators=170 ..............\n",
      "[CV]  bootstrap=False, max_features=10, n_estimators=170, score=-2670861665.758, total=  21.5s\n",
      "[CV] bootstrap=False, max_features=10, n_estimators=170 ..............\n",
      "[CV]  bootstrap=False, max_features=10, n_estimators=170, score=-2420108349.896, total=  21.2s\n",
      "[CV] bootstrap=False, max_features=10, n_estimators=170 ..............\n",
      "[CV]  bootstrap=False, max_features=10, n_estimators=170, score=-2668262621.639, total=  20.5s\n",
      "[CV] bootstrap=False, max_features=7, n_estimators=223 ...............\n",
      "[CV]  bootstrap=False, max_features=7, n_estimators=223, score=-2358576678.346, total=  19.8s\n",
      "[CV] bootstrap=False, max_features=7, n_estimators=223 ...............\n",
      "[CV]  bootstrap=False, max_features=7, n_estimators=223, score=-2546481531.317, total=  20.3s\n",
      "[CV] bootstrap=False, max_features=7, n_estimators=223 ...............\n",
      "[CV]  bootstrap=False, max_features=7, n_estimators=223, score=-2631656910.827, total=  21.0s\n",
      "[CV] bootstrap=False, max_features=7, n_estimators=223 ...............\n",
      "[CV]  bootstrap=False, max_features=7, n_estimators=223, score=-2336319918.409, total=  21.0s\n",
      "[CV] bootstrap=False, max_features=7, n_estimators=223 ...............\n",
      "[CV]  bootstrap=False, max_features=7, n_estimators=223, score=-2581672879.860, total=  20.6s\n",
      "[CV] bootstrap=False, max_features=8, n_estimators=14 ................\n",
      "[CV]  bootstrap=False, max_features=8, n_estimators=14, score=-2630033517.140, total=   1.5s\n",
      "[CV] bootstrap=False, max_features=8, n_estimators=14 ................\n",
      "[CV]  bootstrap=False, max_features=8, n_estimators=14, score=-2749271757.137, total=   1.6s\n",
      "[CV] bootstrap=False, max_features=8, n_estimators=14 ................\n",
      "[CV]  bootstrap=False, max_features=8, n_estimators=14, score=-2825903399.904, total=   1.5s\n",
      "[CV] bootstrap=False, max_features=8, n_estimators=14 ................\n",
      "[CV]  bootstrap=False, max_features=8, n_estimators=14, score=-2490684833.326, total=   1.5s\n",
      "[CV] bootstrap=False, max_features=8, n_estimators=14 ................\n",
      "[CV]  bootstrap=False, max_features=8, n_estimators=14, score=-2778280588.522, total=   1.5s\n",
      "[CV] bootstrap=False, max_features=14, n_estimators=219 ..............\n",
      "[CV]  bootstrap=False, max_features=14, n_estimators=219, score=-2690980462.579, total=  37.6s\n",
      "[CV] bootstrap=False, max_features=14, n_estimators=219 ..............\n",
      "[CV]  bootstrap=False, max_features=14, n_estimators=219, score=-2854718303.849, total=  37.4s\n",
      "[CV] bootstrap=False, max_features=14, n_estimators=219 ..............\n",
      "[CV]  bootstrap=False, max_features=14, n_estimators=219, score=-2948798083.994, total=  36.0s\n",
      "[CV] bootstrap=False, max_features=14, n_estimators=219 ..............\n",
      "[CV]  bootstrap=False, max_features=14, n_estimators=219, score=-2586789433.059, total=  36.2s\n",
      "[CV] bootstrap=False, max_features=14, n_estimators=219 ..............\n",
      "[CV]  bootstrap=False, max_features=14, n_estimators=219, score=-2904603323.839, total=  36.0s\n",
      "[CV] bootstrap=False, max_features=11, n_estimators=74 ...............\n",
      "[CV]  bootstrap=False, max_features=11, n_estimators=74, score=-2488003660.054, total=   9.7s\n",
      "[CV] bootstrap=False, max_features=11, n_estimators=74 ...............\n",
      "[CV]  bootstrap=False, max_features=11, n_estimators=74, score=-2663400738.235, total=   9.9s\n",
      "[CV] bootstrap=False, max_features=11, n_estimators=74 ...............\n",
      "[CV]  bootstrap=False, max_features=11, n_estimators=74, score=-2751906402.205, total=   9.7s\n",
      "[CV] bootstrap=False, max_features=11, n_estimators=74 ...............\n",
      "[CV]  bootstrap=False, max_features=11, n_estimators=74, score=-2451040311.894, total=   9.7s\n",
      "[CV] bootstrap=False, max_features=11, n_estimators=74 ...............\n",
      "[CV]  bootstrap=False, max_features=11, n_estimators=74, score=-2743017982.546, total=   9.7s\n",
      "[CV] bootstrap=False, max_features=7, n_estimators=76 ................\n",
      "[CV]  bootstrap=False, max_features=7, n_estimators=76, score=-2379685757.269, total=   6.9s\n",
      "[CV] bootstrap=False, max_features=7, n_estimators=76 ................\n",
      "[CV]  bootstrap=False, max_features=7, n_estimators=76, score=-2577316580.111, total=   6.7s\n",
      "[CV] bootstrap=False, max_features=7, n_estimators=76 ................\n",
      "[CV]  bootstrap=False, max_features=7, n_estimators=76, score=-2668798660.515, total=   6.7s\n",
      "[CV] bootstrap=False, max_features=7, n_estimators=76 ................\n",
      "[CV]  bootstrap=False, max_features=7, n_estimators=76, score=-2354438504.794, total=   6.7s\n",
      "[CV] bootstrap=False, max_features=7, n_estimators=76 ................\n",
      "[CV]  bootstrap=False, max_features=7, n_estimators=76, score=-2620810260.705, total=   6.7s\n",
      "[CV] bootstrap=False, max_features=14, n_estimators=81 ...............\n",
      "[CV]  bootstrap=False, max_features=14, n_estimators=81, score=-2746870444.064, total=  13.3s\n",
      "[CV] bootstrap=False, max_features=14, n_estimators=81 ...............\n",
      "[CV]  bootstrap=False, max_features=14, n_estimators=81, score=-2888701630.604, total=  13.2s\n",
      "[CV] bootstrap=False, max_features=14, n_estimators=81 ...............\n",
      "[CV]  bootstrap=False, max_features=14, n_estimators=81, score=-2986306131.341, total=  13.3s\n",
      "[CV] bootstrap=False, max_features=14, n_estimators=81 ...............\n",
      "[CV]  bootstrap=False, max_features=14, n_estimators=81, score=-2631410707.899, total=  13.2s\n",
      "[CV] bootstrap=False, max_features=14, n_estimators=81 ...............\n",
      "[CV]  bootstrap=False, max_features=14, n_estimators=81, score=-2954863824.916, total=  13.8s\n",
      "[CV] bootstrap=False, max_features=10, n_estimators=69 ...............\n",
      "[CV]  bootstrap=False, max_features=10, n_estimators=69, score=-2469837010.810, total=   8.3s\n",
      "[CV] bootstrap=False, max_features=10, n_estimators=69 ...............\n",
      "[CV]  bootstrap=False, max_features=10, n_estimators=69, score=-2639602037.084, total=   8.6s\n",
      "[CV] bootstrap=False, max_features=10, n_estimators=69 ...............\n",
      "[CV]  bootstrap=False, max_features=10, n_estimators=69, score=-2693046561.841, total=   8.3s\n",
      "[CV] bootstrap=False, max_features=10, n_estimators=69 ...............\n",
      "[CV]  bootstrap=False, max_features=10, n_estimators=69, score=-2432734413.705, total=   8.4s\n",
      "[CV] bootstrap=False, max_features=10, n_estimators=69 ...............\n",
      "[CV]  bootstrap=False, max_features=10, n_estimators=69, score=-2689972527.958, total=   8.3s\n",
      "[CV] bootstrap=False, max_features=9, n_estimators=26 ................\n"
     ]
    },
    {
     "name": "stdout",
     "output_type": "stream",
     "text": [
      "[CV]  bootstrap=False, max_features=9, n_estimators=26, score=-2444983016.880, total=   3.0s\n",
      "[CV] bootstrap=False, max_features=9, n_estimators=26 ................\n",
      "[CV]  bootstrap=False, max_features=9, n_estimators=26, score=-2634885829.467, total=   2.9s\n",
      "[CV] bootstrap=False, max_features=9, n_estimators=26 ................\n",
      "[CV]  bootstrap=False, max_features=9, n_estimators=26, score=-2714473861.854, total=   2.8s\n",
      "[CV] bootstrap=False, max_features=9, n_estimators=26 ................\n",
      "[CV]  bootstrap=False, max_features=9, n_estimators=26, score=-2475407200.084, total=   3.0s\n",
      "[CV] bootstrap=False, max_features=9, n_estimators=26 ................\n",
      "[CV]  bootstrap=False, max_features=9, n_estimators=26, score=-2686063408.556, total=   3.2s\n",
      "[CV] bootstrap=False, max_features=7, n_estimators=184 ...............\n",
      "[CV]  bootstrap=False, max_features=7, n_estimators=184, score=-2357806850.308, total=  17.6s\n",
      "[CV] bootstrap=False, max_features=7, n_estimators=184 ...............\n",
      "[CV]  bootstrap=False, max_features=7, n_estimators=184, score=-2547292726.693, total=  16.5s\n",
      "[CV] bootstrap=False, max_features=7, n_estimators=184 ...............\n",
      "[CV]  bootstrap=False, max_features=7, n_estimators=184, score=-2629411633.464, total=  17.6s\n",
      "[CV] bootstrap=False, max_features=7, n_estimators=184 ...............\n",
      "[CV]  bootstrap=False, max_features=7, n_estimators=184, score=-2340714769.223, total=  16.9s\n",
      "[CV] bootstrap=False, max_features=7, n_estimators=184 ...............\n",
      "[CV]  bootstrap=False, max_features=7, n_estimators=184, score=-2591207481.543, total=  16.4s\n",
      "[CV] bootstrap=False, max_features=10, n_estimators=82 ...............\n",
      "[CV]  bootstrap=False, max_features=10, n_estimators=82, score=-2466577463.807, total=   9.9s\n",
      "[CV] bootstrap=False, max_features=10, n_estimators=82 ...............\n",
      "[CV]  bootstrap=False, max_features=10, n_estimators=82, score=-2646734306.597, total=   9.9s\n",
      "[CV] bootstrap=False, max_features=10, n_estimators=82 ...............\n",
      "[CV]  bootstrap=False, max_features=10, n_estimators=82, score=-2679302810.777, total=   9.8s\n",
      "[CV] bootstrap=False, max_features=10, n_estimators=82 ...............\n",
      "[CV]  bootstrap=False, max_features=10, n_estimators=82, score=-2432958031.169, total=   9.9s\n",
      "[CV] bootstrap=False, max_features=10, n_estimators=82 ...............\n",
      "[CV]  bootstrap=False, max_features=10, n_estimators=82, score=-2676723591.024, total=   9.9s\n",
      "[CV] bootstrap=False, max_features=9, n_estimators=218 ...............\n",
      "[CV]  bootstrap=False, max_features=9, n_estimators=218, score=-2401484778.070, total=  24.0s\n",
      "[CV] bootstrap=False, max_features=9, n_estimators=218 ...............\n",
      "[CV]  bootstrap=False, max_features=9, n_estimators=218, score=-2585265216.457, total=  24.0s\n",
      "[CV] bootstrap=False, max_features=9, n_estimators=218 ...............\n",
      "[CV]  bootstrap=False, max_features=9, n_estimators=218, score=-2662324738.804, total=  23.8s\n",
      "[CV] bootstrap=False, max_features=9, n_estimators=218 ...............\n",
      "[CV]  bootstrap=False, max_features=9, n_estimators=218, score=-2377969670.373, total=  23.4s\n",
      "[CV] bootstrap=False, max_features=9, n_estimators=218 ...............\n",
      "[CV]  bootstrap=False, max_features=9, n_estimators=218, score=-2652651650.139, total=  23.6s\n",
      "[CV] bootstrap=False, max_features=3, n_estimators=121 ...............\n",
      "[CV]  bootstrap=False, max_features=3, n_estimators=121, score=-2412435534.601, total=   5.6s\n",
      "[CV] bootstrap=False, max_features=3, n_estimators=121 ...............\n",
      "[CV]  bootstrap=False, max_features=3, n_estimators=121, score=-2664548884.888, total=   5.5s\n",
      "[CV] bootstrap=False, max_features=3, n_estimators=121 ...............\n",
      "[CV]  bootstrap=False, max_features=3, n_estimators=121, score=-2700868533.474, total=   5.4s\n",
      "[CV] bootstrap=False, max_features=3, n_estimators=121 ...............\n",
      "[CV]  bootstrap=False, max_features=3, n_estimators=121, score=-2397965498.240, total=   5.5s\n",
      "[CV] bootstrap=False, max_features=3, n_estimators=121 ...............\n",
      "[CV]  bootstrap=False, max_features=3, n_estimators=121, score=-2680483923.890, total=   5.5s\n",
      "[CV] bootstrap=False, max_features=9, n_estimators=222 ...............\n",
      "[CV]  bootstrap=False, max_features=9, n_estimators=222, score=-2400660434.557, total=  23.9s\n",
      "[CV] bootstrap=False, max_features=9, n_estimators=222 ...............\n",
      "[CV]  bootstrap=False, max_features=9, n_estimators=222, score=-2584053484.010, total=  23.8s\n",
      "[CV] bootstrap=False, max_features=9, n_estimators=222 ...............\n",
      "[CV]  bootstrap=False, max_features=9, n_estimators=222, score=-2661995068.780, total=  23.9s\n",
      "[CV] bootstrap=False, max_features=9, n_estimators=222 ...............\n",
      "[CV]  bootstrap=False, max_features=9, n_estimators=222, score=-2377084416.517, total=  23.9s\n",
      "[CV] bootstrap=False, max_features=9, n_estimators=222 ...............\n",
      "[CV]  bootstrap=False, max_features=9, n_estimators=222, score=-2651898983.878, total=  24.2s\n",
      "[CV] bootstrap=False, max_features=6, n_estimators=63 ................\n",
      "[CV]  bootstrap=False, max_features=6, n_estimators=63, score=-2381596349.054, total=   4.7s\n",
      "[CV] bootstrap=False, max_features=6, n_estimators=63 ................\n",
      "[CV]  bootstrap=False, max_features=6, n_estimators=63, score=-2591118157.521, total=   4.8s\n",
      "[CV] bootstrap=False, max_features=6, n_estimators=63 ................\n",
      "[CV]  bootstrap=False, max_features=6, n_estimators=63, score=-2700080617.606, total=   4.8s\n",
      "[CV] bootstrap=False, max_features=6, n_estimators=63 ................\n",
      "[CV]  bootstrap=False, max_features=6, n_estimators=63, score=-2376588138.468, total=   4.8s\n",
      "[CV] bootstrap=False, max_features=6, n_estimators=63 ................\n",
      "[CV]  bootstrap=False, max_features=6, n_estimators=63, score=-2633354965.288, total=   4.8s\n",
      "[CV] bootstrap=False, max_features=11, n_estimators=47 ...............\n",
      "[CV]  bootstrap=False, max_features=11, n_estimators=47, score=-2476590526.465, total=   6.0s\n",
      "[CV] bootstrap=False, max_features=11, n_estimators=47 ...............\n",
      "[CV]  bootstrap=False, max_features=11, n_estimators=47, score=-2689960676.698, total=   6.1s\n",
      "[CV] bootstrap=False, max_features=11, n_estimators=47 ...............\n",
      "[CV]  bootstrap=False, max_features=11, n_estimators=47, score=-2755821416.266, total=   6.0s\n",
      "[CV] bootstrap=False, max_features=11, n_estimators=47 ...............\n",
      "[CV]  bootstrap=False, max_features=11, n_estimators=47, score=-2480147082.154, total=   6.0s\n",
      "[CV] bootstrap=False, max_features=11, n_estimators=47 ...............\n",
      "[CV]  bootstrap=False, max_features=11, n_estimators=47, score=-2746559854.549, total=   6.0s\n",
      "[CV] bootstrap=False, max_features=7, n_estimators=29 ................\n",
      "[CV]  bootstrap=False, max_features=7, n_estimators=29, score=-2413854359.104, total=   2.5s\n",
      "[CV] bootstrap=False, max_features=7, n_estimators=29 ................\n",
      "[CV]  bootstrap=False, max_features=7, n_estimators=29, score=-2611234236.835, total=   2.5s\n",
      "[CV] bootstrap=False, max_features=7, n_estimators=29 ................\n",
      "[CV]  bootstrap=False, max_features=7, n_estimators=29, score=-2695401463.492, total=   2.5s\n",
      "[CV] bootstrap=False, max_features=7, n_estimators=29 ................\n",
      "[CV]  bootstrap=False, max_features=7, n_estimators=29, score=-2410452348.566, total=   2.6s\n",
      "[CV] bootstrap=False, max_features=7, n_estimators=29 ................\n",
      "[CV]  bootstrap=False, max_features=7, n_estimators=29, score=-2631377730.758, total=   2.5s\n"
     ]
    },
    {
     "name": "stderr",
     "output_type": "stream",
     "text": [
      "[Parallel(n_jobs=1)]: Done 250 out of 250 | elapsed: 62.1min finished\n"
     ]
    },
    {
     "data": {
      "text/plain": [
       "RandomizedSearchCV(cv=5, error_score=nan,\n",
       "                   estimator=RandomForestRegressor(bootstrap=True,\n",
       "                                                   ccp_alpha=0.0,\n",
       "                                                   criterion='mse',\n",
       "                                                   max_depth=None,\n",
       "                                                   max_features='auto',\n",
       "                                                   max_leaf_nodes=None,\n",
       "                                                   max_samples=None,\n",
       "                                                   min_impurity_decrease=0.0,\n",
       "                                                   min_impurity_split=None,\n",
       "                                                   min_samples_leaf=1,\n",
       "                                                   min_samples_split=2,\n",
       "                                                   min_weight_fraction_leaf=0.0,\n",
       "                                                   n_estimators=100,\n",
       "                                                   n_jobs=None, oob_score=Fals...\n",
       "                   iid='deprecated', n_iter=50, n_jobs=None,\n",
       "                   param_distributions={'bootstrap': [False],\n",
       "                                        'max_features': <scipy.stats._distn_infrastructure.rv_frozen object at 0x000001E500062808>,\n",
       "                                        'n_estimators': <scipy.stats._distn_infrastructure.rv_frozen object at 0x000001E500062F48>},\n",
       "                   pre_dispatch='2*n_jobs', random_state=None, refit=True,\n",
       "                   return_train_score=False, scoring='neg_mean_squared_error',\n",
       "                   verbose=6)"
      ]
     },
     "execution_count": 63,
     "metadata": {},
     "output_type": "execute_result"
    }
   ],
   "source": [
    "#Случайный поиск\n",
    "\n",
    "from sklearn.model_selection import RandomizedSearchCV\n",
    "from scipy.stats import randint\n",
    "\n",
    "params = {\n",
    "    'n_estimators' : randint(low=10, high=250),\n",
    "    'max_features' : randint(low=3, high=15),\n",
    "    'bootstrap' : [False],\n",
    "}\n",
    "\n",
    "forest_reg = RandomForestRegressor(random_state = 42)\n",
    "rnd_search = RandomizedSearchCV(forest_reg, params, n_iter = 50, scoring='neg_mean_squared_error', cv=5, verbose = 6)\n",
    "rnd_search.fit(housing_prepared, housing_labels)"
   ]
  },
  {
   "cell_type": "code",
   "execution_count": 64,
   "metadata": {
    "colab": {
     "base_uri": "https://localhost:8080/",
     "height": 35
    },
    "colab_type": "code",
    "id": "HlXazG2QJJqD",
    "outputId": "72cd1639-ce52-41fb-cb4b-d2aa54605feb"
   },
   "outputs": [
    {
     "data": {
      "text/plain": [
       "{'bootstrap': False, 'max_features': 7, 'n_estimators': 223}"
      ]
     },
     "execution_count": 64,
     "metadata": {},
     "output_type": "execute_result"
    }
   ],
   "source": [
    "rnd_search.best_params_"
   ]
  },
  {
   "cell_type": "code",
   "execution_count": 65,
   "metadata": {
    "colab": {
     "base_uri": "https://localhost:8080/",
     "height": 139
    },
    "colab_type": "code",
    "id": "ZK0L3kbgJJqH",
    "outputId": "3a388913-2c94-4be6-9709-5cd73e2b435d"
   },
   "outputs": [
    {
     "data": {
      "text/plain": [
       "RandomForestRegressor(bootstrap=False, ccp_alpha=0.0, criterion='mse',\n",
       "                      max_depth=None, max_features=7, max_leaf_nodes=None,\n",
       "                      max_samples=None, min_impurity_decrease=0.0,\n",
       "                      min_impurity_split=None, min_samples_leaf=1,\n",
       "                      min_samples_split=2, min_weight_fraction_leaf=0.0,\n",
       "                      n_estimators=223, n_jobs=None, oob_score=False,\n",
       "                      random_state=42, verbose=0, warm_start=False)"
      ]
     },
     "execution_count": 65,
     "metadata": {},
     "output_type": "execute_result"
    }
   ],
   "source": [
    "rnd_search.best_estimator_"
   ]
  },
  {
   "cell_type": "code",
   "execution_count": 66,
   "metadata": {
    "colab": {
     "base_uri": "https://localhost:8080/",
     "height": 364
    },
    "colab_type": "code",
    "collapsed": true,
    "id": "dgL1dvbrJJqN",
    "outputId": "f9b505ac-ae96-4e8f-862e-c2de3693577e"
   },
   "outputs": [
    {
     "name": "stdout",
     "output_type": "stream",
     "text": [
      "50322.05294938201 {'bootstrap': False, 'max_features': 8, 'n_estimators': 98}\n",
      "51325.57503319669 {'bootstrap': False, 'max_features': 12, 'n_estimators': 245}\n",
      "50802.55080463919 {'bootstrap': False, 'max_features': 4, 'n_estimators': 43}\n",
      "50028.1059843078 {'bootstrap': False, 'max_features': 6, 'n_estimators': 222}\n",
      "50542.99486938916 {'bootstrap': False, 'max_features': 3, 'n_estimators': 228}\n",
      "52982.46892498703 {'bootstrap': False, 'max_features': 14, 'n_estimators': 153}\n",
      "51133.72537603649 {'bootstrap': False, 'max_features': 10, 'n_estimators': 38}\n",
      "50152.717641009076 {'bootstrap': False, 'max_features': 6, 'n_estimators': 128}\n",
      "50562.00928033351 {'bootstrap': False, 'max_features': 10, 'n_estimators': 198}\n",
      "50015.131376610014 {'bootstrap': False, 'max_features': 7, 'n_estimators': 154}\n",
      "50215.503840463316 {'bootstrap': False, 'max_features': 5, 'n_estimators': 83}\n",
      "50570.729233245765 {'bootstrap': False, 'max_features': 3, 'n_estimators': 219}\n",
      "52985.61915441399 {'bootstrap': False, 'max_features': 14, 'n_estimators': 150}\n",
      "50553.55621982027 {'bootstrap': False, 'max_features': 10, 'n_estimators': 247}\n",
      "51180.10148196541 {'bootstrap': False, 'max_features': 11, 'n_estimators': 77}\n",
      "50212.91773010026 {'bootstrap': False, 'max_features': 5, 'n_estimators': 90}\n",
      "50069.05473925332 {'bootstrap': False, 'max_features': 5, 'n_estimators': 153}\n",
      "50597.27003739737 {'bootstrap': False, 'max_features': 3, 'n_estimators': 181}\n",
      "50024.08835266676 {'bootstrap': False, 'max_features': 5, 'n_estimators': 200}\n",
      "50043.83958441832 {'bootstrap': False, 'max_features': 6, 'n_estimators': 212}\n",
      "50624.56089968345 {'bootstrap': False, 'max_features': 10, 'n_estimators': 155}\n",
      "50726.816643882885 {'bootstrap': False, 'max_features': 10, 'n_estimators': 123}\n",
      "50987.27915302214 {'bootstrap': False, 'max_features': 11, 'n_estimators': 209}\n",
      "52981.19088967754 {'bootstrap': False, 'max_features': 14, 'n_estimators': 152}\n",
      "51318.195007152666 {'bootstrap': False, 'max_features': 12, 'n_estimators': 229}\n",
      "53211.04578686788 {'bootstrap': False, 'max_features': 14, 'n_estimators': 95}\n",
      "51026.76055598077 {'bootstrap': False, 'max_features': 3, 'n_estimators': 63}\n",
      "50845.34006251662 {'bootstrap': False, 'max_features': 3, 'n_estimators': 92}\n",
      "50394.423497723146 {'bootstrap': False, 'max_features': 9, 'n_estimators': 130}\n",
      "51102.90972111706 {'bootstrap': False, 'max_features': 11, 'n_estimators': 119}\n",
      "51134.73687205561 {'bootstrap': False, 'max_features': 11, 'n_estimators': 95}\n",
      "52991.79958784286 {'bootstrap': False, 'max_features': 14, 'n_estimators': 160}\n",
      "50402.24927464675 {'bootstrap': False, 'max_features': 9, 'n_estimators': 147}\n",
      "50624.94169849056 {'bootstrap': False, 'max_features': 10, 'n_estimators': 170}\n",
      "49909.33363361811 {'bootstrap': False, 'max_features': 7, 'n_estimators': 223}\n",
      "51911.79845859616 {'bootstrap': False, 'max_features': 8, 'n_estimators': 14}\n",
      "52888.3533631368 {'bootstrap': False, 'max_features': 14, 'n_estimators': 219}\n",
      "51180.795411821135 {'bootstrap': False, 'max_features': 11, 'n_estimators': 74}\n",
      "50201.6927272268 {'bootstrap': False, 'max_features': 7, 'n_estimators': 76}\n",
      "53306.94652449048 {'bootstrap': False, 'max_features': 14, 'n_estimators': 81}\n",
      "50843.273992532 {'bootstrap': False, 'max_features': 10, 'n_estimators': 69}\n",
      "50903.46415881932 {'bootstrap': False, 'max_features': 9, 'n_estimators': 26}\n",
      "49932.821793349445 {'bootstrap': False, 'max_features': 7, 'n_estimators': 184}\n",
      "50798.220841628674 {'bootstrap': False, 'max_features': 10, 'n_estimators': 82}\n",
      "50358.10968224168 {'bootstrap': False, 'max_features': 9, 'n_estimators': 218}\n",
      "50707.59780366657 {'bootstrap': False, 'max_features': 3, 'n_estimators': 121}\n",
      "50350.15866458194 {'bootstrap': False, 'max_features': 9, 'n_estimators': 222}\n",
      "50364.15040072982 {'bootstrap': False, 'max_features': 6, 'n_estimators': 63}\n",
      "51281.73077448131 {'bootstrap': False, 'max_features': 11, 'n_estimators': 47}\n",
      "50521.91631115213 {'bootstrap': False, 'max_features': 7, 'n_estimators': 29}\n"
     ]
    }
   ],
   "source": [
    "cvres = rnd_search.cv_results_\n",
    "for mean_score, params in zip(cvres['mean_test_score'], cvres['params']):\n",
    "    print(np.sqrt(-mean_score), params)"
   ]
  },
  {
   "cell_type": "code",
   "execution_count": 67,
   "metadata": {},
   "outputs": [
    {
     "data": {
      "text/plain": [
       "['my_model.pkl']"
      ]
     },
     "execution_count": 67,
     "metadata": {},
     "output_type": "execute_result"
    }
   ],
   "source": [
    "#сохранение самой перспективной модели\n",
    "\n",
    "from sklearn.externals import joblib\n",
    "\n",
    "my_model = rnd_search.best_estimator_\n",
    "joblib.dump(my_model,'my_model.pkl')"
   ]
  },
  {
   "cell_type": "markdown",
   "metadata": {
    "colab_type": "text",
    "id": "E87s2woaJJqS"
   },
   "source": [
    "### Анализ лучших моделей"
   ]
  },
  {
   "cell_type": "code",
   "execution_count": 68,
   "metadata": {
    "colab": {
     "base_uri": "https://localhost:8080/",
     "height": 104
    },
    "colab_type": "code",
    "id": "LX-8j2C2JJqS",
    "outputId": "bf8c403f-5eed-4194-8226-e885763efe1b"
   },
   "outputs": [
    {
     "data": {
      "text/plain": [
       "array([6.49110186e-02, 5.88847717e-02, 2.42431926e-02, 1.58878841e-02,\n",
       "       1.48632948e-02, 1.46118749e-02, 1.50290878e-02, 2.37310372e-01,\n",
       "       1.58698823e-02, 3.53810842e-02, 1.03414623e-01, 2.09917669e-01,\n",
       "       5.06589974e-02, 9.39375737e-03, 1.22292525e-01, 9.71352227e-05,\n",
       "       2.77877494e-03, 4.45405500e-03])"
      ]
     },
     "execution_count": 68,
     "metadata": {},
     "output_type": "execute_result"
    }
   ],
   "source": [
    "feature_importances = grid_search.best_estimator_.feature_importances_\n",
    "feature_importances"
   ]
  },
  {
   "cell_type": "code",
   "execution_count": 69,
   "metadata": {
    "colab": {
     "base_uri": "https://localhost:8080/",
     "height": 35
    },
    "colab_type": "code",
    "id": "Tf1S2sWRJJqW",
    "outputId": "30027c11-bf34-4a1f-c8fb-2e5fcac3c01b"
   },
   "outputs": [
    {
     "data": {
      "text/plain": [
       "['<1H OCEAN', 'NEAR OCEAN', 'INLAND', 'NEAR BAY', 'ISLAND']"
      ]
     },
     "execution_count": 69,
     "metadata": {},
     "output_type": "execute_result"
    }
   ],
   "source": [
    "housing_cat = housing['ocean_proximity']\n",
    "housing_cat_encoded, housing_categories = housing_cat.factorize()\n",
    "cat_one_hot_attribs = housing_categories.values.tolist()\n",
    "cat_one_hot_attribs"
   ]
  },
  {
   "cell_type": "code",
   "execution_count": 70,
   "metadata": {
    "colab": {
     "base_uri": "https://localhost:8080/",
     "height": 329
    },
    "colab_type": "code",
    "collapsed": true,
    "id": "OmZegaZxJJqa",
    "outputId": "d20762cb-7bee-46fd-a2c8-1cc2f0bf510a"
   },
   "outputs": [
    {
     "data": {
      "text/plain": [
       "[(0.23731037156932056, 'median_income'),\n",
       " (0.20991766919450103, 'median_income_per_population'),\n",
       " (0.12229252545300012, 'NEAR OCEAN'),\n",
       " (0.10341462272779604, 'bedrooms_per_room'),\n",
       " (0.06491101860102341, 'longitude'),\n",
       " (0.0588847717065815, 'latitude'),\n",
       " (0.050658997364554245, 'age'),\n",
       " (0.03538108424393023, 'pop_per_hhold'),\n",
       " (0.024243192611710138, 'housing_median_age'),\n",
       " (0.015887884078424012, 'total_rooms'),\n",
       " (0.015869882320711015, 'rooms_per_hhold'),\n",
       " (0.015029087832030533, 'households'),\n",
       " (0.014863294816662416, 'total_bedrooms'),\n",
       " (0.014611874941166472, 'population'),\n",
       " (0.009393757373730329, '<1H OCEAN'),\n",
       " (0.004454055000851584, 'ISLAND'),\n",
       " (0.002778774941285713, 'NEAR BAY'),\n",
       " (9.713522272071853e-05, 'INLAND')]"
      ]
     },
     "execution_count": 70,
     "metadata": {},
     "output_type": "execute_result"
    }
   ],
   "source": [
    "extra_attribs = ['rooms_per_hhold',\n",
    "                'pop_per_hhold', 'bedrooms_per_room', 'median_income_per_population', 'age']\n",
    "attributes = num_attribs + extra_attribs + cat_one_hot_attribs\n",
    "sorted(zip(feature_importances, attributes), reverse = True)"
   ]
  },
  {
   "cell_type": "markdown",
   "metadata": {
    "colab_type": "text",
    "id": "JJAbvl0SJJqe"
   },
   "source": [
    "### Оценка системы с помощью исптытательного набора"
   ]
  },
  {
   "cell_type": "code",
   "execution_count": 71,
   "metadata": {
    "colab": {
     "base_uri": "https://localhost:8080/",
     "height": 35
    },
    "colab_type": "code",
    "id": "F9qQIEIKJJqe",
    "outputId": "079451e2-f989-4ec9-a5aa-3dbaded1e5d3"
   },
   "outputs": [
    {
     "data": {
      "text/plain": [
       "47986.44360559689"
      ]
     },
     "execution_count": 71,
     "metadata": {},
     "output_type": "execute_result"
    }
   ],
   "source": [
    "final_model = joblib.load('my_model.pkl')\n",
    "X_test = strat_test_set.drop('median_house_value', axis=1)\n",
    "y_test = strat_test_set['median_house_value'].copy()\n",
    "X_test_prepared = full_pipeline.transform(X_test)\n",
    "final_predictions = final_model.predict(X_test_prepared)\n",
    "final_mse = mean_squared_error(y_test, final_predictions)\n",
    "final_rmse = np.sqrt(final_mse)\n",
    "final_rmse"
   ]
  },
  {
   "cell_type": "markdown",
   "metadata": {},
   "source": [
    "### Конвейер с выборкой параметров"
   ]
  },
  {
   "cell_type": "code",
   "execution_count": 85,
   "metadata": {
    "collapsed": true
   },
   "outputs": [
    {
     "data": {
      "text/plain": [
       "array([6.76825033e-02, 6.04239497e-02, 2.37316515e-02, 1.54659110e-02,\n",
       "       1.50922276e-02, 1.41433771e-02, 1.45064630e-02, 2.45074836e-01,\n",
       "       1.60566947e-02, 3.46710339e-02, 1.02780550e-01, 1.88924733e-01,\n",
       "       5.58393698e-02, 1.06228091e-02, 1.27836799e-01, 9.15211183e-05,\n",
       "       2.62427856e-03, 4.43129104e-03])"
      ]
     },
     "execution_count": 85,
     "metadata": {},
     "output_type": "execute_result"
    }
   ],
   "source": [
    "#Проанализируем самые важные функции сохраненной модели\n",
    "\n",
    "anal_model = joblib.load('my_model.pkl')\n",
    "feature_importances = anal_model.feature_importances_\n",
    "feature_importances"
   ]
  },
  {
   "cell_type": "code",
   "execution_count": 103,
   "metadata": {},
   "outputs": [],
   "source": [
    "#Функция подготовки\n",
    "\n",
    "def indices_of_top_k(arr,k):\n",
    "    return np.sort(np.argpartition(np.array(arr), -k)[-k:])\n",
    "\n",
    "class TopFeatureSelector(BaseEstimator, TransformerMixin):\n",
    "    def __init__(self, feature_importances, k):\n",
    "        self.feature_importances = feature_importances\n",
    "        self.k = k\n",
    "    def fit(self, X, y=None):\n",
    "        self.feature_indices_ = indices_of_top_k(self.feature_importances, self.k)\n",
    "        return self\n",
    "    def transform(self, X):\n",
    "        return X[:, self.feature_indices_]"
   ]
  },
  {
   "cell_type": "code",
   "execution_count": 104,
   "metadata": {},
   "outputs": [],
   "source": [
    "k = 15"
   ]
  },
  {
   "cell_type": "code",
   "execution_count": 105,
   "metadata": {},
   "outputs": [
    {
     "data": {
      "text/plain": [
       "array([ 0,  1,  2,  3,  4,  5,  6,  7,  8,  9, 10, 11, 12, 13, 14],\n",
       "      dtype=int64)"
      ]
     },
     "execution_count": 105,
     "metadata": {},
     "output_type": "execute_result"
    }
   ],
   "source": [
    "top_k_feature_indices = indices_of_top_k(feature_importances, k)\n",
    "top_k_feature_indices"
   ]
  },
  {
   "cell_type": "code",
   "execution_count": 106,
   "metadata": {},
   "outputs": [
    {
     "data": {
      "text/plain": [
       "array(['longitude', 'latitude', 'housing_median_age', 'total_rooms',\n",
       "       'total_bedrooms', 'population', 'households', 'median_income',\n",
       "       'rooms_per_hhold', 'pop_per_hhold', 'bedrooms_per_room',\n",
       "       'median_income_per_population', 'age', '<1H OCEAN', 'NEAR OCEAN'],\n",
       "      dtype='<U28')"
      ]
     },
     "execution_count": 106,
     "metadata": {},
     "output_type": "execute_result"
    }
   ],
   "source": [
    "np.array(attributes)[top_k_feature_indices]"
   ]
  },
  {
   "cell_type": "code",
   "execution_count": 107,
   "metadata": {},
   "outputs": [
    {
     "data": {
      "text/plain": [
       "[(0.24507483615615847, 'median_income'),\n",
       " (0.18892473294069104, 'median_income_per_population'),\n",
       " (0.1278367989807342, 'NEAR OCEAN'),\n",
       " (0.10278055028664226, 'bedrooms_per_room'),\n",
       " (0.06768250325419105, 'longitude'),\n",
       " (0.06042394969615143, 'latitude'),\n",
       " (0.055839369832405776, 'age'),\n",
       " (0.03467103394769878, 'pop_per_hhold'),\n",
       " (0.023731651528170795, 'housing_median_age'),\n",
       " (0.016056694740082565, 'rooms_per_hhold'),\n",
       " (0.015465911022289532, 'total_rooms'),\n",
       " (0.015092227595645458, 'total_bedrooms'),\n",
       " (0.01450646303125648, 'households'),\n",
       " (0.014143377137613208, 'population'),\n",
       " (0.01062280912420654, '<1H OCEAN')]"
      ]
     },
     "execution_count": 107,
     "metadata": {},
     "output_type": "execute_result"
    }
   ],
   "source": [
    "sorted(zip(feature_importances, attributes), reverse=True)[:k]"
   ]
  },
  {
   "cell_type": "markdown",
   "metadata": {},
   "source": [
    "### Полный конвейер подготовки"
   ]
  },
  {
   "cell_type": "code",
   "execution_count": 108,
   "metadata": {},
   "outputs": [],
   "source": [
    "preparation_and_feature_selection_pipeline = Pipeline([\n",
    "    ('preparation', full_pipeline),\n",
    "    ('feature_selection', TopFeatureSelector(feature_importances, k))\n",
    "])"
   ]
  },
  {
   "cell_type": "code",
   "execution_count": 114,
   "metadata": {},
   "outputs": [
    {
     "data": {
      "text/plain": [
       "array([[-1.15604281,  0.77194962,  0.74333089, -0.49323393, -0.44543821,\n",
       "        -0.63621141, -0.42069842, -0.61493744, -0.36185566,  0.46485455,\n",
       "         1.21305708,  0.64219236,  0.15531753,  1.        ,  0.        ],\n",
       "       [-1.17602483,  0.6596948 , -1.1653172 , -0.90896655, -1.0369278 ,\n",
       "        -0.99833135, -1.02222705,  1.33645936, -0.34396661, -0.503056  ,\n",
       "         0.05429335, -1.27126461, -0.83628902,  1.        ,  0.        ],\n",
       "       [ 1.18684903, -1.34218285,  0.18664186, -0.31365989, -0.15334458,\n",
       "        -0.43363936, -0.0933178 , -0.5320456 , -0.29696581,  0.3640438 ,\n",
       "         1.38577261,  0.50187597,  0.4222004 ,  0.        ,  0.        ]])"
      ]
     },
     "execution_count": 114,
     "metadata": {},
     "output_type": "execute_result"
    }
   ],
   "source": [
    "housing_prepared_top_k_features_selected = preparation_and_feature_selection_pipeline.fit_transform(housing)\n",
    "housing_prepared_top_k_features_selected[:3]"
   ]
  },
  {
   "cell_type": "code",
   "execution_count": 115,
   "metadata": {},
   "outputs": [],
   "source": [
    "prepare_select_predict_pipeline = Pipeline([\n",
    "    ('preparation', full_pipeline),\n",
    "    ('feature_selection', TopFeatureSelector(feature_importances, k)),\n",
    "    ('RFR_reg', RandomForestRegressor(**grid_search.best_params_))\n",
    "])"
   ]
  },
  {
   "cell_type": "code",
   "execution_count": 116,
   "metadata": {},
   "outputs": [
    {
     "data": {
      "text/plain": [
       "Pipeline(memory=None,\n",
       "         steps=[('preparation',\n",
       "                 ColumnTransformer(n_jobs=None, remainder='drop',\n",
       "                                   sparse_threshold=0.3,\n",
       "                                   transformer_weights=None,\n",
       "                                   transformers=[('num',\n",
       "                                                  Pipeline(memory=None,\n",
       "                                                           steps=[('imputer',\n",
       "                                                                   SimpleImputer(add_indicator=False,\n",
       "                                                                                 copy=True,\n",
       "                                                                                 fill_value=None,\n",
       "                                                                                 missing_values=nan,\n",
       "                                                                                 strategy='median',\n",
       "                                                                                 verbose=0)),\n",
       "                                                                  ('attribs_adder',\n",
       "                                                                   FunctionTransformer(accept_s...\n",
       "                 RandomForestRegressor(bootstrap=False, ccp_alpha=0.0,\n",
       "                                       criterion='mse', max_depth=None,\n",
       "                                       max_features=7, max_leaf_nodes=None,\n",
       "                                       max_samples=None,\n",
       "                                       min_impurity_decrease=0.0,\n",
       "                                       min_impurity_split=None,\n",
       "                                       min_samples_leaf=1, min_samples_split=2,\n",
       "                                       min_weight_fraction_leaf=0.0,\n",
       "                                       n_estimators=180, n_jobs=None,\n",
       "                                       oob_score=False, random_state=None,\n",
       "                                       verbose=0, warm_start=False))],\n",
       "         verbose=False)"
      ]
     },
     "execution_count": 116,
     "metadata": {},
     "output_type": "execute_result"
    }
   ],
   "source": [
    "prepare_select_predict_pipeline.fit(housing, housing_labels)"
   ]
  },
  {
   "cell_type": "code",
   "execution_count": 117,
   "metadata": {},
   "outputs": [
    {
     "name": "stdout",
     "output_type": "stream",
     "text": [
      "Predictions:\t [286600. 340600. 196900.  46300. 254500.]\n",
      "Labels:\t\t [286600.0, 340600.0, 196900.0, 46300.0, 254500.0]\n"
     ]
    }
   ],
   "source": [
    "some_data = housing.iloc[:5]\n",
    "some_labels = housing_labels.iloc[:5]\n",
    "\n",
    "print('Predictions:\\t',prepare_select_predict_pipeline.predict(some_data))\n",
    "print('Labels:\\t\\t', list(some_labels))"
   ]
  },
  {
   "cell_type": "code",
   "execution_count": 118,
   "metadata": {},
   "outputs": [
    {
     "data": {
      "text/plain": [
       "48712.22061335868"
      ]
     },
     "execution_count": 118,
     "metadata": {},
     "output_type": "execute_result"
    }
   ],
   "source": [
    "X_test = strat_test_set.drop('median_house_value', axis=1)\n",
    "y_test = strat_test_set['median_house_value'].copy()\n",
    "\n",
    "final_predictions = prepare_select_predict_pipeline.predict(X_test)\n",
    "final_mse = mean_squared_error(y_test, final_predictions)\n",
    "final_rmse = np.sqrt(final_mse)\n",
    "final_rmse"
   ]
  }
 ],
 "metadata": {
  "accelerator": "TPU",
  "colab": {
   "collapsed_sections": [
    "ROToqoljJJmV",
    "ZSfCpHpdJJnN",
    "Dv-_alCHJJnY",
    "GyB25WT8JJn0",
    "fy1vWKayJJn5"
   ],
   "name": "HOUSING-Final.ipynb",
   "provenance": []
  },
  "kernelspec": {
   "display_name": "Python 3",
   "language": "python",
   "name": "python3"
  },
  "language_info": {
   "codemirror_mode": {
    "name": "ipython",
    "version": 3
   },
   "file_extension": ".py",
   "mimetype": "text/x-python",
   "name": "python",
   "nbconvert_exporter": "python",
   "pygments_lexer": "ipython3",
   "version": "3.7.6"
  }
 },
 "nbformat": 4,
 "nbformat_minor": 1
}
