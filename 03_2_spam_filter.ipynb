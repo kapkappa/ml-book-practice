{
 "cells": [
  {
   "cell_type": "code",
   "execution_count": 2,
   "metadata": {},
   "outputs": [],
   "source": [
    "try:\n",
    "    import urlextract\n",
    "except:\n",
    "    print('Exception: installing urlextract library\\n')\n",
    "    import sys\n",
    "    !{sys.executable} -m pip install urlextract\n",
    "    import urlextract"
   ]
  },
  {
   "cell_type": "code",
   "execution_count": 3,
   "metadata": {},
   "outputs": [
    {
     "data": {
      "text/plain": [
       "['D:\\\\anacondaz\\\\lib\\\\site-packages\\\\urlextract']"
      ]
     },
     "execution_count": 3,
     "metadata": {},
     "output_type": "execute_result"
    }
   ],
   "source": [
    "urlextract.__path__"
   ]
  },
  {
   "cell_type": "code",
   "execution_count": 4,
   "metadata": {},
   "outputs": [],
   "source": [
    "import numpy as np\n",
    "import pandas as pd\n",
    "%matplotlib inline\n",
    "import matplotlib as mpl\n",
    "import matplotlib.pyplot as plt"
   ]
  },
  {
   "cell_type": "markdown",
   "metadata": {},
   "source": [
    "## Подключение и загрузка данных"
   ]
  },
  {
   "cell_type": "code",
   "execution_count": 5,
   "metadata": {},
   "outputs": [],
   "source": [
    "import os\n",
    "import tarfile\n",
    "from six.moves import urllib\n",
    "\n",
    "DOWNLOAD_ROOT = 'https://spamassassin.apache.org/old/publiccorpus/'\n",
    "DATA_PATH = os.path.join('datasets','spam')\n",
    "HAM_URL = DOWNLOAD_ROOT + '20030228_easy_ham.tar.bz2'\n",
    "SPAM_URL = DOWNLOAD_ROOT + '20030228_spam.tar.bz2'\n",
    "\n",
    "def fetch_data(ham_url = HAM_URL, spam_url = SPAM_URL, data_path = DATA_PATH):\n",
    "    os.makedirs(data_path, exist_ok=True)\n",
    "    for filename, url in (('ham.tar.bz2', ham_url),('spam.tar.bz2', spam_url)):\n",
    "        tar_path = os.path.join(data_path, filename)\n",
    "        urllib.request.urlretrieve(url, tar_path)\n",
    "        data_tar = tarfile.open(tar_path)\n",
    "        data_tar.extractall(path=data_path)\n",
    "        data_tar.close()"
   ]
  },
  {
   "cell_type": "code",
   "execution_count": 6,
   "metadata": {},
   "outputs": [
    {
     "data": {
      "text/plain": [
       "'datasets\\\\spam'"
      ]
     },
     "execution_count": 6,
     "metadata": {},
     "output_type": "execute_result"
    }
   ],
   "source": [
    "DATA_PATH"
   ]
  },
  {
   "cell_type": "code",
   "execution_count": 7,
   "metadata": {},
   "outputs": [],
   "source": [
    "fetch_data()"
   ]
  },
  {
   "cell_type": "code",
   "execution_count": 8,
   "metadata": {},
   "outputs": [],
   "source": [
    "SPAM_DIR = os.path.join(DATA_PATH,'spam')\n",
    "HAM_DIR = os.path.join(DATA_PATH, 'easy_ham')\n",
    "spam_filenames = [name for name in sorted(os.listdir(SPAM_DIR)) if len(name)>20]\n",
    "ham_filenames = [name for name in sorted(os.listdir(HAM_DIR)) if len(name)>20]\n",
    "\n",
    "# listdir - return The list is in arbitrary order, that's why we sorted it."
   ]
  },
  {
   "cell_type": "code",
   "execution_count": 9,
   "metadata": {},
   "outputs": [
    {
     "name": "stdout",
     "output_type": "stream",
     "text": [
      "500\n",
      "2500\n"
     ]
    }
   ],
   "source": [
    "print(len(spam_filenames), len(ham_filenames), sep='\\n')"
   ]
  },
  {
   "cell_type": "code",
   "execution_count": 10,
   "metadata": {},
   "outputs": [
    {
     "data": {
      "text/plain": [
       "'00002.d94f1b97e48ed3b553b3508d116e6a09'"
      ]
     },
     "execution_count": 10,
     "metadata": {},
     "output_type": "execute_result"
    }
   ],
   "source": [
    "spam_filenames[1]"
   ]
  },
  {
   "cell_type": "markdown",
   "metadata": {},
   "source": [
    "## Parse Email"
   ]
  },
  {
   "cell_type": "code",
   "execution_count": 11,
   "metadata": {},
   "outputs": [],
   "source": [
    "import email\n",
    "import email.policy\n",
    "\n",
    "def load_email(is_spam, filename, spam_path = DATA_PATH):\n",
    "    directory = 'spam' if is_spam else 'easy_ham'\n",
    "    with open(os.path.join(spam_path, directory, filename), 'rb') as f:\n",
    "        return email.parser.BytesParser(policy=email.policy.default).parse(f)\n",
    "    \n",
    "# BytesParser converts bytes(in which the email is encoded) to characters."
   ]
  },
  {
   "cell_type": "code",
   "execution_count": 12,
   "metadata": {},
   "outputs": [],
   "source": [
    "ham_emails = [load_email(is_spam=False, filename=name) for name in ham_filenames]\n",
    "spam_emails = [load_email(is_spam=True, filename=name) for name in spam_filenames]"
   ]
  },
  {
   "cell_type": "code",
   "execution_count": 13,
   "metadata": {
    "scrolled": true
   },
   "outputs": [
    {
     "data": {
      "text/plain": [
       "<email.message.EmailMessage at 0x1dbcb1b2308>"
      ]
     },
     "execution_count": 13,
     "metadata": {},
     "output_type": "execute_result"
    }
   ],
   "source": [
    "ham_emails[1] #an object, returned by parser."
   ]
  },
  {
   "cell_type": "markdown",
   "metadata": {},
   "source": [
    "### examples"
   ]
  },
  {
   "cell_type": "code",
   "execution_count": 14,
   "metadata": {
    "collapsed": true
   },
   "outputs": [
    {
     "data": {
      "text/plain": [
       "\"Martin A posted:\\nTassos Papadopoulos, the Greek sculptor behind the plan, judged that the\\n limestone of Mount Kerdylio, 70 miles east of Salonika and not far from the\\n Mount Athos monastic community, was ideal for the patriotic sculpture. \\n \\n As well as Alexander's granite features, 240 ft high and 170 ft wide, a\\n museum, a restored amphitheatre and car park for admiring crowds are\\nplanned\\n---------------------\\nSo is this mountain limestone or granite?\\nIf it's limestone, it'll weather pretty fast.\\n\\n------------------------ Yahoo! Groups Sponsor ---------------------~-->\\n4 DVDs Free +s&p Join Now\\nhttp://us.click.yahoo.com/pt6YBB/NXiEAA/mG3HAA/7gSolB/TM\\n---------------------------------------------------------------------~->\\n\\nTo unsubscribe from this group, send an email to:\\nforteana-unsubscribe@egroups.com\\n\\n \\n\\nYour use of Yahoo! Groups is subject to http://docs.yahoo.com/info/terms/ \\n\\n\\n\\n\""
      ]
     },
     "execution_count": 14,
     "metadata": {},
     "output_type": "execute_result"
    }
   ],
   "source": [
    "ham_emails[1].get_content() #return big string???"
   ]
  },
  {
   "cell_type": "code",
   "execution_count": 15,
   "metadata": {
    "collapsed": true
   },
   "outputs": [
    {
     "data": {
      "text/plain": [
       "\"Martin A posted:\\nTassos Papadopoulos, the Greek sculptor behind the plan, judged that the\\n limestone of Mount Kerdylio, 70 miles east of Salonika and not far from the\\n Mount Athos monastic community, was ideal for the patriotic sculpture. \\n \\n As well as Alexander's granite features, 240 ft high and 170 ft wide, a\\n museum, a restored amphitheatre and car park for admiring crowds are\\nplanned\\n---------------------\\nSo is this mountain limestone or granite?\\nIf it's limestone, it'll weather pretty fast.\\n\\n------------------------ Yahoo! Groups Sponsor ---------------------~-->\\n4 DVDs Free +s&p Join Now\\nhttp://us.click.yahoo.com/pt6YBB/NXiEAA/mG3HAA/7gSolB/TM\\n---------------------------------------------------------------------~->\\n\\nTo unsubscribe from this group, send an email to:\\nforteana-unsubscribe@egroups.com\\n\\n \\n\\nYour use of Yahoo! Groups is subject to http://docs.yahoo.com/info/terms/\""
      ]
     },
     "execution_count": 15,
     "metadata": {},
     "output_type": "execute_result"
    }
   ],
   "source": [
    "ham_emails[1].get_content().strip() #clear \\n and ' '"
   ]
  },
  {
   "cell_type": "code",
   "execution_count": 16,
   "metadata": {
    "collapsed": true
   },
   "outputs": [
    {
     "name": "stdout",
     "output_type": "stream",
     "text": [
      "Martin A posted:\n",
      "Tassos Papadopoulos, the Greek sculptor behind the plan, judged that the\n",
      " limestone of Mount Kerdylio, 70 miles east of Salonika and not far from the\n",
      " Mount Athos monastic community, was ideal for the patriotic sculpture. \n",
      " \n",
      " As well as Alexander's granite features, 240 ft high and 170 ft wide, a\n",
      " museum, a restored amphitheatre and car park for admiring crowds are\n",
      "planned\n",
      "---------------------\n",
      "So is this mountain limestone or granite?\n",
      "If it's limestone, it'll weather pretty fast.\n",
      "\n",
      "------------------------ Yahoo! Groups Sponsor ---------------------~-->\n",
      "4 DVDs Free +s&p Join Now\n",
      "http://us.click.yahoo.com/pt6YBB/NXiEAA/mG3HAA/7gSolB/TM\n",
      "---------------------------------------------------------------------~->\n",
      "\n",
      "To unsubscribe from this group, send an email to:\n",
      "forteana-unsubscribe@egroups.com\n",
      "\n",
      " \n",
      "\n",
      "Your use of Yahoo! Groups is subject to http://docs.yahoo.com/info/terms/ \n",
      "\n",
      "\n",
      "\n",
      "\n"
     ]
    }
   ],
   "source": [
    "print(ham_emails[1].get_content())"
   ]
  },
  {
   "cell_type": "code",
   "execution_count": 17,
   "metadata": {
    "collapsed": true
   },
   "outputs": [
    {
     "name": "stdout",
     "output_type": "stream",
     "text": [
      "Martin A posted:\n",
      "Tassos Papadopoulos, the Greek sculptor behind the plan, judged that the\n",
      " limestone of Mount Kerdylio, 70 miles east of Salonika and not far from the\n",
      " Mount Athos monastic community, was ideal for the patriotic sculpture. \n",
      " \n",
      " As well as Alexander's granite features, 240 ft high and 170 ft wide, a\n",
      " museum, a restored amphitheatre and car park for admiring crowds are\n",
      "planned\n",
      "---------------------\n",
      "So is this mountain limestone or granite?\n",
      "If it's limestone, it'll weather pretty fast.\n",
      "\n",
      "------------------------ Yahoo! Groups Sponsor ---------------------~-->\n",
      "4 DVDs Free +s&p Join Now\n",
      "http://us.click.yahoo.com/pt6YBB/NXiEAA/mG3HAA/7gSolB/TM\n",
      "---------------------------------------------------------------------~->\n",
      "\n",
      "To unsubscribe from this group, send an email to:\n",
      "forteana-unsubscribe@egroups.com\n",
      "\n",
      " \n",
      "\n",
      "Your use of Yahoo! Groups is subject to http://docs.yahoo.com/info/terms/\n"
     ]
    }
   ],
   "source": [
    "print(ham_emails[1].get_content().strip())"
   ]
  },
  {
   "cell_type": "code",
   "execution_count": 18,
   "metadata": {
    "collapsed": true
   },
   "outputs": [
    {
     "name": "stdout",
     "output_type": "stream",
     "text": [
      "Help wanted.  We are a 14 year old fortune 500 company, that is\n",
      "growing at a tremendous rate.  We are looking for individuals who\n",
      "want to work from home.\n",
      "\n",
      "This is an opportunity to make an excellent income.  No experience\n",
      "is required.  We will train you.\n",
      "\n",
      "So if you are looking to be employed from home with a career that has\n",
      "vast opportunities, then go:\n",
      "\n",
      "http://www.basetel.com/wealthnow\n",
      "\n",
      "We are looking for energetic and self motivated people.  If that is you\n",
      "than click on the link and fill out the form, and one of our\n",
      "employement specialist will contact you.\n",
      "\n",
      "To be removed from our link simple go to:\n",
      "\n",
      "http://www.basetel.com/remove.html\n",
      "\n",
      "\n",
      "4139vOLW7-758DoDY1425FRhM1-764SMFc8513fCsLl40\n"
     ]
    }
   ],
   "source": [
    "print(spam_emails[6].get_content().strip())"
   ]
  },
  {
   "cell_type": "markdown",
   "metadata": {},
   "source": [
    "### emails structure"
   ]
  },
  {
   "cell_type": "code",
   "execution_count": 19,
   "metadata": {},
   "outputs": [],
   "source": [
    "def get_email_structure(email):\n",
    "    if isinstance(email, str): #Return type of email. (here compared to a string)\n",
    "        return email\n",
    "    payload = email.get_payload() #Get List of Message-objects.\n",
    "    if isinstance(payload, list):\n",
    "        return 'multipart({})'.format(\", \".join([\n",
    "            get_email_structure(sub_email)\n",
    "            for sub_email in payload\n",
    "        ]))\n",
    "    else:\n",
    "        return email.get_content_type() #text/plain"
   ]
  },
  {
   "cell_type": "code",
   "execution_count": 20,
   "metadata": {},
   "outputs": [],
   "source": [
    "from collections import Counter #Counter of unique words in list\n",
    "\n",
    "def structures_counter(emails):\n",
    "    structures = Counter()\n",
    "    for email in emails:\n",
    "        structure = get_email_structure(email)\n",
    "        structures[structure] += 1\n",
    "    return structures"
   ]
  },
  {
   "cell_type": "code",
   "execution_count": 44,
   "metadata": {
    "scrolled": false
   },
   "outputs": [
    {
     "data": {
      "text/plain": [
       "[('text/plain', 2408),\n",
       " ('multipart(text/plain, application/pgp-signature)', 66),\n",
       " ('multipart(text/plain, text/html)', 8),\n",
       " ('multipart(text/plain, text/plain)', 4),\n",
       " ('multipart(text/plain)', 3),\n",
       " ('multipart(text/plain, application/octet-stream)', 2),\n",
       " ('multipart(text/plain, text/enriched)', 1),\n",
       " ('multipart(text/plain, application/ms-tnef, text/plain)', 1),\n",
       " ('multipart(multipart(text/plain, text/plain, text/plain), application/pgp-signature)',\n",
       "  1),\n",
       " ('multipart(text/plain, video/mng)', 1),\n",
       " ('multipart(text/plain, multipart(text/plain))', 1),\n",
       " ('multipart(text/plain, application/x-pkcs7-signature)', 1),\n",
       " ('multipart(text/plain, multipart(text/plain, text/plain), text/rfc822-headers)',\n",
       "  1),\n",
       " ('multipart(text/plain, multipart(text/plain, text/plain), multipart(multipart(text/plain, application/x-pkcs7-signature)))',\n",
       "  1),\n",
       " ('multipart(text/plain, application/x-java-applet)', 1)]"
      ]
     },
     "execution_count": 44,
     "metadata": {},
     "output_type": "execute_result"
    }
   ],
   "source": [
    "structures_counter(ham_emails).most_common()"
   ]
  },
  {
   "cell_type": "code",
   "execution_count": 22,
   "metadata": {
    "scrolled": false
   },
   "outputs": [
    {
     "data": {
      "text/plain": [
       "[('text/plain', 218),\n",
       " ('text/html', 183),\n",
       " ('multipart(text/plain, text/html)', 45),\n",
       " ('multipart(text/html)', 20),\n",
       " ('multipart(text/plain)', 19),\n",
       " ('multipart(multipart(text/html))', 5),\n",
       " ('multipart(text/plain, image/jpeg)', 3),\n",
       " ('multipart(text/html, application/octet-stream)', 2),\n",
       " ('multipart(text/plain, application/octet-stream)', 1),\n",
       " ('multipart(text/html, text/plain)', 1),\n",
       " ('multipart(multipart(text/html), application/octet-stream, image/jpeg)', 1),\n",
       " ('multipart(multipart(text/plain, text/html), image/gif)', 1),\n",
       " ('multipart/alternative', 1)]"
      ]
     },
     "execution_count": 22,
     "metadata": {},
     "output_type": "execute_result"
    }
   ],
   "source": [
    "structures_counter(spam_emails).most_common()"
   ]
  },
  {
   "cell_type": "markdown",
   "metadata": {},
   "source": [
    "### what about email headers?"
   ]
  },
  {
   "cell_type": "code",
   "execution_count": 46,
   "metadata": {},
   "outputs": [],
   "source": [
    "#spam_emails[0].items()"
   ]
  },
  {
   "cell_type": "code",
   "execution_count": 23,
   "metadata": {
    "scrolled": true
   },
   "outputs": [
    {
     "name": "stdout",
     "output_type": "stream",
     "text": [
      "Return-Path : <12a1mailbot1@web.de> \n",
      "\n",
      "Delivered-To : zzzz@localhost.spamassassin.taint.org \n",
      "\n",
      "Received : from localhost (localhost [127.0.0.1])\tby phobos.labs.spamassassin.taint.org (Postfix) with ESMTP id 136B943C32\tfor <zzzz@localhost>; Thu, 22 Aug 2002 08:17:21 -0400 (EDT) \n",
      "\n",
      "Received : from mail.webnote.net [193.120.211.219]\tby localhost with POP3 (fetchmail-5.9.0)\tfor zzzz@localhost (single-drop); Thu, 22 Aug 2002 13:17:21 +0100 (IST) \n",
      "\n",
      "Received : from dd_it7 ([210.97.77.167])\tby webnote.net (8.9.3/8.9.3) with ESMTP id NAA04623\tfor <zzzz@spamassassin.taint.org>; Thu, 22 Aug 2002 13:09:41 +0100 \n",
      "\n",
      "From : 12a1mailbot1@web.de \n",
      "\n",
      "Received : from r-smtp.korea.com - 203.122.2.197 by dd_it7  with Microsoft SMTPSVC(5.5.1775.675.6);\t Sat, 24 Aug 2002 09:42:10 +0900 \n",
      "\n",
      "To : dcek1a1@netsgo.com \n",
      "\n",
      "Subject : Life Insurance - Why Pay More? \n",
      "\n",
      "Date : Wed, 21 Aug 2002 20:31:57 -1600 \n",
      "\n",
      "MIME-Version : 1.0 \n",
      "\n",
      "Message-ID : <0103c1042001882DD_IT7@dd_it7> \n",
      "\n",
      "Content-Type : text/html; charset=\"iso-8859-1\" \n",
      "\n",
      "Content-Transfer-Encoding : quoted-printable \n",
      "\n"
     ]
    }
   ],
   "source": [
    "for header, value in spam_emails[0].items():\n",
    "    print(header,\":\", value,'\\n')"
   ]
  },
  {
   "cell_type": "code",
   "execution_count": 24,
   "metadata": {
    "scrolled": true
   },
   "outputs": [
    {
     "data": {
      "text/plain": [
       "'Life Insurance - Why Pay More?'"
      ]
     },
     "execution_count": 24,
     "metadata": {},
     "output_type": "execute_result"
    }
   ],
   "source": [
    "spam_emails[0]['Subject']"
   ]
  },
  {
   "cell_type": "markdown",
   "metadata": {},
   "source": [
    "## Our sets."
   ]
  },
  {
   "cell_type": "code",
   "execution_count": 25,
   "metadata": {},
   "outputs": [],
   "source": [
    "from sklearn.model_selection import train_test_split\n",
    "\n",
    "X = np.array(ham_emails + spam_emails)\n",
    "y = np.array([0] * len(ham_emails) + [1] * len(spam_emails))\n",
    "\n",
    "X_train, X_test, y_train, y_test = train_test_split(X, y, test_size=0.2, random_state=32)"
   ]
  },
  {
   "cell_type": "markdown",
   "metadata": {},
   "source": [
    "## Parsing HTML"
   ]
  },
  {
   "cell_type": "markdown",
   "metadata": {},
   "source": [
    "### We should use here BeautifulSoup library......"
   ]
  },
  {
   "cell_type": "code",
   "execution_count": 48,
   "metadata": {},
   "outputs": [],
   "source": [
    "import re #Regular expressions (Regex)\n",
    "from html import unescape #Convert all named and numeric character references (&gt etc.) to unicode characters.\n",
    "\n",
    "def html_to_plain_text(html):\n",
    "    text = re.sub('<head.*?>.*?</head>', '', html, flags=re.M | re.S | re.I) #I-flag - deepreciate register.\n",
    "    text = re.sub('<a\\s.*?>', ' HYPERLINK ', text, flags=re.M | re.S | re.I) #S-flag means that '.' - can be any character.\n",
    "    text = re.sub('<.*?>', '', text, flags=re.M | re.S)\n",
    "    text = re.sub(r'(\\s*\\n)+', '\\n', text, flags=re.M | re.S)\n",
    "    return unescape(text)"
   ]
  },
  {
   "cell_type": "code",
   "execution_count": 53,
   "metadata": {},
   "outputs": [
    {
     "name": "stdout",
     "output_type": "stream",
     "text": [
      "<html>\n",
      "<head>\n",
      "</head>\n",
      "  <body background=\"http://64.70.215.158/images//Gauze.jpg\">\n",
      "   \n",
      "<div align=\"Center\">  \n",
      "<center>  \n",
      "<table width=\"90%\" bgcolor=\"#ffffff\" border=\"0\">\n",
      "    <tbody>\n",
      "    <tr>\n",
      "      <td width=\"100%\">                     \n",
      "      <hr color=\"#0000ff\">               \n",
      "      <table width=\"100%\" border=\"0\">\n",
      "          <tbody>\n",
      "          <tr>\n",
      "            <td width=\"100%\" colspan=\"2\"><font size=\"4\" color=\"#0000FF\"><b>The \n",
      "            Famous</b></font><b><font color=\"#0000ff\" size=\"4\">\n",
      "            eBay Marketing e-Course...</font></b></td>\n",
      "           </tr>\n",
      "          <tr>\n",
      "            <td valign=\"Top\" align=\"Left\" width=\"15%\" height=\"90\"><br>\n",
      "                           \n",
      "            <p> </p>\n",
      "             </td>\n",
      "            <td valign=\"Top\" align=\"Left\" width=\"85%\">                  \n",
      "       \n",
      "            <center>               \n",
      "            <p></p>\n",
      "            </center>\n",
      "             \n",
      "            <center>               \n",
      "            <p></p>\n",
      "            </center>\n",
      "             \n",
      "            <tab ...\n"
     ]
    }
   ],
   "source": [
    "html_spam_emails = [email for email in X_train[y_train==1]\n",
    "                   if get_email_structure(email) == 'text/html']\n",
    "sample_html_spam = html_spam_emails[4]\n",
    "print(sample_html_spam.get_content().strip()[:1000], '...')"
   ]
  },
  {
   "cell_type": "code",
   "execution_count": 54,
   "metadata": {
    "scrolled": true
   },
   "outputs": [
    {
     "name": "stdout",
     "output_type": "stream",
     "text": [
      "\n",
      "            The\n",
      "            Famous\n",
      "            eBay Marketing e-Course...\n",
      "                   \n",
      "                  Learn To\n",
      " Sell With the Complete eBay\n",
      "Auction Marketing e-Course\n",
      "                  Here's\n",
      "                  YOUR Chance To Join The Online\n",
      "                  Selling Revolution And EARN A FULL TIME  INCOME!\n",
      " Our eBay                    Marketing e-Course will show you how to create\n",
      "HUGE profits selling on eBay!\n",
      "                   Do you sell on eBay? If so, you could be making up\n",
      "to $100,000 per month.\n",
      "                  This is no hype and no scam. Receiving over 1.5 billion page views per\n",
      "month, eBay is the ULTIMATE venue for selling virtually anything and making\n",
      "huge profits with almost no effort. But you have to know what to sell and\n",
      "how to sell. That's where I come in.\n",
      "                  As a leading expert in internet marketing and the owner of several profitable\n",
      "auction-based businesses, the manual that I have written provides easy to\n",
      "understand and detailed instruction ...\n"
     ]
    }
   ],
   "source": [
    "print(html_to_plain_text(sample_html_spam.get_content())[:1000], '...')"
   ]
  },
  {
   "cell_type": "code",
   "execution_count": 55,
   "metadata": {},
   "outputs": [],
   "source": [
    "def email_to_text(email): #We just return plain text, no matter what...\n",
    "    html = None\n",
    "    for part in email.walk(): #Itaerate on each path of email structure's part\n",
    "        ctype = part.get_content_type()\n",
    "        if not ctype in (\"text/plain\", \"text/html\"):\n",
    "            continue\n",
    "        try:\n",
    "            content = part.get_content()\n",
    "        except: #in case of encoding issues\n",
    "            content = str(part.get_payload()) #str from list?\n",
    "        if ctype == \"text/plain\":\n",
    "            return content\n",
    "        else:\n",
    "            html = content\n",
    "        if html:\n",
    "            return html_to_plain_text(html)"
   ]
  },
  {
   "cell_type": "code",
   "execution_count": 56,
   "metadata": {
    "scrolled": false
   },
   "outputs": [
    {
     "name": "stdout",
     "output_type": "stream",
     "text": [
      "\n",
      "            The\n",
      "            Famous\n",
      "            eBay Marketing e-Course...\n",
      "                   \n",
      "       ...\n"
     ]
    }
   ],
   "source": [
    "print(email_to_text(sample_html_spam)[:100],' ...')"
   ]
  },
  {
   "cell_type": "markdown",
   "metadata": {},
   "source": [
    "### Stemming"
   ]
  },
  {
   "cell_type": "code",
   "execution_count": 57,
   "metadata": {},
   "outputs": [],
   "source": [
    "import nltk"
   ]
  },
  {
   "cell_type": "code",
   "execution_count": 58,
   "metadata": {},
   "outputs": [
    {
     "name": "stdout",
     "output_type": "stream",
     "text": [
      "Computations -> comput\n",
      "Computation -> comput\n",
      "Computing -> comput\n",
      "Computed -> comput\n",
      "Compute -> comput\n",
      "Compulsive -> compuls\n"
     ]
    }
   ],
   "source": [
    "stemmer = nltk.PorterStemmer()\n",
    "for word in (\"Computations\", \"Computation\", \"Computing\", \"Computed\", \"Compute\", \"Compulsive\"):\n",
    "    print(word, \"->\", stemmer.stem(word))"
   ]
  },
  {
   "cell_type": "markdown",
   "metadata": {},
   "source": [
    "### Replacing URLs"
   ]
  },
  {
   "cell_type": "code",
   "execution_count": 33,
   "metadata": {
    "scrolled": false
   },
   "outputs": [
    {
     "name": "stdout",
     "output_type": "stream",
     "text": [
      "['github.com', 'https://youtu.be/7Pq-S557XQU?t=3m32s']\n"
     ]
    }
   ],
   "source": [
    "url_extractor = urlextract.URLExtract()\n",
    "print(url_extractor.find_urls(\"Will it detect github.com and https://youtu.be/7Pq-S557XQU?t=3m32s\"))"
   ]
  },
  {
   "cell_type": "markdown",
   "metadata": {},
   "source": [
    "## Transformer"
   ]
  },
  {
   "cell_type": "code",
   "execution_count": 59,
   "metadata": {},
   "outputs": [],
   "source": [
    "from sklearn.base import BaseEstimator, TransformerMixin\n",
    "\n",
    "class EmailToWordCounterTransformer(BaseEstimator, TransformerMixin):\n",
    "    \n",
    "    def __init__(self, strip_headers=True, lower_case=True, remove_punctuation=True,\n",
    "                 replace_urls=True, replace_numbers=True, stemming=True):\n",
    "        self.strip_headers = strip_headers\n",
    "        self.lower_case = lower_case\n",
    "        self.remove_punctuation = remove_punctuation\n",
    "        self.replace_urls = replace_urls\n",
    "        self.replace_numbers = replace_numbers\n",
    "        self.stemming = stemming\n",
    "        \n",
    "    def fit(self, X, y=None):\n",
    "        return self\n",
    "    \n",
    "    def transform(self, X, y=None):\n",
    "        X_transformed = []\n",
    "        for email in X:\n",
    "            text = email_to_text(email) or \"\"\n",
    "            if self.lower_case:\n",
    "                text = text.lower()\n",
    "            if self.replace_urls:\n",
    "                urls = list(set(url_extractor.find_urls(text)))\n",
    "                urls.sort(key=lambda url: len(url), reverse=True)\n",
    "                for url in urls:\n",
    "                    text = text.replace(url, \" URL \")\n",
    "            if self.replace_numbers:\n",
    "                text = re.sub(r'\\d+(?:\\.\\d*(?:[eE]\\d+))?', 'NUMBER', text)\n",
    "            if self.remove_punctuation:\n",
    "                text = re.sub(r'\\W+', ' ', text, flags=re.M)\n",
    "            word_counts = Counter(text.split())\n",
    "            if self.stemming:\n",
    "                stemmed_word_counts = Counter()\n",
    "                for word, count in word_counts.items():\n",
    "                    stemmed_word = stemmer.stem(word)\n",
    "                    stemmed_word_counts[stemmed_word] += count\n",
    "                word_counts = stemmed_word_counts\n",
    "            X_transformed.append(word_counts)\n",
    "        return np.array(X_transformed)"
   ]
  },
  {
   "cell_type": "code",
   "execution_count": 60,
   "metadata": {
    "scrolled": true
   },
   "outputs": [
    {
     "data": {
      "text/plain": [
       "array([Counter({'you': 14, 'to': 13, 'the': 11, 'number': 9, 'hyperlink': 7, 'and': 7, 'of': 7, 'e': 7, 'market': 6, 'from': 6, 'thi': 6, 'mail': 6, 'a': 5, 'in': 5, 'for': 5, 'our': 5, 'technolog': 4, 's': 4, 'if': 4, 'or': 4, 'receiv': 4, 'be': 4, 'remov': 4, 'sale': 3, 'busi': 3, 'one': 3, 'it': 3, 'easi': 3, 'will': 3, 'not': 3, 'pleas': 3, 'is': 3, 'list': 3, 'that': 2, 'relev': 2, 'advertis': 2, 'articl': 2, 'magazin': 2, 'as': 2, 'fast': 2, 'compani': 2, 'wire': 2, 'pc': 2, 'world': 2, 'asia': 2, 'street': 2, 'intellig': 2, 'inc': 2, 'bank': 2, 'all': 2, 'today': 2, 'on': 2, 'your': 2, 'with': 2, 'supplier': 2, 'resourc': 2, 'need': 2, 'do': 2, 'find': 2, 'are': 2, 'have': 2, 'special': 2, 'offer': 2, 'ha': 2, 'been': 2, 'sent': 2, 'feder': 2, 'messag': 2, 'resid': 2, 'immedi': 2, 'click': 2, 'new': 1, 'page': 1, 'final': 1, 'newsfe': 1, 'deliv': 1, 'current': 1, 'such': 1, 'locat': 1, 'free': 1, 'sign': 1, 'up': 1, 'read': 1, 'use': 1, 'time': 1, 'provid': 1, 'internet': 1, 'most': 1, 'comprehens': 1, 'web': 1, 'directori': 1, 'execut': 1, 'top': 1, 'review': 1, 'along': 1, 'wide': 1, 'select': 1, 'topic': 1, 'gain': 1, 'access': 1, 'job': 1, 'effect': 1, 'can': 1, 't': 1, 'rep': 1, 'go': 1, 'work': 1, 'more': 1, 'becaus': 1, 'opt': 1, 'url': 1, 'affili': 1, 'feel': 1, 'error': 1, 'wish': 1, 'addit': 1, 'scroll': 1, 'down': 1, 'unsubscrib': 1, 'person': 1, 'interest': 1, 'inform': 1, 'enclos': 1, 'spam': 1, 'under': 1, 'regulatori': 1, 'law': 1, 'unit': 1, 'state': 1, 'complianc': 1, 'propos': 1, 'legisl': 1, 'commerci': 1, 'h': 1, 'r': 1, 'section': 1, 'paragraph': 1, 'bill': 1, 'titl': 1, 'iii': 1, 'pass': 1, 'by': 1, 'numberth': 1, 'us': 1, 'congress': 1, 'we': 1, 'sincer': 1, 'apolog': 1, 'ani': 1, 'inconveni': 1, 'intend': 1, 'wa': 1, 'nv': 1, 'ca': 1, 'va': 1, 'screen': 1, 'address': 1, 'done': 1, 'best': 1, 'technic': 1, 'abil': 1, 'california': 1, 'nevada': 1, 'washington': 1, 'virginia': 1, 'follow': 1, 'instruct': 1, 'below': 1, 'perman': 1, 'would': 1, 'like': 1, 'word': 1, 'me': 1, 'send': 1, 'ubyrpqtetxjyuyqyfjti': 1}),\n",
       "       Counter({'the': 21, 'i': 19, 'to': 18, 'for': 15, 'and': 13, 'of': 12, 'a': 10, 'c': 10, 'you': 8, 'r': 7, 'do': 7, 's': 7, 'in': 6, 've': 6, 'lib': 6, 'java': 5, 'is': 5, 'but': 5, 'that': 5, 'be': 5, 'can': 5, 'number': 4, 'are': 4, 'an': 4, 'as': 4, 'need': 4, 'use': 4, 'onli': 4, 'perl': 4, 'where': 4, 'write': 3, 'at': 3, 'so': 3, 't': 3, 'all': 3, 'best': 3, 'yet': 3, 'ani': 3, 'with': 3, 'second': 3, 'it': 3, 'one': 3, 'find': 3, 'or': 3, 'harley': 2, 'program': 2, 'librari': 2, 'line': 2, 'there': 2, 'amount': 2, 'on': 2, 'exampl': 2, 'if': 2, 'want': 2, 'then': 2, 'http': 2, 'get': 2, 'about': 2, 'found': 2, 'no': 2, 'languag': 2, 'end': 2, 'those': 2, 'post': 2, 'thi': 2, 'list': 2, 'been': 2, 'busi': 2, 'had': 2, 'luxuri': 2, 'everi': 2, 'project': 2, 'we': 2, 'by': 2, 'time': 2, 'much': 2, 'hate': 2, 'never': 2, 'respons': 2, 'actual': 2, 'other': 2, 'peopl': 2, 'catalog': 2, 'such': 2, 'just': 2, 'api': 2, 'which': 2, 'perfect': 2, 'stream': 2, 'xml': 2, 'into': 2, 'relat': 2, 'databas': 2, 'rdbm': 2, 'read': 2, 'socket': 2, 'servlet': 2, 'through': 2, 'not': 2, 'shop': 2, 'even': 2, 'portabl': 2, 'commun': 2, 'robert': 1, 'argot': 1, 'ch': 1, 'glm': 1, 'wrote': 1, 'due': 1, 'extens': 1, 'class': 1, 'will': 1, 'weigh': 1, 'equival': 1, 'qed': 1, 'massiv': 1, 'fortran': 1, 'pick': 1, 'obviou': 1, 'linear': 1, 'algebra': 1, 'isn': 1, 'seriou': 1, 'candid': 1, 'pretti': 1, 'muddi': 1, 'curl': 1, 'choic': 1, 'grant': 1, 'envi': 1, 'some': 1, 'year': 1, 'haven': 1, 'code': 1, 'alway': 1, 'coerc': 1, 'budget': 1, 'maxim': 1, 'work': 1, 'done': 1, 'elsewher': 1, 'deal': 1, 'someon': 1, 'els': 1, 'blackbox': 1, 'spent': 1, 'sleepless': 1, 'night': 1, 'guess': 1, 'extern': 1, 'ever': 1, 'otherwis': 1, 'must': 1, 'wonder': 1, 'someth': 1, 'am': 1, 'sick': 1, 'blame': 1, 'design': 1, 'mistak': 1, 'mayb': 1, 'archiv': 1, 'somewher': 1, 'know': 1, 'sinc': 1, 'drdobb': 1, 'first': 1, 'publish': 1, 'smallc': 1, 'decent': 1, 'lgpl': 1, 'way': 1, 'type': 1, 'task': 1, 'back': 1, 'becaus': 1, 'javadoc': 1, 'mean': 1, 'provid': 1, 'me': 1, 'numberrd': 1, 'parti': 1, 'cpan': 1, 'also': 1, 'realli': 1, 'passion': 1, 'up': 1, 'most': 1, 'exactli': 1, 'reason': 1, 'take': 1, 'recent': 1, 'cbc': 1, 'olymp': 1, 'site': 1, 'roll': 1, 'togeth': 1, 'telnet': 1, 'client': 1, 'token': 1, 'regex': 1, 'preprocess': 1, 'produc': 1, 'parseabl': 1, 'dtd': 1, 'gener': 1, 'schema': 1, 'open': 1, 'xmlrpc': 1, 'interfac': 1, 'item': 1, 'news': 1, 'compon': 1, 'webserv': 1, 'multithread': 1, 'spawn': 1, 'persist': 1, 'data': 1, 'cach': 1, 'period': 1, 'refresh': 1, 'themselv': 1, 'over': 1, 'connect': 1, 'present': 1, 'retreiv': 1, 'valu': 1, 'xslt': 1, 'defin': 1, 'transform': 1, 'again': 1, 'stuff': 1, 'langaug': 1, 'wombat': 1, 'spec': 1, 'wa': 1, 'invit': 1, 'readi': 1, 'prime': 1, 're': 1, 'invent': 1, 'entir': 1, 'feasibl': 1, 'programm': 1, 'insid': 1, 'week': 1, 'when': 1, 'place': 1, 'standard': 1, 'base': 1, 'odbc': 1, 'how': 1, 'evalu': 1, 'these': 1, 'thing': 1, 'without': 1, 'fetch': 1, 'tri': 1, 'out': 1, 'univers': 1, 'd': 1, 'ocaml': 1, 'rubi': 1, 'don': 1, 'see': 1, 'social': 1, 'infrastructur': 1, 'either': 1, 'happen': 1, 'dure': 1, 'my': 1, 'profession': 1, 'lifetim': 1, 'whi': 1, 'mani': 1, 'outsid': 1, 'sun': 1, 'market': 1, 'depart': 1, 'consid': 1, 'onc': 1, 'debug': 1, 'everywher': 1, 'collegu': 1, 'cogno': 1, 'henk': 1, 'call': 1, 'nearli': 1, 'assembl': 1, 'gari': 1, 'lawrenc': 1, 'murphi': 1, 'garym': 1, 'teledyn': 1, 'com': 1, 'teledynam': 1, 'inc': 1, 'advantag': 1, 'softwar': 1, 'url': 1, 'comput': 1, 'useless': 1, 'they': 1, 'give': 1, 'answer': 1, 'pablo': 1, 'picasso': 1}),\n",
       "       Counter({'number': 24, 'free': 17, 'the': 13, 'membership': 13, 'for': 12, 'and': 12, 'to': 11, 'you': 10, 'a': 8, 'site': 8, 'url': 8, 'lifetim': 8, 'adult': 7, 'of': 7, 'have': 7, 'are': 6, 'your': 5, 'get': 5, 'q': 5, 'i': 5, 'do': 5, 'live': 5, 'sex': 5, 'is': 4, 'best': 4, 'in': 4, 'girl': 4, 'just': 4, 'my': 4, 'porn': 4, 'receiv': 4, 'new': 3, 'org': 3, 'xxx': 3, 'offer': 3, 'access': 3, 'all': 3, 'it': 3, 'freaki': 3, 'on': 3, 'member': 3, 'that': 3, 'one': 3, 'our': 3, 'advertis': 3, 'pay': 3, 't': 3, 'they': 3, 'show': 3, 'account': 2, 'zzzz': 2, 'spamassassin': 2, 'taint': 2, 'link': 2, 'entertain': 2, 'now': 2, 'user': 2, 'name': 2, 'password': 2, 'out': 2, 'farm': 2, 'anim': 2, 'internet': 2, 'with': 2, 'over': 2, 'million': 2, 'sign': 2, 'up': 2, 'last': 2, 'them': 2, 'ad': 2, 'don': 2, 'absolut': 2, 'if': 2, 'celeb': 2, 'cam': 2, 'remov': 2, 'opt': 2, 'email': 2, 'non': 1, 'profit': 1, 'organ': 1, 'instant': 1, 'test': 1, 'news': 1, 'month': 1, 'there': 1, 'were': 1, 'yet': 1, 'faq': 1, 'whi': 1, 'me': 1, 'space': 1, 'so': 1, 'true': 1, 'life': 1, 'll': 1, 'never': 1, 'cent': 1, 'can': 1, 'give': 1, 'friend': 1, 'famili': 1, 'ye': 1, 'as': 1, 'long': 1, 'age': 1, 'no': 1, 'how': 1, 'start': 1, 'click': 1, 'follow': 1, 'below': 1, 'becom': 1, 'these': 1, 'multi': 1, 'dollar': 1, 'oper': 1, 'polici': 1, 'rule': 1, 'fill': 1, 'requir': 1, 'info': 1, 'won': 1, 'charg': 1, 'pass': 1, 'believ': 1, 'us': 1, 'read': 1, 'their': 1, 'term': 1, 'condit': 1, 'sexi': 1, 'thousand': 1, 'play': 1, 'hous': 1, 'feed': 1, 'from': 1, 'web': 1, 'asian': 1, 'fantasi': 1, 'japanes': 1, 'schoolgirl': 1, 'lesbian': 1, 'lace': 1, 'today': 1, 'mage': 1, 'pic': 1, 'movi': 1, 'jennif': 1, 'simpson': 1, 'miami': 1, 'fl': 1, 'ha': 1, 'boyffriend': 1, 'two': 1, 'year': 1, 'net': 1, 'joe': 1, 'morgan': 1, 'manhattan': 1, 'ny': 1, 'unbeliev': 1, 'part': 1, 'about': 1, 're': 1, 'instruct': 1, 'thi': 1, 'becaus': 1, 'special': 1, 'through': 1, 'affili': 1, 'websit': 1, 'not': 1, 'wish': 1, 'further': 1, 'or': 1, 'error': 1, 'may': 1, 'databas': 1, 'here': 1, 'pleas': 1, 'allow': 1, 'hour': 1, 'mdnfhmobawljhlqtotlhpikemcywuc': 1})],\n",
       "      dtype=object)"
      ]
     },
     "execution_count": 60,
     "metadata": {},
     "output_type": "execute_result"
    }
   ],
   "source": [
    "X_few = X_train[:3]\n",
    "X_few_wordcounts = EmailToWordCounterTransformer().fit_transform(X_few)\n",
    "X_few_wordcounts"
   ]
  },
  {
   "cell_type": "markdown",
   "metadata": {},
   "source": [
    "## Convert words into vectors"
   ]
  },
  {
   "cell_type": "code",
   "execution_count": 61,
   "metadata": {},
   "outputs": [],
   "source": [
    "from scipy.sparse import csr_matrix\n",
    "\n",
    "class WordCounterToVectorTransformer(BaseEstimator, TransformerMixin):\n",
    "    \n",
    "    def __init__(self, vocabulary_size=3000):\n",
    "        self.vocabulary_size = vocabulary_size\n",
    "        \n",
    "    def fit(self, X, y=None):\n",
    "        total_count = Counter()\n",
    "        for word_count in X:\n",
    "            for word, count in word_count.items():\n",
    "                total_count[word] += min(count, 10)\n",
    "        most_common = total_count.most_common()[:self.vocabulary_size]\n",
    "        self.most_common_ = most_common\n",
    "        self.vocabulary_ = {word: index + 1 for index, (word, count) in enumerate(most_common)}\n",
    "        return self\n",
    "    \n",
    "    def transform(self, X, y=None):\n",
    "        rows = []\n",
    "        cols = []\n",
    "        data = []\n",
    "        for row, word_count in enumerate(X):\n",
    "            for word, count in word_count.items():\n",
    "                rows.append(row)\n",
    "                cols.append(self.vocabulary_.get(word, 0))\n",
    "                data.append(count)\n",
    "        return csr_matrix((data, (rows, cols)), shape=(len(X), self.vocabulary_size + 1))"
   ]
  },
  {
   "cell_type": "code",
   "execution_count": 62,
   "metadata": {},
   "outputs": [
    {
     "data": {
      "text/plain": [
       "<3x11 sparse matrix of type '<class 'numpy.intc'>'\n",
       "\twith 32 stored elements in Compressed Sparse Row format>"
      ]
     },
     "execution_count": 62,
     "metadata": {},
     "output_type": "execute_result"
    }
   ],
   "source": [
    "vocab_transformer = WordCounterToVectorTransformer(vocabulary_size=10)\n",
    "X_few_vectors = vocab_transformer.fit_transform(X_few_wordcounts)\n",
    "X_few_vectors"
   ]
  },
  {
   "cell_type": "code",
   "execution_count": 63,
   "metadata": {},
   "outputs": [
    {
     "data": {
      "text/plain": [
       "array([[281,  13,  11,  14,   7,   5,   7,   9,   5,   5,   0],\n",
       "       [469,  18,  21,   8,  13,  15,  12,   4,  10,   6,  19],\n",
       "       [352,  11,  13,  10,  12,  12,   7,  24,   8,   4,   5]],\n",
       "      dtype=int32)"
      ]
     },
     "execution_count": 63,
     "metadata": {},
     "output_type": "execute_result"
    }
   ],
   "source": [
    "X_few_vectors.toarray()"
   ]
  },
  {
   "cell_type": "code",
   "execution_count": 64,
   "metadata": {},
   "outputs": [
    {
     "data": {
      "text/plain": [
       "{'to': 1,\n",
       " 'the': 2,\n",
       " 'you': 3,\n",
       " 'and': 4,\n",
       " 'for': 5,\n",
       " 'of': 6,\n",
       " 'number': 7,\n",
       " 'a': 8,\n",
       " 'in': 9,\n",
       " 'i': 10}"
      ]
     },
     "execution_count": 64,
     "metadata": {},
     "output_type": "execute_result"
    }
   ],
   "source": [
    "vocab_transformer.vocabulary_"
   ]
  },
  {
   "cell_type": "markdown",
   "metadata": {},
   "source": [
    "## Pipeline"
   ]
  },
  {
   "cell_type": "code",
   "execution_count": 65,
   "metadata": {},
   "outputs": [],
   "source": [
    "from sklearn.pipeline import Pipeline\n",
    "\n",
    "preprocess_pipeline = Pipeline([\n",
    "    (\"email_to_wordcount\", EmailToWordCounterTransformer()),\n",
    "    (\"wordcount_to_vector\", WordCounterToVectorTransformer()),\n",
    "])\n",
    "\n",
    "X_train_transformed = preprocess_pipeline.fit_transform(X_train)"
   ]
  },
  {
   "cell_type": "code",
   "execution_count": 66,
   "metadata": {},
   "outputs": [
    {
     "name": "stderr",
     "output_type": "stream",
     "text": [
      "[Parallel(n_jobs=1)]: Using backend SequentialBackend with 1 concurrent workers.\n"
     ]
    },
    {
     "name": "stdout",
     "output_type": "stream",
     "text": [
      "[CV]  ................................................................\n"
     ]
    },
    {
     "name": "stderr",
     "output_type": "stream",
     "text": [
      "D:\\anacondaz\\lib\\site-packages\\sklearn\\svm\\_base.py:947: ConvergenceWarning: Liblinear failed to converge, increase the number of iterations.\n",
      "  \"the number of iterations.\", ConvergenceWarning)\n",
      "[Parallel(n_jobs=1)]: Done   1 out of   1 | elapsed:    0.1s remaining:    0.0s\n",
      "[Parallel(n_jobs=1)]: Done   2 out of   2 | elapsed:    0.2s remaining:    0.0s\n"
     ]
    },
    {
     "name": "stdout",
     "output_type": "stream",
     "text": [
      "[CV] .................................... , score=0.991, total=   0.2s\n",
      "[CV]  ................................................................\n",
      "[CV] .................................... , score=0.979, total=   0.1s\n",
      "[CV]  ................................................................\n",
      "[CV] .................................... , score=0.988, total=   0.2s\n"
     ]
    },
    {
     "name": "stderr",
     "output_type": "stream",
     "text": [
      "[Parallel(n_jobs=1)]: Done   3 out of   3 | elapsed:    0.4s finished\n"
     ]
    },
    {
     "data": {
      "text/plain": [
       "0.9858333333333333"
      ]
     },
     "execution_count": 66,
     "metadata": {},
     "output_type": "execute_result"
    }
   ],
   "source": [
    "from sklearn.linear_model import LogisticRegression\n",
    "from sklearn.model_selection import cross_val_score\n",
    "\n",
    "log_clf = LogisticRegression(solver=\"liblinear\", random_state=42)\n",
    "score = cross_val_score(log_clf, X_train_transformed, y_train, cv=3, verbose=3)\n",
    "score.mean()"
   ]
  },
  {
   "cell_type": "code",
   "execution_count": 67,
   "metadata": {},
   "outputs": [
    {
     "name": "stdout",
     "output_type": "stream",
     "text": [
      "Precision: 98.77%\n",
      "Recall: 96.39%\n"
     ]
    }
   ],
   "source": [
    "from sklearn.metrics import precision_score, recall_score\n",
    "\n",
    "X_test_transformed = preprocess_pipeline.transform(X_test)\n",
    "\n",
    "log_clf = LogisticRegression(solver=\"liblinear\", random_state=42)\n",
    "log_clf.fit(X_train_transformed, y_train)\n",
    "\n",
    "y_pred = log_clf.predict(X_test_transformed)\n",
    "\n",
    "print(\"Precision: {:.2f}%\".format(100 * precision_score(y_test, y_pred)))\n",
    "print(\"Recall: {:.2f}%\".format(100 * recall_score(y_test, y_pred)))"
   ]
  }
 ],
 "metadata": {
  "kernelspec": {
   "display_name": "Python 3",
   "language": "python",
   "name": "python3"
  },
  "language_info": {
   "codemirror_mode": {
    "name": "ipython",
    "version": 3
   },
   "file_extension": ".py",
   "mimetype": "text/x-python",
   "name": "python",
   "nbconvert_exporter": "python",
   "pygments_lexer": "ipython3",
   "version": "3.7.6"
  }
 },
 "nbformat": 4,
 "nbformat_minor": 4
}
